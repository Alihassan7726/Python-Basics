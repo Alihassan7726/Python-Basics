{
 "cells": [
  {
   "cell_type": "code",
   "execution_count": 37,
   "metadata": {},
   "outputs": [],
   "source": [
    "### Below there are some loops problems . I've solved\n",
    "# Split() method is used to split a string into a list , By default it splits by spaces\n",
    "# Below there are 2 progrms to check prime numbers\n",
    "# Below last program is to check symmetric matrix"
   ]
  },
  {
   "cell_type": "code",
   "execution_count": 9,
   "metadata": {},
   "outputs": [
    {
     "name": "stdout",
     "output_type": "stream",
     "text": [
      "even\n",
      "1\n",
      "even\n",
      "3\n",
      "even\n",
      "half\n",
      "even\n",
      "7\n",
      "even\n",
      "end\n"
     ]
    }
   ],
   "source": [
    "i = 10\n",
    "for x in range(0,i):\n",
    "    if x%2 == 0:\n",
    "        print('even')\n",
    "    elif x == 5:\n",
    "        print('half')\n",
    "    elif x == i-1:\n",
    "        print('end')\n",
    "    else:\n",
    "        print(x)"
   ]
  },
  {
   "cell_type": "code",
   "execution_count": 2,
   "metadata": {},
   "outputs": [
    {
     "ename": "NameError",
     "evalue": "name 'x' is not defined",
     "output_type": "error",
     "traceback": [
      "\u001b[1;31m---------------------------------------------------------------------------\u001b[0m",
      "\u001b[1;31mNameError\u001b[0m                                 Traceback (most recent call last)",
      "\u001b[1;32m<ipython-input-2-ae363cf87c7a>\u001b[0m in \u001b[0;36m<module>\u001b[1;34m\u001b[0m\n\u001b[0;32m      1\u001b[0m \u001b[1;31m# While loops cannot be used with lists . It is used with strings\u001b[0m\u001b[1;33m\u001b[0m\u001b[1;33m\u001b[0m\u001b[1;33m\u001b[0m\u001b[0m\n\u001b[0;32m      2\u001b[0m \u001b[0mali\u001b[0m \u001b[1;33m=\u001b[0m \u001b[1;34m'name'\u001b[0m\u001b[1;33m\u001b[0m\u001b[1;33m\u001b[0m\u001b[0m\n\u001b[1;32m----> 3\u001b[1;33m \u001b[1;32mwhile\u001b[0m \u001b[0mx\u001b[0m \u001b[1;32min\u001b[0m \u001b[0mali\u001b[0m\u001b[1;33m:\u001b[0m\u001b[1;33m\u001b[0m\u001b[1;33m\u001b[0m\u001b[0m\n\u001b[0m\u001b[0;32m      4\u001b[0m         \u001b[0mprint\u001b[0m\u001b[1;33m(\u001b[0m\u001b[0msmaller\u001b[0m\u001b[1;33m)\u001b[0m\u001b[1;33m\u001b[0m\u001b[1;33m\u001b[0m\u001b[0m\n\u001b[0;32m      5\u001b[0m \u001b[1;33m\u001b[0m\u001b[0m\n",
      "\u001b[1;31mNameError\u001b[0m: name 'x' is not defined"
     ]
    }
   ],
   "source": [
    "# While loops cannot be used with lists . It is used with strings\n",
    "ali = 'name'\n",
    "while x in ali:\n",
    "        print(smaller)\n",
    "        \n",
    "    \n",
    "    "
   ]
  },
  {
   "cell_type": "code",
   "execution_count": 17,
   "metadata": {},
   "outputs": [
    {
     "name": "stdout",
     "output_type": "stream",
     "text": [
      "smaller\n",
      "smaller\n",
      "smaller\n",
      "smaller\n",
      "equal\n"
     ]
    }
   ],
   "source": [
    "# For loops are used for iterating over seqences\n",
    "for x in ali:\n",
    "    if x < ali[-1]:\n",
    "        print('smaller')\n",
    "    else:\n",
    "        print('equal')"
   ]
  },
  {
   "cell_type": "code",
   "execution_count": 19,
   "metadata": {},
   "outputs": [
    {
     "name": "stdout",
     "output_type": "stream",
     "text": [
      "0 1\n",
      "1 2\n",
      "2 3\n",
      "3 4\n",
      "4 5\n"
     ]
    }
   ],
   "source": [
    "enm = enumerate(ali)\n",
    "for i,j in enm:\n",
    "    print(i,j)"
   ]
  },
  {
   "cell_type": "code",
   "execution_count": 20,
   "metadata": {},
   "outputs": [
    {
     "name": "stdout",
     "output_type": "stream",
     "text": [
      "1\n",
      "2\n",
      "3\n",
      "4\n",
      "5\n",
      "6\n",
      "7\n"
     ]
    }
   ],
   "source": [
    "# Can use Break and Continue statemnets in loops also in the same method\n",
    "for x in range(1,10):\n",
    "    if x ==  8:\n",
    "        break\n",
    "    else:\n",
    "        print(x)\n",
    "# Same for Continue statement"
   ]
  },
  {
   "cell_type": "code",
   "execution_count": 3,
   "metadata": {},
   "outputs": [
    {
     "name": "stdout",
     "output_type": "stream",
     "text": [
      "1 10\n",
      "2 20\n",
      "3 30\n",
      "name Ali\n",
      "[1, 2, 3, 4, 5]\n"
     ]
    }
   ],
   "source": [
    "# For loop can be used with all data structures\n",
    "list = [1,2,3,4,5]\n",
    "set = {6,7,8,9,10}\n",
    "tuple = (11,12,13,14,15)\n",
    "dic = {1:10,2:20,3:30,'name':'Ali'}\n",
    "for i,j in dic.items():\n",
    "    print(i,j)\n",
    "print(list)"
   ]
  },
  {
   "cell_type": "code",
   "execution_count": 12,
   "metadata": {},
   "outputs": [
    {
     "name": "stdout",
     "output_type": "stream",
     "text": [
      "0\n",
      "1\n",
      "2\n",
      "3\n",
      "4\n",
      "5\n",
      "6\n",
      "7\n",
      "8\n",
      "9\n",
      "10\n"
     ]
    }
   ],
   "source": [
    "x = 0\n",
    "while x in range(0,11):\n",
    "    print(x)\n",
    "    x += 1"
   ]
  },
  {
   "cell_type": "code",
   "execution_count": null,
   "metadata": {},
   "outputs": [
    {
     "name": "stdout",
     "output_type": "stream",
     "text": [
      "Enter a list element separated by space 1 2 3 4.4 bepec ali\n",
      "1 2 3 4.4 bepec ali\n",
      "['1', '2', '3', '4.4', 'bepec', 'ali']\n"
     ]
    }
   ],
   "source": [
    "#Take inputs from user to make a list. Again take one input from user and search it in the list and delete that element,\n",
    "#if found. Iterate over list using for loop.\n",
    "input_string = input(\"Enter a list element separated by space \")\n",
    "print(input_string)\n",
    "list  = input_string.split() #It is used to return a list of words in the string\n",
    "print(list)\n",
    "del_ele = input(\"Enter element to delete \")\n",
    "if del_ele in list:\n",
    "    list.remove(del_ele)\n",
    "print(list)"
   ]
  },
  {
   "cell_type": "code",
   "execution_count": 27,
   "metadata": {},
   "outputs": [
    {
     "name": "stdout",
     "output_type": "stream",
     "text": [
      "enter family memebers separated by comma :ali@hassan@ahmad@abdullah\n",
      "ali@hassan@ahmad@abdullah\n",
      "['ali', 'hassan', 'ahmad', 'abdullah']\n"
     ]
    }
   ],
   "source": [
    "# Accepting a list of string from user\n",
    "input_string = input('enter family memebers separated by comma :')\n",
    "print(input_string)\n",
    "list = input_string.split('@')\n",
    "print(list)"
   ]
  },
  {
   "cell_type": "code",
   "execution_count": 29,
   "metadata": {},
   "outputs": [
    {
     "name": "stdout",
     "output_type": "stream",
     "text": [
      "[12, 24, 36, 48, 60, 72, 84, 96, 108, 120]\n"
     ]
    }
   ],
   "source": [
    "list = []\n",
    "x = 1\n",
    "while x < 11:\n",
    "    mul = 12 * x\n",
    "    list.append(mul)\n",
    "    x += 1\n",
    "print(list)"
   ]
  },
  {
   "cell_type": "code",
   "execution_count": 34,
   "metadata": {},
   "outputs": [
    {
     "name": "stdout",
     "output_type": "stream",
     "text": [
      "[14, 28, 42, 56, 70, 84, 98, 112, 126, 140]\n"
     ]
    }
   ],
   "source": [
    "list2 = []\n",
    "x = 2\n",
    "for ele in list:\n",
    "    num = ele + x\n",
    "    list2.append(num)\n",
    "    x += 2\n",
    "print(list2)"
   ]
  },
  {
   "cell_type": "code",
   "execution_count": 35,
   "metadata": {},
   "outputs": [
    {
     "name": "stdout",
     "output_type": "stream",
     "text": [
      "Enter list lenght :5\n",
      "enter element  :1\n",
      "enter element  :2\n",
      "enter element  :3\n",
      "enter element  :ali\n",
      "enter element  :5.5\n",
      "['1', '2', '3', 'ali', '5.5']\n"
     ]
    }
   ],
   "source": [
    "num = int(input(\"Enter list lenght :\"))\n",
    "list1 = []\n",
    "for i in range(0,num):\n",
    "    ele = input(\"enter element  :\")\n",
    "    list1.append(ele)\n",
    "print(list1)"
   ]
  },
  {
   "cell_type": "code",
   "execution_count": 39,
   "metadata": {},
   "outputs": [
    {
     "name": "stdout",
     "output_type": "stream",
     "text": [
      "2\n",
      "3\n",
      "ali\n",
      "[2, 3]\n"
     ]
    }
   ],
   "source": [
    "# try block to handle the exception \n",
    "try:\n",
    "    my_list = []    \n",
    "    while True: \n",
    "        my_list.append(int(input()))        \n",
    "# if input is not-integer, just print the list \n",
    "except: \n",
    "    print(my_list)"
   ]
  },
  {
   "cell_type": "code",
   "execution_count": 40,
   "metadata": {},
   "outputs": [
    {
     "name": "stdout",
     "output_type": "stream",
     "text": [
      "[1, 4, 9, 16, 25]\n"
     ]
    }
   ],
   "source": [
    "#You are given with a list of integer elements. Make a new list which will store square of elements of previous list.\n",
    "list1 = [1,2,3,4,5]\n",
    "list2 = []\n",
    "for i in list1:\n",
    "    list2.append(i**2)\n",
    "print(list2)"
   ]
  },
  {
   "cell_type": "code",
   "execution_count": 47,
   "metadata": {},
   "outputs": [
    {
     "name": "stdout",
     "output_type": "stream",
     "text": [
      "Please declare lists first !\n"
     ]
    }
   ],
   "source": [
    "#Using range(1,101), make two list, one containing all even numbers and other containing all odd numbers.\n",
    "\n",
    "try:\n",
    "    for i in range(1,101):\n",
    "        if i%2 == 0:\n",
    "            l1.append(i)\n",
    "        else:\n",
    "            l2.append(i)\n",
    "    print(l1)\n",
    "    print(l2)\n",
    "except:\n",
    "    print(\"Please declare lists first !\")"
   ]
  },
  {
   "cell_type": "code",
   "execution_count": 48,
   "metadata": {},
   "outputs": [
    {
     "name": "stdout",
     "output_type": "stream",
     "text": [
      "[2, 4, 6, 8, 10, 12, 14, 16, 18, 20, 22, 24, 26, 28, 30, 32, 34, 36, 38, 40, 42, 44, 46, 48, 50, 52, 54, 56, 58, 60, 62, 64, 66, 68, 70, 72, 74, 76, 78, 80, 82, 84, 86, 88, 90, 92, 94, 96, 98, 100]\n",
      "[1, 3, 5, 7, 9, 11, 13, 15, 17, 19, 21, 23, 25, 27, 29, 31, 33, 35, 37, 39, 41, 43, 45, 47, 49, 51, 53, 55, 57, 59, 61, 63, 65, 67, 69, 71, 73, 75, 77, 79, 81, 83, 85, 87, 89, 91, 93, 95, 97, 99]\n"
     ]
    }
   ],
   "source": [
    "l1 = []\n",
    "l2 = []\n",
    "for i in range(1,101):\n",
    "        if i%2 == 0:\n",
    "            l1.append(i)\n",
    "        else:\n",
    "            l2.append(i)\n",
    "print(l1)\n",
    "print(l2)"
   ]
  },
  {
   "cell_type": "code",
   "execution_count": 51,
   "metadata": {},
   "outputs": [
    {
     "name": "stdout",
     "output_type": "stream",
     "text": [
      "[4, 6, 8, 10, 12, 16, 18, 20, 24, 28, 30, 32, 36, 40, 42, 44, 48, 50, 52, 54, 56, 60, 64, 66, 68, 70, 72, 76, 78, 80, 84, 88, 90, 92, 96, 100]\n"
     ]
    }
   ],
   "source": [
    "#From the two list obtained in previous question, make new lists, containing only numbers \n",
    "#which are divisible by 4, 6, 8, 10, 3, 5, 7 and 9 in separate lists.\n",
    "\n",
    "l3 = []\n",
    "l4 = []\n",
    "for i in l1:\n",
    "    if i%4 == 0 or i%6 == 0 or i%8 == 0 or i%10 == 0:\n",
    "        l3.append(i)\n",
    "print(l3)"
   ]
  },
  {
   "cell_type": "code",
   "execution_count": 62,
   "metadata": {},
   "outputs": [
    {
     "name": "stdout",
     "output_type": "stream",
     "text": [
      "[1, 2, 3, 4, 5, 5.5, 6.5, 7.5, 'ali', 'bepec']\n",
      "[1, 2, 3, 4, 5]\n",
      "[5.5, 6.5, 7.5]\n",
      "['ali', 'bepec']\n"
     ]
    }
   ],
   "source": [
    "#From a list containing ints, strings and floats, make three lists to store them separately.\n",
    "inte = [] \n",
    "flo = [] \n",
    "stri = []\n",
    "l1 = [1,2,3,4,5,5.5,6.5,7.5,'ali','bepec']\n",
    "print(l1)\n",
    "for i in l1:\n",
    "    if isinstance(i,int):\n",
    "        inte.append(i)\n",
    "    if isinstance(i,float):\n",
    "        flo.append(i)\n",
    "    if isinstance(i,str):\n",
    "        stri.append(i)\n",
    "print(inte)\n",
    "print(flo)\n",
    "print(stri)"
   ]
  },
  {
   "cell_type": "code",
   "execution_count": 5,
   "metadata": {},
   "outputs": [
    {
     "name": "stdout",
     "output_type": "stream",
     "text": [
      "Enter number of elements : 3\n",
      "23\n",
      "4\n",
      "5\n",
      "5\n",
      "5\n",
      "5\n",
      "[['23', 4], ['5', 5], ['5', 5]]\n"
     ]
    }
   ],
   "source": [
    "# It is inputting first element as 'string' and second as 'integer'\n",
    "lst = [ ]\n",
    "n = int(input(\"Enter number of elements : \"))\n",
    "for i in range(0, n):\n",
    "    ele = [input(),int(input())]\n",
    "    lst.append(ele)\n",
    "print(lst)"
   ]
  },
  {
   "cell_type": "code",
   "execution_count": 6,
   "metadata": {},
   "outputs": [
    {
     "name": "stdout",
     "output_type": "stream",
     "text": [
      "Not a prime \n"
     ]
    }
   ],
   "source": [
    "##### Checking prime numbers.\n",
    "i = 15\n",
    "j = 2\n",
    "count = 0\n",
    "while j <= i:\n",
    "    if i%j == 0:\n",
    "        count += 1\n",
    "    j += 1\n",
    "if count > 1:\n",
    "    print(\"Not a prime \")\n",
    "else:\n",
    "    print(\"Prime number.\")"
   ]
  },
  {
   "cell_type": "code",
   "execution_count": null,
   "metadata": {},
   "outputs": [],
   "source": [
    "#Using range(1,101), make a list containing only prime numbers.\n",
    "prime = []\n",
    "for x in range(1,101):\n",
    "    j = 2\n",
    "    incnt = 0\n",
    "    while j <= x:\n",
    "        if x%j == 0:\n",
    "            incnt += 1\n",
    "        j += 1\n",
    "    if incnt == 1:\n",
    "        prime.append(x)\n",
    "print(prime)"
   ]
  },
  {
   "cell_type": "code",
   "execution_count": 7,
   "metadata": {},
   "outputs": [
    {
     "name": "stdout",
     "output_type": "stream",
     "text": [
      "False\n"
     ]
    }
   ],
   "source": [
    "\"\"\"Initialize a 2D list of 3*3 matrix. E.g.-\n",
    "1\t2\t3\n",
    "4\t5\t6\n",
    "7\t8\t9\n",
    "\n",
    "Check if the matrix is symmetric or not.\n",
    "\"\"\"\n",
    "a = [[1,2,3],[4,5,6],[7,8,9]]\n",
    "sym = True\n",
    "for i in range(0,3):\n",
    "  for j in range(0,3):\n",
    "    if a[i][j]!=a[j][i]:\n",
    "      sym = False\n",
    "print (sym)"
   ]
  },
  {
   "cell_type": "code",
   "execution_count": null,
   "metadata": {},
   "outputs": [],
   "source": []
  }
 ],
 "metadata": {
  "kernelspec": {
   "display_name": "Python 3",
   "language": "python",
   "name": "python3"
  },
  "language_info": {
   "codemirror_mode": {
    "name": "ipython",
    "version": 3
   },
   "file_extension": ".py",
   "mimetype": "text/x-python",
   "name": "python",
   "nbconvert_exporter": "python",
   "pygments_lexer": "ipython3",
   "version": "3.8.5"
  }
 },
 "nbformat": 4,
 "nbformat_minor": 4
}
