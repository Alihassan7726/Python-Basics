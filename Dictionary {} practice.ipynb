{
 "cells": [
  {
   "cell_type": "code",
   "execution_count": null,
   "metadata": {},
   "outputs": [],
   "source": [
    "# Dictionary can remove at a time one value using pop() or del , But you can use a loop.\n",
    "# To add multiple values for a key It's simple using update()\n",
    "# To add multiple key:value pairs It's also simple using update([(key,value),(key,value),(key,value)]) , within update a list of \n",
    "# different tuples indicating a separate key value pair"
   ]
  },
  {
   "cell_type": "code",
   "execution_count": 1,
   "metadata": {},
   "outputs": [
    {
     "name": "stdout",
     "output_type": "stream",
     "text": [
      "{'name': 'Ali Hassan', 'age': 19, 'gender': 'male', 26: 'id'}\n"
     ]
    },
    {
     "data": {
      "text/plain": [
       "dict"
      ]
     },
     "execution_count": 1,
     "metadata": {},
     "output_type": "execute_result"
    }
   ],
   "source": [
    "ali = {'name':'Ali Hassan','age':19,'gender':'male',26:'id'}\n",
    "print(ali)\n",
    "type(ali)"
   ]
  },
  {
   "cell_type": "code",
   "execution_count": 4,
   "metadata": {},
   "outputs": [
    {
     "name": "stdout",
     "output_type": "stream",
     "text": [
      "male\n",
      "id\n"
     ]
    }
   ],
   "source": [
    "# Simple Accesing of keys\n",
    "print(ali['gender'])\n",
    "print(ali[26])"
   ]
  },
  {
   "cell_type": "code",
   "execution_count": 6,
   "metadata": {},
   "outputs": [
    {
     "data": {
      "text/plain": [
       "'Ali Hassan'"
      ]
     },
     "execution_count": 6,
     "metadata": {},
     "output_type": "execute_result"
    }
   ],
   "source": [
    "# Accesing using get() method\n",
    "ali.get('name')"
   ]
  },
  {
   "cell_type": "code",
   "execution_count": 7,
   "metadata": {},
   "outputs": [
    {
     "name": "stdout",
     "output_type": "stream",
     "text": [
      "{'name': 'Ali Hassan', 'age': 20, 'gender': 'male', 26: 'id', 'email': 'abdulla...@gmail.com'}\n"
     ]
    }
   ],
   "source": [
    "# Changing Value and assigning a new key:value pair\n",
    "ali['age'] = 20\n",
    "ali['email'] = 'abdulla...@gmail.com'\n",
    "print(ali)"
   ]
  },
  {
   "cell_type": "code",
   "execution_count": 8,
   "metadata": {},
   "outputs": [
    {
     "name": "stdout",
     "output_type": "stream",
     "text": [
      "id\n",
      "male\n",
      "('email', 'abdulla...@gmail.com')\n"
     ]
    },
    {
     "data": {
      "text/plain": [
       "{'name': 'Ali Hassan', 'age': 20}"
      ]
     },
     "execution_count": 8,
     "metadata": {},
     "output_type": "execute_result"
    }
   ],
   "source": [
    "# Removing using pop() and popitem()\n",
    "print(ali.pop(26))\n",
    "print(ali.pop('gender'))\n",
    "print(ali.popitem())\n",
    "ali"
   ]
  },
  {
   "cell_type": "code",
   "execution_count": 10,
   "metadata": {},
   "outputs": [
    {
     "name": "stdout",
     "output_type": "stream",
     "text": [
      "{}\n"
     ]
    }
   ],
   "source": [
    "# Clear() method\n",
    "ali.clear()\n",
    "print(ali)"
   ]
  },
  {
   "cell_type": "code",
   "execution_count": 11,
   "metadata": {},
   "outputs": [
    {
     "ename": "NameError",
     "evalue": "name 'ali' is not defined",
     "output_type": "error",
     "traceback": [
      "\u001b[1;31m---------------------------------------------------------------------------\u001b[0m",
      "\u001b[1;31mNameError\u001b[0m                                 Traceback (most recent call last)",
      "\u001b[1;32m<ipython-input-11-e8af0b8af228>\u001b[0m in \u001b[0;36m<module>\u001b[1;34m\u001b[0m\n\u001b[0;32m      1\u001b[0m \u001b[1;32mdel\u001b[0m \u001b[0mali\u001b[0m\u001b[1;33m\u001b[0m\u001b[1;33m\u001b[0m\u001b[0m\n\u001b[1;32m----> 2\u001b[1;33m \u001b[0mprint\u001b[0m\u001b[1;33m(\u001b[0m\u001b[0mali\u001b[0m\u001b[1;33m)\u001b[0m\u001b[1;33m\u001b[0m\u001b[1;33m\u001b[0m\u001b[0m\n\u001b[0m",
      "\u001b[1;31mNameError\u001b[0m: name 'ali' is not defined"
     ]
    }
   ],
   "source": [
    "del ali\n",
    "print(ali)"
   ]
  },
  {
   "cell_type": "code",
   "execution_count": 13,
   "metadata": {},
   "outputs": [
    {
     "name": "stdout",
     "output_type": "stream",
     "text": [
      "{'name': 'Ali Hassan', 'age': 20, 'gender': 'male', 26: 'id', 'email': 'abdulla...@gmail.com'}\n",
      "dict_keys(['name', 'age', 'gender', 26, 'email'])\n",
      "dict_values(['Ali Hassan', 20, 'male', 'id', 'abdulla...@gmail.com'])\n"
     ]
    }
   ],
   "source": [
    "# keys() method to display all keys and Values() method to display all values\n",
    "ali = {'name': 'Ali Hassan', 'age': 20, 'gender': 'male', 26: 'id', 'email': 'abdulla...@gmail.com'}\n",
    "print(ali)\n",
    "print(ali.keys())\n",
    "print(ali.values())"
   ]
  },
  {
   "cell_type": "code",
   "execution_count": 14,
   "metadata": {},
   "outputs": [
    {
     "data": {
      "text/plain": [
       "dict_items([('name', 'Ali Hassan'), ('age', 20), ('gender', 'male'), (26, 'id'), ('email', 'abdulla...@gmail.com')])"
      ]
     },
     "execution_count": 14,
     "metadata": {},
     "output_type": "execute_result"
    }
   ],
   "source": [
    "# items() method for all key:Value pairs\n",
    "ali.items()"
   ]
  },
  {
   "cell_type": "code",
   "execution_count": 22,
   "metadata": {},
   "outputs": [],
   "source": [
    "# Not used yet\n",
    "ali.update()"
   ]
  },
  {
   "cell_type": "code",
   "execution_count": 27,
   "metadata": {},
   "outputs": [
    {
     "name": "stdout",
     "output_type": "stream",
     "text": [
      "Ali Hassan\n"
     ]
    }
   ],
   "source": [
    "# Setdefault() returns the value of specific key.\n",
    "ali.setdefault('name')\n"
   ]
  },
  {
   "cell_type": "code",
   "execution_count": 26,
   "metadata": {},
   "outputs": [],
   "source": [
    "ali.setdefault('address')"
   ]
  },
  {
   "cell_type": "code",
   "execution_count": 29,
   "metadata": {},
   "outputs": [
    {
     "name": "stdout",
     "output_type": "stream",
     "text": [
      "Ali Hassan\n",
      "Ali Hassan\n"
     ]
    }
   ],
   "source": [
    "print(ali.get('name'))\n",
    "print(ali['name'])"
   ]
  },
  {
   "cell_type": "code",
   "execution_count": 30,
   "metadata": {},
   "outputs": [
    {
     "name": "stdout",
     "output_type": "stream",
     "text": [
      "{'name': 'Ali Hassan', 'age': 20, 'gender': 'male', 26: 'id', 'email': 'abdulla...@gmail.com', 'address': None}\n"
     ]
    }
   ],
   "source": [
    "print(ali)"
   ]
  },
  {
   "cell_type": "code",
   "execution_count": 38,
   "metadata": {},
   "outputs": [
    {
     "name": "stdout",
     "output_type": "stream",
     "text": [
      "{'age': 20, 'gender': 'male', 26: 'id', 'email': 'abdulla...@gmail.com', 'address': None}\n"
     ]
    }
   ],
   "source": [
    "print(ali)"
   ]
  },
  {
   "cell_type": "code",
   "execution_count": 37,
   "metadata": {},
   "outputs": [
    {
     "ename": "KeyError",
     "evalue": "'name'",
     "output_type": "error",
     "traceback": [
      "\u001b[1;31m---------------------------------------------------------------------------\u001b[0m",
      "\u001b[1;31mKeyError\u001b[0m                                  Traceback (most recent call last)",
      "\u001b[1;32m<ipython-input-37-834d2440085a>\u001b[0m in \u001b[0;36m<module>\u001b[1;34m\u001b[0m\n\u001b[1;32m----> 1\u001b[1;33m \u001b[0mprint\u001b[0m\u001b[1;33m(\u001b[0m\u001b[0mali\u001b[0m\u001b[1;33m.\u001b[0m\u001b[0mpop\u001b[0m\u001b[1;33m(\u001b[0m\u001b[1;34m'name'\u001b[0m\u001b[1;33m)\u001b[0m\u001b[1;33m)\u001b[0m\u001b[1;33m\u001b[0m\u001b[1;33m\u001b[0m\u001b[0m\n\u001b[0m",
      "\u001b[1;31mKeyError\u001b[0m: 'name'"
     ]
    }
   ],
   "source": [
    "print(ali.pop('name'))"
   ]
  },
  {
   "cell_type": "code",
   "execution_count": 27,
   "metadata": {},
   "outputs": [
    {
     "data": {
      "text/plain": [
       "{'sub': ['science', 'tech', 'computer'],\n",
       " 'major': ['science', 'tech', 'computer'],\n",
       " 'minor': ['science', 'tech', 'computer']}"
      ]
     },
     "execution_count": 27,
     "metadata": {},
     "output_type": "execute_result"
    }
   ],
   "source": [
    "i = ['sub','major','minor']\n",
    "j = ['science','tech','computer']\n",
    "ali.fromkeys(i,j)"
   ]
  },
  {
   "cell_type": "code",
   "execution_count": 41,
   "metadata": {},
   "outputs": [
    {
     "data": {
      "text/plain": [
       "{'i': 'science', 'n': 'science', 't': 'science'}"
      ]
     },
     "execution_count": 41,
     "metadata": {},
     "output_type": "execute_result"
    }
   ],
   "source": [
    "ali.fromkeys('int','science')"
   ]
  },
  {
   "cell_type": "code",
   "execution_count": 43,
   "metadata": {},
   "outputs": [
    {
     "name": "stdout",
     "output_type": "stream",
     "text": [
      "{'age': 20, 'gender': 'male', 26: 'id', 'email': 'abdulla...@gmail.com', 'address': None}\n",
      "age\n",
      "gender\n",
      "26\n",
      "email\n",
      "address\n"
     ]
    }
   ],
   "source": [
    "print(ali)\n",
    "for c in ali:\n",
    "    print(c)"
   ]
  },
  {
   "cell_type": "code",
   "execution_count": 6,
   "metadata": {},
   "outputs": [],
   "source": [
    "# This is used to add multiple key values But it is considering as a 1 key:value pair\n",
    "ali = {}\n",
    "ali['name','age','address',26] = ['Ali Hassan',19,'Nuanawesr P/O hafizanad','id']"
   ]
  },
  {
   "cell_type": "code",
   "execution_count": 7,
   "metadata": {},
   "outputs": [
    {
     "name": "stdout",
     "output_type": "stream",
     "text": [
      "{('name', 'age', 'address', 26): ['Ali Hassan', 19, 'Nuanawesr P/O hafizanad', 'id']}\n"
     ]
    }
   ],
   "source": [
    "print(ali)"
   ]
  },
  {
   "cell_type": "code",
   "execution_count": 32,
   "metadata": {},
   "outputs": [
    {
     "name": "stdout",
     "output_type": "stream",
     "text": [
      "{('name', 'age', 'address', 26): ['Ali Hassan', 19, 'Nuanawesr P/O hafizanad', 'id'], 'name': [21, 21], 'gen': None}\n"
     ]
    }
   ],
   "source": [
    "# Another method\n",
    "key = 'name'\n",
    "ali.setdefault(key)\n",
    "print(ali)"
   ]
  },
  {
   "cell_type": "code",
   "execution_count": 33,
   "metadata": {},
   "outputs": [
    {
     "name": "stdout",
     "output_type": "stream",
     "text": [
      "{('name', 'age', 'address', 26): ['Ali Hassan', 19, 'Nuanawesr P/O hafizanad', 'id'], 'name': [21, 21, 21], 'gen': None}\n"
     ]
    }
   ],
   "source": [
    "ali[key].append(21)\n",
    "print(ali)"
   ]
  },
  {
   "cell_type": "code",
   "execution_count": 34,
   "metadata": {},
   "outputs": [
    {
     "data": {
      "text/plain": [
       "{'gen': 'male', 'No.': 'male'}"
      ]
     },
     "execution_count": 34,
     "metadata": {},
     "output_type": "execute_result"
    }
   ],
   "source": [
    "# Another method\n",
    "x = ['gen','No.']\n",
    "ali.fromkeys(x,'male')\n"
   ]
  },
  {
   "cell_type": "code",
   "execution_count": 35,
   "metadata": {},
   "outputs": [
    {
     "name": "stdout",
     "output_type": "stream",
     "text": [
      "{('name', 'age', 'address', 26): ['Ali Hassan', 19, 'Nuanawesr P/O hafizanad', 'id'], 'name': [21, 21, 21], 'gen': None}\n"
     ]
    }
   ],
   "source": [
    "print(ali)"
   ]
  },
  {
   "cell_type": "code",
   "execution_count": 39,
   "metadata": {},
   "outputs": [],
   "source": [
    "ali.setdefault('gen') "
   ]
  },
  {
   "cell_type": "code",
   "execution_count": 40,
   "metadata": {},
   "outputs": [
    {
     "name": "stdout",
     "output_type": "stream",
     "text": [
      "{('name', 'age', 'address', 26): ['Ali Hassan', 19, 'Nuanawesr P/O hafizanad', 'id'], 'name': [21, 21, 21], 'gen': None}\n"
     ]
    }
   ],
   "source": [
    "print(ali)"
   ]
  },
  {
   "cell_type": "code",
   "execution_count": 41,
   "metadata": {},
   "outputs": [
    {
     "data": {
      "text/plain": [
       "{('name', 'age', 'address', 26): ['Ali Hassan',\n",
       "  19,\n",
       "  'Nuanawesr P/O hafizanad',\n",
       "  'id'],\n",
       " 'name': [21, 21, 21],\n",
       " 'gen': None}"
      ]
     },
     "execution_count": 41,
     "metadata": {},
     "output_type": "execute_result"
    }
   ],
   "source": [
    "ali\n"
   ]
  },
  {
   "cell_type": "code",
   "execution_count": 43,
   "metadata": {},
   "outputs": [
    {
     "data": {
      "text/plain": [
       "{'gen': 21, 'No.': 21}"
      ]
     },
     "execution_count": 43,
     "metadata": {},
     "output_type": "execute_result"
    }
   ],
   "source": [
    "x = ['gen','No.']\n",
    "ali.fromkeys(x,21)"
   ]
  },
  {
   "cell_type": "code",
   "execution_count": 44,
   "metadata": {},
   "outputs": [
    {
     "data": {
      "text/plain": [
       "{('name', 'age', 'address', 26): ['Ali Hassan',\n",
       "  19,\n",
       "  'Nuanawesr P/O hafizanad',\n",
       "  'id'],\n",
       " 'name': [21, 21, 21],\n",
       " 'gen': None}"
      ]
     },
     "execution_count": 44,
     "metadata": {},
     "output_type": "execute_result"
    }
   ],
   "source": [
    "ali"
   ]
  },
  {
   "cell_type": "code",
   "execution_count": 1,
   "metadata": {},
   "outputs": [
    {
     "name": "stdout",
     "output_type": "stream",
     "text": [
      "{'name': 'Ali', 'age': 19, 21: 'id', 'gen': ['male', 'female', 'other']}\n"
     ]
    }
   ],
   "source": [
    "# Adding a new key value pair , we can also add multiple values for a key\n",
    "abc = {'name':'Ali','age':19, 21:'id'}\n",
    "abc.update({'gen':['male','female','other']})\n",
    "print(abc)"
   ]
  },
  {
   "cell_type": "code",
   "execution_count": 55,
   "metadata": {},
   "outputs": [
    {
     "name": "stdout",
     "output_type": "stream",
     "text": [
      "{'name': 'Ali', 'age': 19, 21: 'id', 'gen': ['male', 'female', 'other'], 'sunject': None}\n"
     ]
    }
   ],
   "source": [
    "abc.setdefault('sunject')\n",
    "print(abc)"
   ]
  },
  {
   "cell_type": "code",
   "execution_count": 56,
   "metadata": {},
   "outputs": [
    {
     "ename": "AttributeError",
     "evalue": "'NoneType' object has no attribute 'append'",
     "output_type": "error",
     "traceback": [
      "\u001b[1;31m---------------------------------------------------------------------------\u001b[0m",
      "\u001b[1;31mAttributeError\u001b[0m                            Traceback (most recent call last)",
      "\u001b[1;32m<ipython-input-56-96132b00d86c>\u001b[0m in \u001b[0;36m<module>\u001b[1;34m\u001b[0m\n\u001b[1;32m----> 1\u001b[1;33m \u001b[0mabc\u001b[0m\u001b[1;33m[\u001b[0m\u001b[1;34m'sunject'\u001b[0m\u001b[1;33m]\u001b[0m\u001b[1;33m.\u001b[0m\u001b[0mappend\u001b[0m\u001b[1;33m(\u001b[0m\u001b[1;34m'science'\u001b[0m\u001b[1;33m)\u001b[0m\u001b[1;33m\u001b[0m\u001b[1;33m\u001b[0m\u001b[0m\n\u001b[0m",
      "\u001b[1;31mAttributeError\u001b[0m: 'NoneType' object has no attribute 'append'"
     ]
    }
   ],
   "source": [
    "abc['sunject'].append('science')"
   ]
  },
  {
   "cell_type": "code",
   "execution_count": 74,
   "metadata": {},
   "outputs": [],
   "source": [
    "abc.update({'gen':['male', 'female', 'other','specify']})"
   ]
  },
  {
   "cell_type": "code",
   "execution_count": 75,
   "metadata": {},
   "outputs": [
    {
     "name": "stdout",
     "output_type": "stream",
     "text": [
      "{'name': 'Ali', 'age': 19, 21: 'id', 'gen': ['male', 'female', 'other', 'specify'], 'sunject': None, 'where': 30, 'who': 40, 'when': 50, 60: 'why'}\n"
     ]
    }
   ],
   "source": [
    "print(abc)"
   ]
  },
  {
   "cell_type": "code",
   "execution_count": 61,
   "metadata": {},
   "outputs": [],
   "source": [
    "# Adding multiple key values\n",
    "abc.update([('where',30),('who',40),('when',50),(60,'why')])"
   ]
  },
  {
   "cell_type": "code",
   "execution_count": 62,
   "metadata": {},
   "outputs": [
    {
     "name": "stdout",
     "output_type": "stream",
     "text": [
      "{'name': 'Ali', 'age': 19, 21: 'id', 'gen': ['male', 'female', 'other'], 'sunject': None, 'where': 30, 'who': 40, 'when': 50, 60: 'why'}\n"
     ]
    }
   ],
   "source": [
    "print(abc)"
   ]
  },
  {
   "cell_type": "code",
   "execution_count": null,
   "metadata": {},
   "outputs": [],
   "source": []
  }
 ],
 "metadata": {
  "kernelspec": {
   "display_name": "Python 3",
   "language": "python",
   "name": "python3"
  },
  "language_info": {
   "codemirror_mode": {
    "name": "ipython",
    "version": 3
   },
   "file_extension": ".py",
   "mimetype": "text/x-python",
   "name": "python",
   "nbconvert_exporter": "python",
   "pygments_lexer": "ipython3",
   "version": "3.8.3"
  }
 },
 "nbformat": 4,
 "nbformat_minor": 4
}
