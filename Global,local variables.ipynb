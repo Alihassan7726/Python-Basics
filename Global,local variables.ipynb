{
 "cells": [
  {
   "cell_type": "code",
   "execution_count": 2,
   "metadata": {},
   "outputs": [
    {
     "name": "stdout",
     "output_type": "stream",
     "text": [
      "Enter Your name:Ali\n",
      "Hello Ali Nice to meet you!\n"
     ]
    }
   ],
   "source": [
    "def greet(name):\n",
    "    \"\"\" This greets a person\n",
    "        Who's name is entered\"\"\"\n",
    "    print(\"Hello \"+name+\" Nice to meet you!\")\n",
    "x = input(\"Enter Your name:\")    \n",
    "greet(x)\n"
   ]
  },
  {
   "cell_type": "code",
   "execution_count": 6,
   "metadata": {},
   "outputs": [
    {
     "name": "stdout",
     "output_type": "stream",
     "text": [
      " This greets a person\n",
      "        Who's name is entered\n"
     ]
    }
   ],
   "source": [
    "print(greet.__doc__)"
   ]
  },
  {
   "cell_type": "code",
   "execution_count": 4,
   "metadata": {},
   "outputs": [
    {
     "name": "stdout",
     "output_type": "stream",
     "text": [
      "inside:  10\n",
      "20\n"
     ]
    }
   ],
   "source": [
    "def var():\n",
    "    x = 10\n",
    "    print(\"inside: \",x)\n",
    "x = 20\n",
    "var()\n",
    "print(x)\n",
    "global y\n",
    "y = 25"
   ]
  },
  {
   "cell_type": "code",
   "execution_count": 5,
   "metadata": {},
   "outputs": [
    {
     "data": {
      "text/plain": [
       "25"
      ]
     },
     "execution_count": 5,
     "metadata": {},
     "output_type": "execute_result"
    }
   ],
   "source": [
    "y"
   ]
  },
  {
   "cell_type": "code",
   "execution_count": 6,
   "metadata": {},
   "outputs": [
    {
     "name": "stdout",
     "output_type": "stream",
     "text": [
      "insode:  30\n",
      "25\n"
     ]
    }
   ],
   "source": [
    "def var():\n",
    "    y = 30\n",
    "    print(\"insode: \",y)\n",
    "var()\n",
    "print(y)"
   ]
  },
  {
   "cell_type": "code",
   "execution_count": 27,
   "metadata": {},
   "outputs": [
    {
     "data": {
      "text/plain": [
       "24"
      ]
     },
     "execution_count": 27,
     "metadata": {},
     "output_type": "execute_result"
    }
   ],
   "source": [
    "# recursive function\n",
    "def factorial(n):\n",
    "    if n == 1:\n",
    "        return 1\n",
    "    else:\n",
    "        return (n * factorial(n-1))\n",
    "factorial(4)"
   ]
  },
  {
   "cell_type": "code",
   "execution_count": 28,
   "metadata": {},
   "outputs": [
    {
     "data": {
      "text/plain": [
       "8"
      ]
     },
     "execution_count": 28,
     "metadata": {},
     "output_type": "execute_result"
    }
   ],
   "source": [
    "n = 4\n",
    "n * 2"
   ]
  },
  {
   "cell_type": "code",
   "execution_count": 29,
   "metadata": {},
   "outputs": [
    {
     "name": "stdout",
     "output_type": "stream",
     "text": [
      "4\n"
     ]
    }
   ],
   "source": [
    "print(n)"
   ]
  },
  {
   "cell_type": "code",
   "execution_count": 48,
   "metadata": {},
   "outputs": [
    {
     "name": "stdout",
     "output_type": "stream",
     "text": [
      "initial Global\n",
      "Inside Globalhi\n",
      "2056822798320\n",
      "outside Globalhi\n"
     ]
    },
    {
     "data": {
      "text/plain": [
       "2056822798320"
      ]
     },
     "execution_count": 48,
     "metadata": {},
     "output_type": "execute_result"
    }
   ],
   "source": [
    "x = \"Global\"\n",
    "\n",
    "def foo():\n",
    "    global x\n",
    "    x += 'hi'\n",
    "    print(\"Inside\",x)\n",
    "    print(id(x))\n",
    "print(\"initial\",x)\n",
    "foo()\n",
    "print(\"outside\",x)\n",
    "id(x)"
   ]
  },
  {
   "cell_type": "code",
   "execution_count": 7,
   "metadata": {},
   "outputs": [
    {
     "name": "stdout",
     "output_type": "stream",
     "text": [
      "Before calling bar:  20\n",
      "Calling bar now\n",
      "After calling bar:  20\n",
      "x in main:  25\n"
     ]
    }
   ],
   "source": [
    "def foo():\n",
    "    x = 20\n",
    "\n",
    "    def bar():\n",
    "        global x\n",
    "        x = 25\n",
    "    \n",
    "    print(\"Before calling bar: \", x)\n",
    "    print(\"Calling bar now\")\n",
    "    bar()\n",
    "    print(\"After calling bar: \", x)\n",
    "\n",
    "foo()\n",
    "print(\"x in main: \", x)"
   ]
  },
  {
   "cell_type": "code",
   "execution_count": 14,
   "metadata": {},
   "outputs": [
    {
     "name": "stdout",
     "output_type": "stream",
     "text": [
      "20\n",
      "140736411875712\n",
      "20\n",
      "25\n",
      "140736411875872\n"
     ]
    }
   ],
   "source": [
    "# The variable must be declared outside  of any fiunction to be global , When we declared a variable inside a function it will \n",
    "# be trated as local and simply(having local scope) it will not be accesed by another function (might be nested function)\n",
    "# and the nested function just creates an another varialbe'x' that will be accesed from outside both 'x' have different id's\n",
    "\n",
    "def var1():\n",
    "    x = 20\n",
    "    print(x)\n",
    "    def var():\n",
    "        global x\n",
    "        x = 25\n",
    "    \n",
    "    print(id(x))\n",
    "    var()\n",
    "    print(x)\n",
    "var1()\n",
    "print(x)\n",
    "print(id(x))"
   ]
  },
  {
   "cell_type": "code",
   "execution_count": 2,
   "metadata": {},
   "outputs": [],
   "source": [
    "def foo():\n",
    "    b = 11\n",
    "    print(b)\n",
    "    def faa():\n",
    "        global b\n",
    "        b = 15\n",
    "    print(b)\n",
    "    faa()\n",
    "    print(b)"
   ]
  },
  {
   "cell_type": "code",
   "execution_count": null,
   "metadata": {},
   "outputs": [],
   "source": []
  }
 ],
 "metadata": {
  "kernelspec": {
   "display_name": "Python 3",
   "language": "python",
   "name": "python3"
  },
  "language_info": {
   "codemirror_mode": {
    "name": "ipython",
    "version": 3
   },
   "file_extension": ".py",
   "mimetype": "text/x-python",
   "name": "python",
   "nbconvert_exporter": "python",
   "pygments_lexer": "ipython3",
   "version": "3.8.3"
  }
 },
 "nbformat": 4,
 "nbformat_minor": 4
}
