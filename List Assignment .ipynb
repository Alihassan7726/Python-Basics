{
 "cells": [
  {
   "cell_type": "code",
   "execution_count": null,
   "metadata": {},
   "outputs": [],
   "source": []
  },
  {
   "cell_type": "code",
   "execution_count": 1,
   "metadata": {},
   "outputs": [
    {
     "name": "stdout",
     "output_type": "stream",
     "text": [
      "[1, 2, 3, 4, 9]\n"
     ]
    }
   ],
   "source": [
    "# Del method is used to delete multiple items from lists i:e:-\n",
    "list = [1,2,3,4,5,6,7,8,9]\n",
    "del list[4:-1]\n",
    "print(list)"
   ]
  },
  {
   "cell_type": "code",
   "execution_count": 2,
   "metadata": {},
   "outputs": [
    {
     "name": "stdout",
     "output_type": "stream",
     "text": [
      "[2, 4]\n"
     ]
    }
   ],
   "source": [
    "# We can also use FOR loop for deleting , The multilpes of 2 will remain undeleted\n",
    "list = [num for num in list if num%2 == 0]\n",
    "print(list)"
   ]
  },
  {
   "cell_type": "code",
   "execution_count": null,
   "metadata": {},
   "outputs": [],
   "source": [
    "# Python List Methods\n",
    "# Methods that are available with list object \n",
    "\n",
    "# Are accessed as list.method(). \n",
    "'''\n",
    "append() - Add an element to the end of the list\n",
    "extend() - Add all elements of a list to the another list\n",
    "insert()- I nsert an item at the defined index\n",
    "remove() - Removes an item from the list\n",
    "pop() - Removes and returns an element at the given index\n",
    "clear() - Removes all items from the list\n",
    "index() - Returns the index of the first matched item\n",
    "count() - Returns the count of number of items passed as an argument\n",
    "sort() - Sort items in a list in ascending order\n",
    "reverse() - Reverse the order of items in the list\n",
    "copy() - Returns a shallow copy of the list\n",
    "'''"
   ]
  },
  {
   "cell_type": "code",
   "execution_count": 43,
   "metadata": {},
   "outputs": [
    {
     "name": "stdout",
     "output_type": "stream",
     "text": [
      "['BMW', 'Mercedes', 'Chevrolet', 'Nissan', 'Toyota', 'Lucid', 'Honda']\n"
     ]
    }
   ],
   "source": [
    "# Simple List\n",
    "Ali = ['BMW','Mercedes','Chevrolet','Nissan','Toyota','Lucid','Honda']\n",
    "print(Ali)"
   ]
  },
  {
   "cell_type": "code",
   "execution_count": 44,
   "metadata": {},
   "outputs": [
    {
     "name": "stdout",
     "output_type": "stream",
     "text": [
      "['BMW', 'Mercedes', 'Chevrolet', 'Nissan', 'Toyota', 'Lucid', 'Honda', 'Suzuki']\n"
     ]
    }
   ],
   "source": [
    "# Append() method\n",
    "Ali.append('Suzuki')\n",
    "print(Ali)"
   ]
  },
  {
   "cell_type": "code",
   "execution_count": 45,
   "metadata": {},
   "outputs": [
    {
     "name": "stdout",
     "output_type": "stream",
     "text": [
      "['BMW', 'Mercedes', 'Chevrolet', 'Nissan', 'Toyota', 'Lucid', 'Honda', 'Suzuki', 'Mezerati', 'BMW', 'GTR', 'Lexus']\n"
     ]
    }
   ],
   "source": [
    "# extend() method\n",
    "Ali.extend(['Mezerati','BMW','GTR','Lexus'])\n",
    "print(Ali)"
   ]
  },
  {
   "cell_type": "code",
   "execution_count": 46,
   "metadata": {},
   "outputs": [
    {
     "data": {
      "text/plain": [
       "['Range Rover',\n",
       " 'BMW',\n",
       " 'Mercedes',\n",
       " 'Chevrolet',\n",
       " 'Nissan',\n",
       " 'Toyota',\n",
       " 'Lucid',\n",
       " 'Honda',\n",
       " 'Suzuki',\n",
       " 'Mezerati',\n",
       " 'BMW',\n",
       " 'GTR',\n",
       " 'Lexus']"
      ]
     },
     "execution_count": 46,
     "metadata": {},
     "output_type": "execute_result"
    }
   ],
   "source": [
    "# Insert() method\n",
    "Ali.insert(0,'Range Rover')\n",
    "Ali[:]"
   ]
  },
  {
   "cell_type": "code",
   "execution_count": 47,
   "metadata": {},
   "outputs": [
    {
     "name": "stdout",
     "output_type": "stream",
     "text": [
      "['Range Rover', 'Mercedes', 'Chevrolet', 'Nissan', 'Toyota', 'Lucid', 'Honda', 'Suzuki', 'Mezerati', 'BMW', 'GTR', 'Lexus']\n"
     ]
    }
   ],
   "source": [
    "#Remove() method . Removes only first occurence of value\n",
    "Ali.remove('BMW')\n",
    "print(Ali)"
   ]
  },
  {
   "cell_type": "code",
   "execution_count": 48,
   "metadata": {},
   "outputs": [
    {
     "data": {
      "text/plain": [
       "'Lexus'"
      ]
     },
     "execution_count": 48,
     "metadata": {},
     "output_type": "execute_result"
    }
   ],
   "source": [
    "# Pop() method . By default last element is popped\n",
    "Ali.pop()"
   ]
  },
  {
   "cell_type": "code",
   "execution_count": 49,
   "metadata": {},
   "outputs": [
    {
     "data": {
      "text/plain": [
       "'Mercedes'"
      ]
     },
     "execution_count": 49,
     "metadata": {},
     "output_type": "execute_result"
    }
   ],
   "source": [
    "Ali.pop(1)"
   ]
  },
  {
   "cell_type": "code",
   "execution_count": 50,
   "metadata": {},
   "outputs": [
    {
     "name": "stdout",
     "output_type": "stream",
     "text": [
      "['Range Rover', 'Chevrolet', 'Nissan', 'Toyota', 'Lucid', 'Honda', 'Suzuki', 'Mezerati', 'BMW', 'GTR']\n"
     ]
    }
   ],
   "source": [
    "print(Ali)"
   ]
  },
  {
   "cell_type": "code",
   "execution_count": 51,
   "metadata": {},
   "outputs": [
    {
     "name": "stdout",
     "output_type": "stream",
     "text": [
      "['Range Rover', 'Chevrolet', 'Nissan', 'Toyota', 'Lucid', 'Honda', 'Nissan', 'Suzuki', 'Mezerati', 'BMW', 'GTR']\n"
     ]
    }
   ],
   "source": [
    "Ali.insert(6,'Nissan')\n",
    "print(Ali)"
   ]
  },
  {
   "cell_type": "code",
   "execution_count": 52,
   "metadata": {},
   "outputs": [
    {
     "data": {
      "text/plain": [
       "2"
      ]
     },
     "execution_count": 52,
     "metadata": {},
     "output_type": "execute_result"
    }
   ],
   "source": [
    "# Index() method\n",
    "Ali.index('Nissan')"
   ]
  },
  {
   "cell_type": "code",
   "execution_count": 53,
   "metadata": {},
   "outputs": [
    {
     "data": {
      "text/plain": [
       "6"
      ]
     },
     "execution_count": 53,
     "metadata": {},
     "output_type": "execute_result"
    }
   ],
   "source": [
    "Ali.index('Nissan',3,-1)"
   ]
  },
  {
   "cell_type": "code",
   "execution_count": 54,
   "metadata": {},
   "outputs": [
    {
     "data": {
      "text/plain": [
       "2"
      ]
     },
     "execution_count": 54,
     "metadata": {},
     "output_type": "execute_result"
    }
   ],
   "source": [
    "# Count() method\n",
    "Ali.count('Nissan')"
   ]
  },
  {
   "cell_type": "code",
   "execution_count": 55,
   "metadata": {},
   "outputs": [],
   "source": [
    "# Sort() method\n",
    "Ali.sort()"
   ]
  },
  {
   "cell_type": "code",
   "execution_count": 56,
   "metadata": {},
   "outputs": [
    {
     "name": "stdout",
     "output_type": "stream",
     "text": [
      "['BMW', 'Chevrolet', 'GTR', 'Honda', 'Lucid', 'Mezerati', 'Nissan', 'Nissan', 'Range Rover', 'Suzuki', 'Toyota']\n"
     ]
    }
   ],
   "source": [
    "print(Ali)"
   ]
  },
  {
   "cell_type": "code",
   "execution_count": 57,
   "metadata": {},
   "outputs": [],
   "source": [
    "# Reverse() method\n",
    "Ali.reverse()"
   ]
  },
  {
   "cell_type": "code",
   "execution_count": 58,
   "metadata": {},
   "outputs": [
    {
     "name": "stdout",
     "output_type": "stream",
     "text": [
      "['Toyota', 'Suzuki', 'Range Rover', 'Nissan', 'Nissan', 'Mezerati', 'Lucid', 'Honda', 'GTR', 'Chevrolet', 'BMW']\n"
     ]
    }
   ],
   "source": [
    "print(Ali)"
   ]
  },
  {
   "cell_type": "code",
   "execution_count": 59,
   "metadata": {},
   "outputs": [
    {
     "data": {
      "text/plain": [
       "['Toyota',\n",
       " 'Suzuki',\n",
       " 'Range Rover',\n",
       " 'Nissan',\n",
       " 'Nissan',\n",
       " 'Mezerati',\n",
       " 'Lucid',\n",
       " 'Honda',\n",
       " 'GTR',\n",
       " 'Chevrolet',\n",
       " 'BMW']"
      ]
     },
     "execution_count": 59,
     "metadata": {},
     "output_type": "execute_result"
    }
   ],
   "source": [
    "# Copy() method\n",
    "Ali.copy()"
   ]
  },
  {
   "cell_type": "code",
   "execution_count": 60,
   "metadata": {},
   "outputs": [],
   "source": [
    "# Clear() method\n",
    "Ali.clear()"
   ]
  },
  {
   "cell_type": "code",
   "execution_count": 61,
   "metadata": {},
   "outputs": [
    {
     "name": "stdout",
     "output_type": "stream",
     "text": [
      "[]\n"
     ]
    }
   ],
   "source": [
    "print(Ali)"
   ]
  },
  {
   "cell_type": "code",
   "execution_count": null,
   "metadata": {},
   "outputs": [],
   "source": [
    "'''\n",
    "Built-in Functions with List\n",
    "all()\tReturn True if all elements of the list are true \n",
    "        (or if the list is empty).\n",
    "any()\tReturn True if any element of the list is true. \n",
    "        If the list is empty, return False.\n",
    "enumerate()\tReturn an enumerate object. It contains the index \n",
    "            and value of all the items of list as a tuple.\n",
    "len()\tReturn the length (the number of items) in the list.\n",
    "list()\tConvert an iterable (tuple, string, set, dictionary) to a list.\n",
    "max()\tReturn the largest item in the list.\n",
    "min()\tReturn the smallest item in the list\n",
    "sorted()\tReturn a new sorted list (does not sort the list itself).\n",
    "sum()\tReturn the sum of all elements in the list.\n",
    "'''"
   ]
  },
  {
   "cell_type": "code",
   "execution_count": 9,
   "metadata": {},
   "outputs": [
    {
     "name": "stdout",
     "output_type": "stream",
     "text": [
      "['Range Rover', 'Chevrolet', 'Nissan', 'Toyota', 'Lucid', 'Honda', 'Nissan', 'Suzuki', 'Mezerati', 'RMW', 'GTR']\n"
     ]
    }
   ],
   "source": [
    "Ali = ['Range Rover', 'Chevrolet', 'Nissan', 'Toyota', 'Lucid', 'Honda', 'Nissan', 'Suzuki', 'Mezerati', 'RMW', 'GTR']\n",
    "print(Ali)"
   ]
  },
  {
   "cell_type": "code",
   "execution_count": 10,
   "metadata": {},
   "outputs": [
    {
     "data": {
      "text/plain": [
       "True"
      ]
     },
     "execution_count": 10,
     "metadata": {},
     "output_type": "execute_result"
    }
   ],
   "source": [
    "# All() function\n",
    "all(Ali)"
   ]
  },
  {
   "cell_type": "code",
   "execution_count": 11,
   "metadata": {},
   "outputs": [
    {
     "data": {
      "text/plain": [
       "True"
      ]
     },
     "execution_count": 11,
     "metadata": {},
     "output_type": "execute_result"
    }
   ],
   "source": [
    "# Any function\n",
    "any(Ali)"
   ]
  },
  {
   "cell_type": "code",
   "execution_count": 12,
   "metadata": {},
   "outputs": [
    {
     "name": "stdout",
     "output_type": "stream",
     "text": [
      "0 Range Rover\n",
      "1 Chevrolet\n",
      "2 Nissan\n",
      "3 Toyota\n",
      "4 Lucid\n",
      "5 Honda\n",
      "6 Nissan\n",
      "7 Suzuki\n",
      "8 Mezerati\n",
      "9 RMW\n",
      "10 GTR\n"
     ]
    }
   ],
   "source": [
    "# Enumerate function\n",
    "for i,j in enumerate(Ali):\n",
    "    print(i,j)\n"
   ]
  },
  {
   "cell_type": "code",
   "execution_count": 37,
   "metadata": {},
   "outputs": [
    {
     "data": {
      "text/plain": [
       "11"
      ]
     },
     "execution_count": 37,
     "metadata": {},
     "output_type": "execute_result"
    }
   ],
   "source": [
    "# Len() function\n",
    "len(Ali)"
   ]
  },
  {
   "cell_type": "code",
   "execution_count": 4,
   "metadata": {},
   "outputs": [],
   "source": [
    "Set = (1,2,3,5,8,6,9,2,2,6)"
   ]
  },
  {
   "cell_type": "code",
   "execution_count": 5,
   "metadata": {},
   "outputs": [
    {
     "name": "stdout",
     "output_type": "stream",
     "text": [
      "[1, 2, 3, 5, 8, 6, 9, 2, 2, 6]\n"
     ]
    }
   ],
   "source": [
    "# List() function\n",
    "ddd = list(Set) \n",
    "print(ddd)"
   ]
  },
  {
   "cell_type": "code",
   "execution_count": 40,
   "metadata": {},
   "outputs": [
    {
     "data": {
      "text/plain": [
       "'Chevrolet'"
      ]
     },
     "execution_count": 40,
     "metadata": {},
     "output_type": "execute_result"
    }
   ],
   "source": [
    "# Min() funtion , only display 'Min Alfa order' not by smallest member\n",
    "min(Ali)"
   ]
  },
  {
   "cell_type": "code",
   "execution_count": 41,
   "metadata": {},
   "outputs": [
    {
     "data": {
      "text/plain": [
       "'Toyota'"
      ]
     },
     "execution_count": 41,
     "metadata": {},
     "output_type": "execute_result"
    }
   ],
   "source": [
    "# Max() funtion , only display 'Max Alfa order' not by largest member\n",
    "max(Ali)"
   ]
  },
  {
   "cell_type": "code",
   "execution_count": 42,
   "metadata": {},
   "outputs": [
    {
     "data": {
      "text/plain": [
       "['Chevrolet',\n",
       " 'GTR',\n",
       " 'Honda',\n",
       " 'Lucid',\n",
       " 'Mezerati',\n",
       " 'Nissan',\n",
       " 'Nissan',\n",
       " 'RMW',\n",
       " 'Range Rover',\n",
       " 'Suzuki',\n",
       " 'Toyota']"
      ]
     },
     "execution_count": 42,
     "metadata": {},
     "output_type": "execute_result"
    }
   ],
   "source": [
    "# Sorted() function , Only sort in Alfa order not by 'smallest' member\n",
    "sorted(Ali)"
   ]
  },
  {
   "cell_type": "code",
   "execution_count": 43,
   "metadata": {},
   "outputs": [
    {
     "name": "stdout",
     "output_type": "stream",
     "text": [
      "['Range Rover', 'Chevrolet', 'Nissan', 'Toyota', 'Lucid', 'Honda', 'Nissan', 'Suzuki', 'Mezerati', 'RMW', 'GTR']\n"
     ]
    }
   ],
   "source": [
    "print(Ali)"
   ]
  },
  {
   "cell_type": "code",
   "execution_count": 48,
   "metadata": {},
   "outputs": [
    {
     "data": {
      "text/plain": [
       "38.5"
      ]
     },
     "execution_count": 48,
     "metadata": {},
     "output_type": "execute_result"
    }
   ],
   "source": [
    "# Sum() function , Only supported for int and float\n",
    "aa = [1,2,3,4,5,6,6,7,4.5]\n",
    "sum(aa)"
   ]
  },
  {
   "cell_type": "code",
   "execution_count": null,
   "metadata": {},
   "outputs": [],
   "source": []
  }
 ],
 "metadata": {
  "kernelspec": {
   "display_name": "Python 3",
   "language": "python",
   "name": "python3"
  },
  "language_info": {
   "codemirror_mode": {
    "name": "ipython",
    "version": 3
   },
   "file_extension": ".py",
   "mimetype": "text/x-python",
   "name": "python",
   "nbconvert_exporter": "python",
   "pygments_lexer": "ipython3",
   "version": "3.8.3"
  }
 },
 "nbformat": 4,
 "nbformat_minor": 4
}
