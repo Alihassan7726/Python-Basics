{
 "cells": [
  {
   "cell_type": "code",
   "execution_count": null,
   "metadata": {},
   "outputs": [],
   "source": [
    "# Key is basixally used for custom sorting and it only accepts a function."
   ]
  },
  {
   "cell_type": "code",
   "execution_count": 1,
   "metadata": {},
   "outputs": [
    {
     "name": "stdout",
     "output_type": "stream",
     "text": [
      "[('math', 70), ('english', 88), ('computer', 90)]\n"
     ]
    }
   ],
   "source": [
    "# Function to sort a list of tuples\n",
    "l1 = [('computer',90),('english',88),('math',70)]\n",
    "l1.sort(key = lambda x : x[1])\n",
    "print(l1)"
   ]
  },
  {
   "cell_type": "code",
   "execution_count": 19,
   "metadata": {},
   "outputs": [
    {
     "name": "stdout",
     "output_type": "stream",
     "text": [
      "Normal sort : [3, 7, 11, 15]\n",
      "Sorted with key: [7, 15, 3, 11]\n"
     ]
    }
   ],
   "source": [
    "# Sort a list of integers based on \n",
    "# their remainder on dividing from 7 \n",
    "\n",
    "def func(x): \n",
    "\treturn x % 7\n",
    "\n",
    "L = [15, 3, 11, 7] \n",
    "\n",
    "print (\"Normal sort :\", sorted(L)) \n",
    "print (\"Sorted with key:\", sorted(L, key = func)) \n"
   ]
  },
  {
   "cell_type": "code",
   "execution_count": 1,
   "metadata": {},
   "outputs": [
    {
     "name": "stdout",
     "output_type": "stream",
     "text": [
      "Original list of dictionaries :\n",
      "[{'make': 'Nokia', 'model': 216, 'color': 'Black'}, {'make': 'Mi Max', 'model': '2', 'color': 'Gold'}, {'make': 'Samsung', 'model': 7, 'color': 'Blue'}]\n",
      "\n",
      "Sorting the List of dictionaries :\n",
      "[{'make': 'Nokia', 'model': 216, 'color': 'Black'}, {'make': 'Samsung', 'model': 7, 'color': 'Blue'}, {'make': 'Mi Max', 'model': '2', 'color': 'Gold'}]\n"
     ]
    }
   ],
   "source": [
    "models = [{'make':'Nokia', 'model':216, 'color':'Black'}, {'make':'Mi Max', 'model':'2', 'color':'Gold'}, {'make':'Samsung', 'model': 7, 'color':'Blue'}]\n",
    "print(\"Original list of dictionaries :\")\n",
    "print(models)\n",
    "sorted_models = sorted(models, key = lambda x: x['color'])\n",
    "print(\"\\nSorting the List of dictionaries :\")\n",
    "print(sorted_models)"
   ]
  },
  {
   "cell_type": "code",
   "execution_count": null,
   "metadata": {},
   "outputs": [],
   "source": []
  }
 ],
 "metadata": {
  "kernelspec": {
   "display_name": "Python 3",
   "language": "python",
   "name": "python3"
  },
  "language_info": {
   "codemirror_mode": {
    "name": "ipython",
    "version": 3
   },
   "file_extension": ".py",
   "mimetype": "text/x-python",
   "name": "python",
   "nbconvert_exporter": "python",
   "pygments_lexer": "ipython3",
   "version": "3.8.5"
  }
 },
 "nbformat": 4,
 "nbformat_minor": 4
}
