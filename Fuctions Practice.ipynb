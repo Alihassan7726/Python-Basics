{
 "cells": [
  {
   "cell_type": "markdown",
   "metadata": {},
   "source": [
    "### 1. Buit-in Fuctions"
   ]
  },
  {
   "cell_type": "markdown",
   "metadata": {},
   "source": [
    "Built-in Fuctions are same/simple like : help(), type() ,print() ,get() etc."
   ]
  },
  {
   "cell_type": "markdown",
   "metadata": {},
   "source": [
    "### 2. user-defined Functions"
   ]
  },
  {
   "cell_type": "code",
   "execution_count": 41,
   "metadata": {},
   "outputs": [],
   "source": [
    "### if a Function has 2 return statements then only first will work , ( you can provide both args in 1 return )\n",
    "### 'Stack' is memory storage , where function's parameters and variables are stored\n",
    "### Simple 'string' variables also supprot index(),len() and name[3]\"mean slicing\"\n",
    "### Print(n.isupper()) returns true if a single string is upper case , same for lower case letter\n",
    "### print(\"%f\"%float(x)) , is used to print 'x' with full decimal places . We can change 'float' to 'bool','int','str' according \n",
    "### to which our 'x' will be displayed, similarly '%f' can be changed to '%s','%i'."
   ]
  },
  {
   "cell_type": "code",
   "execution_count": 1,
   "metadata": {},
   "outputs": [
    {
     "name": "stdout",
     "output_type": "stream",
     "text": [
      "<class 'list'>\n",
      "Sum of elements 139\n",
      "Minimum number  1\n",
      "Maximum number  44\n",
      "Length of elements 10\n"
     ]
    }
   ],
   "source": [
    "def fun(a):\n",
    "    \n",
    "        if all(isinstance(i, int)for i in a):       # This line is to check weather a list passed to it contains only integers .\n",
    "            print('Sum of elements',sum(a))\n",
    "            print('Minimum number ',min(a))\n",
    "            print('Maximum number ',max(a))\n",
    "            print('Length of elements',len(a))\n",
    "        else:\n",
    "            print('Give integers list only')\n",
    "\n",
    "list = [1,2,3,3,4,5,22,22,33,44,]\n",
    "print(type(list))\n",
    "fun(list)\n"
   ]
  },
  {
   "cell_type": "code",
   "execution_count": 6,
   "metadata": {},
   "outputs": [
    {
     "name": "stdout",
     "output_type": "stream",
     "text": [
      "Sum of elements 139\n",
      "Minimum number  1\n",
      "Maximum number  44\n",
      "Length of elements 10\n"
     ]
    }
   ],
   "source": [
    "fun(list)"
   ]
  },
  {
   "cell_type": "code",
   "execution_count": 2,
   "metadata": {},
   "outputs": [],
   "source": [
    "def enm(a):\n",
    "    for i,j in enumerate(a):\n",
    "        print('Index:',i,'\\tValue:',j)\n",
    "        "
   ]
  },
  {
   "cell_type": "code",
   "execution_count": 3,
   "metadata": {},
   "outputs": [
    {
     "name": "stdout",
     "output_type": "stream",
     "text": [
      "Index: 0 \tValue: (10, 1)\n",
      "Index: 1 \tValue: (2, 3)\n",
      "Index: 2 \tValue: (4, 4)\n",
      "Index: 3 \tValue: (6, 5)\n"
     ]
    },
    {
     "data": {
      "text/plain": [
       "True"
      ]
     },
     "execution_count": 3,
     "metadata": {},
     "output_type": "execute_result"
    }
   ],
   "source": [
    "list = [(10,1),(2,3),(4,4),(6,5),]\n",
    "enm(list)\n",
    "all(list)\n"
   ]
  },
  {
   "cell_type": "code",
   "execution_count": 63,
   "metadata": {},
   "outputs": [
    {
     "data": {
      "text/plain": [
       "True"
      ]
     },
     "execution_count": 63,
     "metadata": {},
     "output_type": "execute_result"
    }
   ],
   "source": [
    "all(isinstance(n, int) for n in list )\n"
   ]
  },
  {
   "cell_type": "code",
   "execution_count": 64,
   "metadata": {},
   "outputs": [
    {
     "name": "stdout",
     "output_type": "stream",
     "text": [
      "all are integers\n"
     ]
    }
   ],
   "source": [
    "\n",
    "    if all(isinstance(i, int) for i in list):\n",
    "          print('all are integers')"
   ]
  },
  {
   "cell_type": "code",
   "execution_count": 82,
   "metadata": {},
   "outputs": [
    {
     "name": "stdout",
     "output_type": "stream",
     "text": [
      "The value 6 is occured 2 times\n",
      "The value 6 is occured 2 times\n",
      "The value 9 is occured 4 times\n",
      "The value 9 is occured 4 times\n",
      "The value 9 is occured 4 times\n",
      "The value 9 is occured 4 times\n"
     ]
    }
   ],
   "source": [
    "list = [1,2,3,4,5,6,6,7,8,9,9,9,9]\n",
    "for x in list:\n",
    "            if list.count(x) > 1:\n",
    "                print('The value' ,x,'is occured',list.count(x),'times')"
   ]
  },
  {
   "cell_type": "code",
   "execution_count": 4,
   "metadata": {},
   "outputs": [
    {
     "name": "stdout",
     "output_type": "stream",
     "text": [
      "<class 'list'>\n",
      "Sum of elements 139\n",
      "Minimum number  1\n",
      "Maximum number  44\n",
      "Length of elements 10\n",
      "Help on function fun in module __main__:\n",
      "\n",
      "fun(a)\n",
      "    Fuction used to calculate Sum , Min , Max and Total elements in a given list\n",
      "\n"
     ]
    }
   ],
   "source": [
    "# Example : 2\n",
    "def fun(a):\n",
    "    \"\"\"Fuction used to calculate Sum , Min , Max and Total elements in a given list\"\"\"    \n",
    "    if all(isinstance(i, int)for i in a):           # This line is to check weather a list passed to it contains only integers .\n",
    "        print('Sum of elements',sum(a))\n",
    "        print('Minimum number ',min(a))\n",
    "        print('Maximum number ',max(a))\n",
    "        print('Length of elements',len(a))\n",
    "    else:\n",
    "        print('Give integers list only')\n",
    "\n",
    "list1 = [1,2,3,3,4,5,22,22,33,44]\n",
    "print(type(list1))\n",
    "fun(list1)\n",
    "help(fun)"
   ]
  },
  {
   "cell_type": "code",
   "execution_count": 1,
   "metadata": {},
   "outputs": [
    {
     "name": "stdout",
     "output_type": "stream",
     "text": [
      "emp\n",
      "salary\n"
     ]
    }
   ],
   "source": [
    "# Problem 1\n",
    "def display(**kwargs):\n",
    "    for i in kwargs:\n",
    "        print(i)\n",
    "display(emp=\"Kelly\", salary=9000)"
   ]
  },
  {
   "cell_type": "code",
   "execution_count": 3,
   "metadata": {},
   "outputs": [
    {
     "name": "stdout",
     "output_type": "stream",
     "text": [
      "(8, 7)\n"
     ]
    }
   ],
   "source": [
    "# Problem 2\n",
    "def add(a, b):\n",
    "    return a+5, b+5\n",
    "\n",
    "result = add(3, 2)\n",
    "print(result)"
   ]
  },
  {
   "cell_type": "code",
   "execution_count": 4,
   "metadata": {},
   "outputs": [
    {
     "name": "stdout",
     "output_type": "stream",
     "text": [
      "15\n"
     ]
    }
   ],
   "source": [
    "# Problem 3\n",
    "def outerFun(a, b):\n",
    "    def innerFun(c, d):\n",
    "        return c + d\n",
    "    return innerFun(a, b)\n",
    "\n",
    "res = outerFun(5, 10)\n",
    "print(res)"
   ]
  },
  {
   "cell_type": "code",
   "execution_count": 6,
   "metadata": {},
   "outputs": [
    {
     "name": "stdout",
     "output_type": "stream",
     "text": [
      "15\n"
     ]
    }
   ],
   "source": [
    "# Problem 4\n",
    "def outerFun(a, b):\n",
    "    def innerFun(c, d):\n",
    "        return c + d\n",
    "    return innerFun(a, b)\n",
    "    return a\n",
    "\n",
    "result = outerFun(5, 10)\n",
    "print(result)"
   ]
  },
  {
   "cell_type": "code",
   "execution_count": 7,
   "metadata": {},
   "outputs": [
    {
     "name": "stdout",
     "output_type": "stream",
     "text": [
      "Hello\n",
      "Hello\n",
      "Hello\n",
      "Hello\n"
     ]
    }
   ],
   "source": [
    "def myfunc(text, num):\n",
    "    while num > 0:\n",
    "        print(text)\n",
    "        num = num - 1\n",
    "\n",
    "myfunc('Hello', 4)"
   ]
  },
  {
   "cell_type": "code",
   "execution_count": 11,
   "metadata": {},
   "outputs": [
    {
     "name": "stdout",
     "output_type": "stream",
     "text": [
      "Maximum number is  7\n"
     ]
    }
   ],
   "source": [
    "# Write a Python function to find the Max of three numbers\n",
    "a = 7\n",
    "b = 5\n",
    "c = 4\n",
    "def max(x,y,z):\n",
    "    if x > y and x > z:\n",
    "        return x\n",
    "    elif y > x and y > z:\n",
    "        return y\n",
    "    else:\n",
    "        return z\n",
    "print(\"Maximum number is \",max(a,b,c))"
   ]
  },
  {
   "cell_type": "code",
   "execution_count": 14,
   "metadata": {},
   "outputs": [
    {
     "name": "stdout",
     "output_type": "stream",
     "text": [
      "45\n"
     ]
    }
   ],
   "source": [
    "# Function to sum all the numbers in a list\n",
    "list1 = [1,2,3,4,5,6,7,8,9]\n",
    "from functools import reduce\n",
    "sum = reduce(lambda x,y:x+y , list1)\n",
    "print(sum)"
   ]
  },
  {
   "cell_type": "code",
   "execution_count": 16,
   "metadata": {},
   "outputs": [
    {
     "name": "stdout",
     "output_type": "stream",
     "text": [
      "362880\n"
     ]
    }
   ],
   "source": [
    "# Function to multipli all the numbers in list\n",
    "mul = reduce(lambda x,y:x*y , list1)\n",
    "print(mul)"
   ]
  },
  {
   "cell_type": "code",
   "execution_count": 1,
   "metadata": {},
   "outputs": [
    {
     "name": "stdout",
     "output_type": "stream",
     "text": [
      "ecneicS ataD\n",
      "ecneicS ataDe\n"
     ]
    }
   ],
   "source": [
    "# Reversing a String\n",
    "str1 = 'Data Science'\n",
    "print(str1[::-1])\n",
    "index = len(str1)\n",
    "str2 = ''\n",
    "while index >= 0:\n",
    "    str2 += str1[index-1]\n",
    "    index -= 1\n",
    "print(str2)"
   ]
  },
  {
   "cell_type": "code",
   "execution_count": 29,
   "metadata": {},
   "outputs": [
    {
     "name": "stdout",
     "output_type": "stream",
     "text": [
      "12\n"
     ]
    }
   ],
   "source": [
    "print(index)"
   ]
  },
  {
   "cell_type": "code",
   "execution_count": 48,
   "metadata": {},
   "outputs": [
    {
     "name": "stdout",
     "output_type": "stream",
     "text": [
      "we have  5  upper case alphabets\n",
      "we have  8  lower case alphabets\n"
     ]
    }
   ],
   "source": [
    "# function that accepts a string and calculate the number of upper case letters and lower case letters.\n",
    "name = 'Ali HaSSan Awan'\n",
    "c = 0\n",
    "d = 0\n",
    "for i in name:\n",
    "    if i.isupper():\n",
    "        c += 1\n",
    "    elif i.islower():\n",
    "        d += 1\n",
    "    else:\n",
    "        continue\n",
    "        \n",
    "print(\"we have \",c,\" upper case alphabets\")\n",
    "print(\"we have \",d,\" lower case alphabets\")"
   ]
  },
  {
   "cell_type": "code",
   "execution_count": 3,
   "metadata": {},
   "outputs": [
    {
     "name": "stdout",
     "output_type": "stream",
     "text": [
      "factorial is  120\n"
     ]
    }
   ],
   "source": [
    "# Function to calculate the factirial of a number\n",
    "def fact(n):\n",
    "    m = n-1\n",
    "    while m >= 1:\n",
    "        n = n * m\n",
    "        m -= 1\n",
    "    return n\n",
    "x = 5\n",
    "print(\"factorial is \",fact(x))"
   ]
  },
  {
   "cell_type": "code",
   "execution_count": 34,
   "metadata": {},
   "outputs": [
    {
     "name": "stdout",
     "output_type": "stream",
     "text": [
      " 5.0 is in the range\n",
      "5 is in the range\n"
     ]
    }
   ],
   "source": [
    "def test_range(n):\n",
    "    if n in range(3,9):\n",
    "        print( \" %s is in the range\"%float(n))\n",
    "        print(int(n),'is in the range')\n",
    "    else :\n",
    "        print(\"The number is outside the given range.\")\n",
    "test_range(5)\n"
   ]
  },
  {
   "cell_type": "code",
   "execution_count": 48,
   "metadata": {},
   "outputs": [
    {
     "name": "stdout",
     "output_type": "stream",
     "text": [
      "-22.0\n",
      "-22.0\n",
      "(-22+0j)\n",
      "True\n",
      "-22\n",
      "-22.000000\n"
     ]
    }
   ],
   "source": [
    "x = -22.00\n",
    "print(float(x))\n",
    "print(str(x))\n",
    "print(complex(x))\n",
    "print(bool(x))\n",
    "print(int(x))\n",
    "print(\"%f\"%float(x))"
   ]
  },
  {
   "cell_type": "code",
   "execution_count": 54,
   "metadata": {},
   "outputs": [
    {
     "name": "stdout",
     "output_type": "stream",
     "text": [
      "[1, 2, 3, 4, 5, 6, 7]\n"
     ]
    }
   ],
   "source": [
    "# Function to create a new list of unique values\n",
    "l1 = [1,2,3,3,3,4,4,4,5,6,6,6,7,7]\n",
    "l3 = []\n",
    "def check(l2):\n",
    "    for i in l2:\n",
    "        if i not in l3:\n",
    "            l3.append(i)\n",
    "    return l3\n",
    "print(check(l1))"
   ]
  },
  {
   "cell_type": "code",
   "execution_count": null,
   "metadata": {},
   "outputs": [],
   "source": [
    "def prime(y):\n",
    "    a = 2\n",
    "    count = 0\n",
    "    while a <= y:\n",
    "        if y%a == 0:\n",
    "            count += 1\n",
    "        a += 1\n",
    "    if count == 1:\n",
    "        print(\"the number is prime\")\n",
    "    else:\n",
    "        print(\"not prime\")\n",
    "prime(4)        "
   ]
  },
  {
   "cell_type": "code",
   "execution_count": 3,
   "metadata": {},
   "outputs": [
    {
     "name": "stdout",
     "output_type": "stream",
     "text": [
      "ali hassan reads in class nan\n",
      "['ali', 'hassan', 'reads', 'in', 'class', 'nan']\n"
     ]
    }
   ],
   "source": [
    "items=[n for n in input().split(' ')]\n",
    "# print(items)\n",
    "#items.sort()\n",
    "#print(' '.join(items))\n",
    "print(items)"
   ]
  },
  {
   "cell_type": "code",
   "execution_count": 4,
   "metadata": {},
   "outputs": [
    {
     "name": "stdout",
     "output_type": "stream",
     "text": [
      "ali hassan reads in class nan\n"
     ]
    }
   ],
   "source": [
    "print(' '.join(items))"
   ]
  },
  {
   "cell_type": "code",
   "execution_count": 7,
   "metadata": {},
   "outputs": [
    {
     "name": "stdout",
     "output_type": "stream",
     "text": [
      "1 2 3 4 5\n",
      "['1', '2', '3', '4', '5']\n",
      "1@2@3@4@5\n"
     ]
    },
    {
     "ename": "NameError",
     "evalue": "name 'split' is not defined",
     "output_type": "error",
     "traceback": [
      "\u001b[1;31m---------------------------------------------------------------------------\u001b[0m",
      "\u001b[1;31mNameError\u001b[0m                                 Traceback (most recent call last)",
      "\u001b[1;32m<ipython-input-7-79a9ea2c526a>\u001b[0m in \u001b[0;36m<module>\u001b[1;34m\u001b[0m\n\u001b[0;32m      3\u001b[0m \u001b[0ml1\u001b[0m\u001b[1;33m.\u001b[0m\u001b[0msort\u001b[0m\u001b[1;33m(\u001b[0m\u001b[1;33m)\u001b[0m\u001b[1;33m\u001b[0m\u001b[1;33m\u001b[0m\u001b[0m\n\u001b[0;32m      4\u001b[0m \u001b[0mprint\u001b[0m\u001b[1;33m(\u001b[0m\u001b[1;34m'@'\u001b[0m\u001b[1;33m.\u001b[0m\u001b[0mjoin\u001b[0m\u001b[1;33m(\u001b[0m\u001b[0ml1\u001b[0m\u001b[1;33m)\u001b[0m\u001b[1;33m)\u001b[0m\u001b[1;33m\u001b[0m\u001b[1;33m\u001b[0m\u001b[0m\n\u001b[1;32m----> 5\u001b[1;33m \u001b[0mhelp\u001b[0m\u001b[1;33m(\u001b[0m\u001b[0msplit\u001b[0m\u001b[1;33m(\u001b[0m\u001b[1;33m)\u001b[0m\u001b[1;33m)\u001b[0m\u001b[1;33m\u001b[0m\u001b[1;33m\u001b[0m\u001b[0m\n\u001b[0m",
      "\u001b[1;31mNameError\u001b[0m: name 'split' is not defined"
     ]
    }
   ],
   "source": [
    "l1 = [n for n in input().split(' ')]\n",
    "print(l1)\n",
    "l1.sort()\n",
    "print('@'.join(l1))\n",
    "help(split())"
   ]
  },
  {
   "cell_type": "code",
   "execution_count": 8,
   "metadata": {},
   "outputs": [
    {
     "ename": "NameError",
     "evalue": "name 'split' is not defined",
     "output_type": "error",
     "traceback": [
      "\u001b[1;31m---------------------------------------------------------------------------\u001b[0m",
      "\u001b[1;31mNameError\u001b[0m                                 Traceback (most recent call last)",
      "\u001b[1;32m<ipython-input-8-08f05e6f4bd6>\u001b[0m in \u001b[0;36m<module>\u001b[1;34m\u001b[0m\n\u001b[1;32m----> 1\u001b[1;33m \u001b[0mhelp\u001b[0m\u001b[1;33m(\u001b[0m\u001b[0msplit\u001b[0m\u001b[1;33m(\u001b[0m\u001b[1;33m)\u001b[0m\u001b[1;33m)\u001b[0m\u001b[1;33m\u001b[0m\u001b[1;33m\u001b[0m\u001b[0m\n\u001b[0m",
      "\u001b[1;31mNameError\u001b[0m: name 'split' is not defined"
     ]
    }
   ],
   "source": [
    "help(split())"
   ]
  },
  {
   "cell_type": "code",
   "execution_count": null,
   "metadata": {},
   "outputs": [],
   "source": []
  }
 ],
 "metadata": {
  "kernelspec": {
   "display_name": "Python 3",
   "language": "python",
   "name": "python3"
  },
  "language_info": {
   "codemirror_mode": {
    "name": "ipython",
    "version": 3
   },
   "file_extension": ".py",
   "mimetype": "text/x-python",
   "name": "python",
   "nbconvert_exporter": "python",
   "pygments_lexer": "ipython3",
   "version": "3.8.5"
  }
 },
 "nbformat": 4,
 "nbformat_minor": 4
}
