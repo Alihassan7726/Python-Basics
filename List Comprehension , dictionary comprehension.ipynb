{
 "cells": [
  {
   "cell_type": "code",
   "execution_count": 5,
   "metadata": {},
   "outputs": [
    {
     "name": "stdout",
     "output_type": "stream",
     "text": [
      "On mon we have these:pasta , macroni to eat.\n",
      "On tue we have these:spegiti , rice to eat.\n",
      "On wed we have these:meat , biryani to eat.\n"
     ]
    }
   ],
   "source": [
    "d1 = {\n",
    "    'mon':['pasta','macroni'],\n",
    "    'tue':['spegiti','rice'],\n",
    "    'wed':['meat','biryani']\n",
    "}\n",
    "d2 = {\n",
    "    'mon':'icecream',\n",
    "    'tue':'bakry',\n",
    "    'wed':'eggs'\n",
    "}\n",
    "for day,m in d1.items():\n",
    "    print(f'On {day} we have these:{m[0]} , {m[1]} to eat.')"
   ]
  },
  {
   "cell_type": "code",
   "execution_count": 40,
   "metadata": {},
   "outputs": [
    {
     "name": "stdout",
     "output_type": "stream",
     "text": [
      "On mon we have pasta and macroni along these: icecream to eat.\n",
      "On tue we have spegiti and rice along these: bakry to eat.\n",
      "On wed we have meat and biryani along these: eggs to eat.\n"
     ]
    }
   ],
   "source": [
    "# 1.\n",
    "for (day,m,) in zip(d1.items(),d2.values()):\n",
    "    print(f'On {day[0]} we have {day[1][0]} and {day[1][1]} along these: {m} to eat.')"
   ]
  },
  {
   "cell_type": "code",
   "execution_count": 41,
   "metadata": {},
   "outputs": [
    {
     "name": "stdout",
     "output_type": "stream",
     "text": [
      "On mon we have pasta and macroni along these: icecream to eat.\n",
      "On tue we have spegiti and rice along these: bakry to eat.\n",
      "On wed we have meat and biryani along these: eggs to eat.\n"
     ]
    }
   ],
   "source": [
    "# 2.\n",
    "for day, m in d1.items():\n",
    "    print(f'On {day} we have {m[0]} and {m[1]} along these: {d2[day]} to eat.')"
   ]
  },
  {
   "cell_type": "code",
   "execution_count": 42,
   "metadata": {},
   "outputs": [
    {
     "name": "stdout",
     "output_type": "stream",
     "text": [
      "[('mon', 'pasta', 'macroni', 'icecream'), ('tue', 'spegiti', 'rice', 'bakry'), ('wed', 'meat', 'biryani', 'eggs')]\n"
     ]
    }
   ],
   "source": [
    "# 3 .\n",
    "l1 =[(day,m[0],m[1],d2[day]) for day,m in d1.items()] \n",
    "print(l1)"
   ]
  },
  {
   "cell_type": "code",
   "execution_count": 38,
   "metadata": {},
   "outputs": [
    {
     "name": "stdout",
     "output_type": "stream",
     "text": [
      "[(('mon', ['pasta', 'macroni']), 'icecream'), (('tue', ['spegiti', 'rice']), 'bakry'), (('wed', ['meat', 'biryani']), 'eggs')]\n"
     ]
    }
   ],
   "source": [
    "b = zip(d1.items(),d2.values())\n",
    "print(list(b))"
   ]
  },
  {
   "cell_type": "code",
   "execution_count": 13,
   "metadata": {},
   "outputs": [
    {
     "data": {
      "text/plain": [
       "dict_values(['icecream', 'bakry', 'eggs'])"
      ]
     },
     "execution_count": 13,
     "metadata": {},
     "output_type": "execute_result"
    }
   ],
   "source": [
    "d2.values()"
   ]
  },
  {
   "cell_type": "code",
   "execution_count": 3,
   "metadata": {},
   "outputs": [
    {
     "name": "stdout",
     "output_type": "stream",
     "text": [
      "[(1, 5), (2, 6), (3, 7), (4, 8)]\n",
      "1 -- 5\n",
      "2 -- 6\n",
      "3 -- 7\n",
      "4 -- 8\n"
     ]
    }
   ],
   "source": [
    "a = [1,2,3,4]\n",
    "b = [5,6,7,8]\n",
    "c = list(zip(a,b))\n",
    "print(c)\n",
    "for x,y in zip(a,b):\n",
    "    print(x,\"--\",y)"
   ]
  },
  {
   "cell_type": "code",
   "execution_count": 29,
   "metadata": {},
   "outputs": [
    {
     "data": {
      "text/plain": [
       "dict_items([('mon', ['pasta', 'macroni']), ('tue', ['spegiti', 'rice']), ('wed', ['meat', 'biryani'])])"
      ]
     },
     "execution_count": 29,
     "metadata": {},
     "output_type": "execute_result"
    }
   ],
   "source": [
    "d1.items()"
   ]
  },
  {
   "cell_type": "code",
   "execution_count": null,
   "metadata": {},
   "outputs": [],
   "source": []
  }
 ],
 "metadata": {
  "kernelspec": {
   "display_name": "Python 3",
   "language": "python",
   "name": "python3"
  },
  "language_info": {
   "codemirror_mode": {
    "name": "ipython",
    "version": 3
   },
   "file_extension": ".py",
   "mimetype": "text/x-python",
   "name": "python",
   "nbconvert_exporter": "python",
   "pygments_lexer": "ipython3",
   "version": "3.8.5"
  }
 },
 "nbformat": 4,
 "nbformat_minor": 4
}
