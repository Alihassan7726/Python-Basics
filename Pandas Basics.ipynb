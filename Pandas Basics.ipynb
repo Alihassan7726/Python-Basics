{
 "cells": [
  {
   "cell_type": "code",
   "execution_count": null,
   "metadata": {},
   "outputs": [],
   "source": []
  },
  {
   "cell_type": "code",
   "execution_count": 1,
   "metadata": {},
   "outputs": [
    {
     "name": "stdout",
     "output_type": "stream",
     "text": [
      "Requirement already satisfied: pandas in c:\\anaconda\\lib\\site-packages (1.0.5)\n",
      "Requirement already satisfied: pytz>=2017.2 in c:\\anaconda\\lib\\site-packages (from pandas) (2020.1)\n",
      "Requirement already satisfied: numpy>=1.13.3 in c:\\anaconda\\lib\\site-packages (from pandas) (1.18.5)\n",
      "Requirement already satisfied: python-dateutil>=2.6.1 in c:\\anaconda\\lib\\site-packages (from pandas) (2.8.1)\n",
      "Requirement already satisfied: six>=1.5 in c:\\anaconda\\lib\\site-packages (from python-dateutil>=2.6.1->pandas) (1.15.0)\n",
      "Note: you may need to restart the kernel to use updated packages.\n"
     ]
    }
   ],
   "source": [
    "pip install pandas"
   ]
  },
  {
   "cell_type": "code",
   "execution_count": 2,
   "metadata": {},
   "outputs": [
    {
     "data": {
      "text/html": [
       "<div>\n",
       "<style scoped>\n",
       "    .dataframe tbody tr th:only-of-type {\n",
       "        vertical-align: middle;\n",
       "    }\n",
       "\n",
       "    .dataframe tbody tr th {\n",
       "        vertical-align: top;\n",
       "    }\n",
       "\n",
       "    .dataframe thead th {\n",
       "        text-align: right;\n",
       "    }\n",
       "</style>\n",
       "<table border=\"1\" class=\"dataframe\">\n",
       "  <thead>\n",
       "    <tr style=\"text-align: right;\">\n",
       "      <th></th>\n",
       "      <th>E1001</th>\n",
       "      <th>John</th>\n",
       "      <th>Thomas</th>\n",
       "      <th>123456</th>\n",
       "      <th>1976-01-09</th>\n",
       "      <th>M</th>\n",
       "      <th>5631 Rice, OakPark,IL</th>\n",
       "      <th>100</th>\n",
       "      <th>100000</th>\n",
       "      <th>30001</th>\n",
       "      <th>2</th>\n",
       "    </tr>\n",
       "  </thead>\n",
       "  <tbody>\n",
       "    <tr>\n",
       "      <th>0</th>\n",
       "      <td>E1002</td>\n",
       "      <td>Alice</td>\n",
       "      <td>James</td>\n",
       "      <td>123457</td>\n",
       "      <td>1972-07-31</td>\n",
       "      <td>F</td>\n",
       "      <td>980 Berry ln, Elgin,IL</td>\n",
       "      <td>200</td>\n",
       "      <td>80000</td>\n",
       "      <td>30002</td>\n",
       "      <td>5</td>\n",
       "    </tr>\n",
       "    <tr>\n",
       "      <th>1</th>\n",
       "      <td>E1003</td>\n",
       "      <td>Steve</td>\n",
       "      <td>Wells</td>\n",
       "      <td>123458</td>\n",
       "      <td>1980-08-10</td>\n",
       "      <td>M</td>\n",
       "      <td>291 Springs, Gary,IL</td>\n",
       "      <td>300</td>\n",
       "      <td>50000</td>\n",
       "      <td>30002</td>\n",
       "      <td>5</td>\n",
       "    </tr>\n",
       "    <tr>\n",
       "      <th>2</th>\n",
       "      <td>E1004</td>\n",
       "      <td>Santosh</td>\n",
       "      <td>Kumar</td>\n",
       "      <td>123459</td>\n",
       "      <td>1985-07-20</td>\n",
       "      <td>M</td>\n",
       "      <td>511 Aurora Av, Aurora,IL</td>\n",
       "      <td>400</td>\n",
       "      <td>60000</td>\n",
       "      <td>30004</td>\n",
       "      <td>5</td>\n",
       "    </tr>\n",
       "    <tr>\n",
       "      <th>3</th>\n",
       "      <td>E1005</td>\n",
       "      <td>Ahmed</td>\n",
       "      <td>Hussain</td>\n",
       "      <td>123410</td>\n",
       "      <td>1981-01-04</td>\n",
       "      <td>M</td>\n",
       "      <td>216 Oak Tree, Geneva,IL</td>\n",
       "      <td>500</td>\n",
       "      <td>70000</td>\n",
       "      <td>30001</td>\n",
       "      <td>2</td>\n",
       "    </tr>\n",
       "    <tr>\n",
       "      <th>4</th>\n",
       "      <td>E1006</td>\n",
       "      <td>Nancy</td>\n",
       "      <td>Allen</td>\n",
       "      <td>123411</td>\n",
       "      <td>1978-02-06</td>\n",
       "      <td>F</td>\n",
       "      <td>111 Green Pl, Elgin,IL</td>\n",
       "      <td>600</td>\n",
       "      <td>90000</td>\n",
       "      <td>30001</td>\n",
       "      <td>2</td>\n",
       "    </tr>\n",
       "    <tr>\n",
       "      <th>5</th>\n",
       "      <td>E1007</td>\n",
       "      <td>Mary</td>\n",
       "      <td>Thomas</td>\n",
       "      <td>123412</td>\n",
       "      <td>1975-05-05</td>\n",
       "      <td>F</td>\n",
       "      <td>100 Rose Pl, Gary,IL</td>\n",
       "      <td>650</td>\n",
       "      <td>65000</td>\n",
       "      <td>30003</td>\n",
       "      <td>7</td>\n",
       "    </tr>\n",
       "    <tr>\n",
       "      <th>6</th>\n",
       "      <td>E1008</td>\n",
       "      <td>Bharath</td>\n",
       "      <td>Gupta</td>\n",
       "      <td>123413</td>\n",
       "      <td>1985-05-06</td>\n",
       "      <td>M</td>\n",
       "      <td>145 Berry Ln, Naperville,IL</td>\n",
       "      <td>660</td>\n",
       "      <td>65000</td>\n",
       "      <td>30003</td>\n",
       "      <td>7</td>\n",
       "    </tr>\n",
       "    <tr>\n",
       "      <th>7</th>\n",
       "      <td>E1009</td>\n",
       "      <td>Andrea</td>\n",
       "      <td>Jones</td>\n",
       "      <td>123414</td>\n",
       "      <td>1990-07-09</td>\n",
       "      <td>F</td>\n",
       "      <td>120 Fall Creek, Gary,IL</td>\n",
       "      <td>234</td>\n",
       "      <td>70000</td>\n",
       "      <td>30003</td>\n",
       "      <td>7</td>\n",
       "    </tr>\n",
       "    <tr>\n",
       "      <th>8</th>\n",
       "      <td>E1010</td>\n",
       "      <td>Ann</td>\n",
       "      <td>Jacob</td>\n",
       "      <td>123415</td>\n",
       "      <td>1982-03-30</td>\n",
       "      <td>F</td>\n",
       "      <td>111 Britany Springs,Elgin,IL</td>\n",
       "      <td>220</td>\n",
       "      <td>70000</td>\n",
       "      <td>30004</td>\n",
       "      <td>5</td>\n",
       "    </tr>\n",
       "  </tbody>\n",
       "</table>\n",
       "</div>"
      ],
      "text/plain": [
       "   E1001     John   Thomas  123456  1976-01-09  M  \\\n",
       "0  E1002    Alice    James  123457  1972-07-31  F   \n",
       "1  E1003    Steve    Wells  123458  1980-08-10  M   \n",
       "2  E1004  Santosh    Kumar  123459  1985-07-20  M   \n",
       "3  E1005    Ahmed  Hussain  123410  1981-01-04  M   \n",
       "4  E1006    Nancy    Allen  123411  1978-02-06  F   \n",
       "5  E1007     Mary   Thomas  123412  1975-05-05  F   \n",
       "6  E1008  Bharath    Gupta  123413  1985-05-06  M   \n",
       "7  E1009   Andrea    Jones  123414  1990-07-09  F   \n",
       "8  E1010      Ann    Jacob  123415  1982-03-30  F   \n",
       "\n",
       "          5631 Rice, OakPark,IL  100  100000  30001  2  \n",
       "0        980 Berry ln, Elgin,IL  200   80000  30002  5  \n",
       "1          291 Springs, Gary,IL  300   50000  30002  5  \n",
       "2      511 Aurora Av, Aurora,IL  400   60000  30004  5  \n",
       "3       216 Oak Tree, Geneva,IL  500   70000  30001  2  \n",
       "4        111 Green Pl, Elgin,IL  600   90000  30001  2  \n",
       "5          100 Rose Pl, Gary,IL  650   65000  30003  7  \n",
       "6   145 Berry Ln, Naperville,IL  660   65000  30003  7  \n",
       "7       120 Fall Creek, Gary,IL  234   70000  30003  7  \n",
       "8  111 Britany Springs,Elgin,IL  220   70000  30004  5  "
      ]
     },
     "execution_count": 2,
     "metadata": {},
     "output_type": "execute_result"
    }
   ],
   "source": [
    "import pandas as pd\n",
    "emp = pd.read_csv(r'C:\\SQL\\Employees.csv')\n",
    "emp"
   ]
  },
  {
   "cell_type": "code",
   "execution_count": 4,
   "metadata": {},
   "outputs": [
    {
     "data": {
      "text/html": [
       "<div>\n",
       "<style scoped>\n",
       "    .dataframe tbody tr th:only-of-type {\n",
       "        vertical-align: middle;\n",
       "    }\n",
       "\n",
       "    .dataframe tbody tr th {\n",
       "        vertical-align: top;\n",
       "    }\n",
       "\n",
       "    .dataframe thead th {\n",
       "        text-align: right;\n",
       "    }\n",
       "</style>\n",
       "<table border=\"1\" class=\"dataframe\">\n",
       "  <thead>\n",
       "    <tr style=\"text-align: right;\">\n",
       "      <th></th>\n",
       "      <th>E1001</th>\n",
       "      <th>John</th>\n",
       "      <th>Thomas</th>\n",
       "      <th>123456</th>\n",
       "      <th>1976-01-09</th>\n",
       "      <th>M</th>\n",
       "      <th>5631 Rice, OakPark,IL</th>\n",
       "      <th>100</th>\n",
       "      <th>100000</th>\n",
       "      <th>30001</th>\n",
       "      <th>2</th>\n",
       "    </tr>\n",
       "  </thead>\n",
       "  <tbody>\n",
       "    <tr>\n",
       "      <th>0</th>\n",
       "      <td>E1002</td>\n",
       "      <td>Alice</td>\n",
       "      <td>James</td>\n",
       "      <td>123457</td>\n",
       "      <td>1972-07-31</td>\n",
       "      <td>F</td>\n",
       "      <td>980 Berry ln, Elgin,IL</td>\n",
       "      <td>200</td>\n",
       "      <td>80000</td>\n",
       "      <td>30002</td>\n",
       "      <td>5</td>\n",
       "    </tr>\n",
       "    <tr>\n",
       "      <th>1</th>\n",
       "      <td>E1003</td>\n",
       "      <td>Steve</td>\n",
       "      <td>Wells</td>\n",
       "      <td>123458</td>\n",
       "      <td>1980-08-10</td>\n",
       "      <td>M</td>\n",
       "      <td>291 Springs, Gary,IL</td>\n",
       "      <td>300</td>\n",
       "      <td>50000</td>\n",
       "      <td>30002</td>\n",
       "      <td>5</td>\n",
       "    </tr>\n",
       "    <tr>\n",
       "      <th>2</th>\n",
       "      <td>E1004</td>\n",
       "      <td>Santosh</td>\n",
       "      <td>Kumar</td>\n",
       "      <td>123459</td>\n",
       "      <td>1985-07-20</td>\n",
       "      <td>M</td>\n",
       "      <td>511 Aurora Av, Aurora,IL</td>\n",
       "      <td>400</td>\n",
       "      <td>60000</td>\n",
       "      <td>30004</td>\n",
       "      <td>5</td>\n",
       "    </tr>\n",
       "    <tr>\n",
       "      <th>3</th>\n",
       "      <td>E1005</td>\n",
       "      <td>Ahmed</td>\n",
       "      <td>Hussain</td>\n",
       "      <td>123410</td>\n",
       "      <td>1981-01-04</td>\n",
       "      <td>M</td>\n",
       "      <td>216 Oak Tree, Geneva,IL</td>\n",
       "      <td>500</td>\n",
       "      <td>70000</td>\n",
       "      <td>30001</td>\n",
       "      <td>2</td>\n",
       "    </tr>\n",
       "    <tr>\n",
       "      <th>4</th>\n",
       "      <td>E1006</td>\n",
       "      <td>Nancy</td>\n",
       "      <td>Allen</td>\n",
       "      <td>123411</td>\n",
       "      <td>1978-02-06</td>\n",
       "      <td>F</td>\n",
       "      <td>111 Green Pl, Elgin,IL</td>\n",
       "      <td>600</td>\n",
       "      <td>90000</td>\n",
       "      <td>30001</td>\n",
       "      <td>2</td>\n",
       "    </tr>\n",
       "  </tbody>\n",
       "</table>\n",
       "</div>"
      ],
      "text/plain": [
       "   E1001     John   Thomas  123456  1976-01-09  M     5631 Rice, OakPark,IL  \\\n",
       "0  E1002    Alice    James  123457  1972-07-31  F    980 Berry ln, Elgin,IL   \n",
       "1  E1003    Steve    Wells  123458  1980-08-10  M      291 Springs, Gary,IL   \n",
       "2  E1004  Santosh    Kumar  123459  1985-07-20  M  511 Aurora Av, Aurora,IL   \n",
       "3  E1005    Ahmed  Hussain  123410  1981-01-04  M   216 Oak Tree, Geneva,IL   \n",
       "4  E1006    Nancy    Allen  123411  1978-02-06  F    111 Green Pl, Elgin,IL   \n",
       "\n",
       "   100  100000  30001  2  \n",
       "0  200   80000  30002  5  \n",
       "1  300   50000  30002  5  \n",
       "2  400   60000  30004  5  \n",
       "3  500   70000  30001  2  \n",
       "4  600   90000  30001  2  "
      ]
     },
     "execution_count": 4,
     "metadata": {},
     "output_type": "execute_result"
    }
   ],
   "source": [
    "emp.head()"
   ]
  },
  {
   "cell_type": "code",
   "execution_count": 5,
   "metadata": {},
   "outputs": [
    {
     "data": {
      "text/html": [
       "<div>\n",
       "<style scoped>\n",
       "    .dataframe tbody tr th:only-of-type {\n",
       "        vertical-align: middle;\n",
       "    }\n",
       "\n",
       "    .dataframe tbody tr th {\n",
       "        vertical-align: top;\n",
       "    }\n",
       "\n",
       "    .dataframe thead th {\n",
       "        text-align: right;\n",
       "    }\n",
       "</style>\n",
       "<table border=\"1\" class=\"dataframe\">\n",
       "  <thead>\n",
       "    <tr style=\"text-align: right;\">\n",
       "      <th></th>\n",
       "      <th>E1001</th>\n",
       "      <th>John</th>\n",
       "      <th>Thomas</th>\n",
       "      <th>123456</th>\n",
       "      <th>1976-01-09</th>\n",
       "      <th>M</th>\n",
       "      <th>5631 Rice, OakPark,IL</th>\n",
       "      <th>100</th>\n",
       "      <th>100000</th>\n",
       "      <th>30001</th>\n",
       "      <th>2</th>\n",
       "    </tr>\n",
       "  </thead>\n",
       "  <tbody>\n",
       "    <tr>\n",
       "      <th>4</th>\n",
       "      <td>E1006</td>\n",
       "      <td>Nancy</td>\n",
       "      <td>Allen</td>\n",
       "      <td>123411</td>\n",
       "      <td>1978-02-06</td>\n",
       "      <td>F</td>\n",
       "      <td>111 Green Pl, Elgin,IL</td>\n",
       "      <td>600</td>\n",
       "      <td>90000</td>\n",
       "      <td>30001</td>\n",
       "      <td>2</td>\n",
       "    </tr>\n",
       "    <tr>\n",
       "      <th>5</th>\n",
       "      <td>E1007</td>\n",
       "      <td>Mary</td>\n",
       "      <td>Thomas</td>\n",
       "      <td>123412</td>\n",
       "      <td>1975-05-05</td>\n",
       "      <td>F</td>\n",
       "      <td>100 Rose Pl, Gary,IL</td>\n",
       "      <td>650</td>\n",
       "      <td>65000</td>\n",
       "      <td>30003</td>\n",
       "      <td>7</td>\n",
       "    </tr>\n",
       "    <tr>\n",
       "      <th>6</th>\n",
       "      <td>E1008</td>\n",
       "      <td>Bharath</td>\n",
       "      <td>Gupta</td>\n",
       "      <td>123413</td>\n",
       "      <td>1985-05-06</td>\n",
       "      <td>M</td>\n",
       "      <td>145 Berry Ln, Naperville,IL</td>\n",
       "      <td>660</td>\n",
       "      <td>65000</td>\n",
       "      <td>30003</td>\n",
       "      <td>7</td>\n",
       "    </tr>\n",
       "    <tr>\n",
       "      <th>7</th>\n",
       "      <td>E1009</td>\n",
       "      <td>Andrea</td>\n",
       "      <td>Jones</td>\n",
       "      <td>123414</td>\n",
       "      <td>1990-07-09</td>\n",
       "      <td>F</td>\n",
       "      <td>120 Fall Creek, Gary,IL</td>\n",
       "      <td>234</td>\n",
       "      <td>70000</td>\n",
       "      <td>30003</td>\n",
       "      <td>7</td>\n",
       "    </tr>\n",
       "    <tr>\n",
       "      <th>8</th>\n",
       "      <td>E1010</td>\n",
       "      <td>Ann</td>\n",
       "      <td>Jacob</td>\n",
       "      <td>123415</td>\n",
       "      <td>1982-03-30</td>\n",
       "      <td>F</td>\n",
       "      <td>111 Britany Springs,Elgin,IL</td>\n",
       "      <td>220</td>\n",
       "      <td>70000</td>\n",
       "      <td>30004</td>\n",
       "      <td>5</td>\n",
       "    </tr>\n",
       "  </tbody>\n",
       "</table>\n",
       "</div>"
      ],
      "text/plain": [
       "   E1001     John  Thomas  123456  1976-01-09  M  \\\n",
       "4  E1006    Nancy   Allen  123411  1978-02-06  F   \n",
       "5  E1007     Mary  Thomas  123412  1975-05-05  F   \n",
       "6  E1008  Bharath   Gupta  123413  1985-05-06  M   \n",
       "7  E1009   Andrea   Jones  123414  1990-07-09  F   \n",
       "8  E1010      Ann   Jacob  123415  1982-03-30  F   \n",
       "\n",
       "          5631 Rice, OakPark,IL  100  100000  30001  2  \n",
       "4        111 Green Pl, Elgin,IL  600   90000  30001  2  \n",
       "5          100 Rose Pl, Gary,IL  650   65000  30003  7  \n",
       "6   145 Berry Ln, Naperville,IL  660   65000  30003  7  \n",
       "7       120 Fall Creek, Gary,IL  234   70000  30003  7  \n",
       "8  111 Britany Springs,Elgin,IL  220   70000  30004  5  "
      ]
     },
     "execution_count": 5,
     "metadata": {},
     "output_type": "execute_result"
    }
   ],
   "source": [
    "emp.tail()"
   ]
  },
  {
   "cell_type": "code",
   "execution_count": 6,
   "metadata": {},
   "outputs": [
    {
     "data": {
      "text/html": [
       "<div>\n",
       "<style scoped>\n",
       "    .dataframe tbody tr th:only-of-type {\n",
       "        vertical-align: middle;\n",
       "    }\n",
       "\n",
       "    .dataframe tbody tr th {\n",
       "        vertical-align: top;\n",
       "    }\n",
       "\n",
       "    .dataframe thead th {\n",
       "        text-align: right;\n",
       "    }\n",
       "</style>\n",
       "<table border=\"1\" class=\"dataframe\">\n",
       "  <thead>\n",
       "    <tr style=\"text-align: right;\">\n",
       "      <th></th>\n",
       "      <th>123456</th>\n",
       "      <th>100</th>\n",
       "      <th>100000</th>\n",
       "      <th>30001</th>\n",
       "      <th>2</th>\n",
       "    </tr>\n",
       "  </thead>\n",
       "  <tbody>\n",
       "    <tr>\n",
       "      <th>count</th>\n",
       "      <td>9.000000</td>\n",
       "      <td>9.000000</td>\n",
       "      <td>9.000000</td>\n",
       "      <td>9.000000</td>\n",
       "      <td>9.000000</td>\n",
       "    </tr>\n",
       "    <tr>\n",
       "      <th>mean</th>\n",
       "      <td>123427.666667</td>\n",
       "      <td>418.222222</td>\n",
       "      <td>68888.888889</td>\n",
       "      <td>30002.555556</td>\n",
       "      <td>5.000000</td>\n",
       "    </tr>\n",
       "    <tr>\n",
       "      <th>std</th>\n",
       "      <td>22.803509</td>\n",
       "      <td>189.429260</td>\n",
       "      <td>11395.661943</td>\n",
       "      <td>1.130388</td>\n",
       "      <td>1.936492</td>\n",
       "    </tr>\n",
       "    <tr>\n",
       "      <th>min</th>\n",
       "      <td>123410.000000</td>\n",
       "      <td>200.000000</td>\n",
       "      <td>50000.000000</td>\n",
       "      <td>30001.000000</td>\n",
       "      <td>2.000000</td>\n",
       "    </tr>\n",
       "    <tr>\n",
       "      <th>25%</th>\n",
       "      <td>123412.000000</td>\n",
       "      <td>234.000000</td>\n",
       "      <td>65000.000000</td>\n",
       "      <td>30002.000000</td>\n",
       "      <td>5.000000</td>\n",
       "    </tr>\n",
       "    <tr>\n",
       "      <th>50%</th>\n",
       "      <td>123414.000000</td>\n",
       "      <td>400.000000</td>\n",
       "      <td>70000.000000</td>\n",
       "      <td>30003.000000</td>\n",
       "      <td>5.000000</td>\n",
       "    </tr>\n",
       "    <tr>\n",
       "      <th>75%</th>\n",
       "      <td>123457.000000</td>\n",
       "      <td>600.000000</td>\n",
       "      <td>70000.000000</td>\n",
       "      <td>30003.000000</td>\n",
       "      <td>7.000000</td>\n",
       "    </tr>\n",
       "    <tr>\n",
       "      <th>max</th>\n",
       "      <td>123459.000000</td>\n",
       "      <td>660.000000</td>\n",
       "      <td>90000.000000</td>\n",
       "      <td>30004.000000</td>\n",
       "      <td>7.000000</td>\n",
       "    </tr>\n",
       "  </tbody>\n",
       "</table>\n",
       "</div>"
      ],
      "text/plain": [
       "              123456         100        100000         30001         2\n",
       "count       9.000000    9.000000      9.000000      9.000000  9.000000\n",
       "mean   123427.666667  418.222222  68888.888889  30002.555556  5.000000\n",
       "std        22.803509  189.429260  11395.661943      1.130388  1.936492\n",
       "min    123410.000000  200.000000  50000.000000  30001.000000  2.000000\n",
       "25%    123412.000000  234.000000  65000.000000  30002.000000  5.000000\n",
       "50%    123414.000000  400.000000  70000.000000  30003.000000  5.000000\n",
       "75%    123457.000000  600.000000  70000.000000  30003.000000  7.000000\n",
       "max    123459.000000  660.000000  90000.000000  30004.000000  7.000000"
      ]
     },
     "execution_count": 6,
     "metadata": {},
     "output_type": "execute_result"
    }
   ],
   "source": [
    "emp.describe()"
   ]
  },
  {
   "cell_type": "code",
   "execution_count": 74,
   "metadata": {},
   "outputs": [
    {
     "data": {
      "text/plain": [
       "array([5, 2, 7], dtype=int64)"
      ]
     },
     "execution_count": 74,
     "metadata": {},
     "output_type": "execute_result"
    }
   ],
   "source": [
    "# It is showing unique just for all non-int columns !\n",
    "emp.2.unique()\n",
    "# Instead We can use this \" emp['2'].unique() \""
   ]
  },
  {
   "cell_type": "code",
   "execution_count": 9,
   "metadata": {},
   "outputs": [
    {
     "data": {
      "text/plain": [
       "0    E1002\n",
       "1    E1003\n",
       "2    E1004\n",
       "3    E1005\n",
       "4    E1006\n",
       "5    E1007\n",
       "6    E1008\n",
       "7    E1009\n",
       "8    E1010\n",
       "Name: E1001, dtype: object"
      ]
     },
     "execution_count": 9,
     "metadata": {},
     "output_type": "execute_result"
    }
   ],
   "source": [
    "emp['E1001']"
   ]
  },
  {
   "cell_type": "code",
   "execution_count": 10,
   "metadata": {},
   "outputs": [
    {
     "data": {
      "text/plain": [
       "0    5\n",
       "1    5\n",
       "2    5\n",
       "3    2\n",
       "4    2\n",
       "5    7\n",
       "6    7\n",
       "7    7\n",
       "8    5\n",
       "Name: 2, dtype: int64"
      ]
     },
     "execution_count": 10,
     "metadata": {},
     "output_type": "execute_result"
    }
   ],
   "source": [
    "emp['2']"
   ]
  },
  {
   "cell_type": "code",
   "execution_count": 11,
   "metadata": {},
   "outputs": [
    {
     "data": {
      "text/plain": [
       "Index(['E1001', 'John', 'Thomas', '123456', '1976-01-09', 'M',\n",
       "       '5631 Rice, OakPark,IL', '100', '100000', '30001', '2'],\n",
       "      dtype='object')"
      ]
     },
     "execution_count": 11,
     "metadata": {},
     "output_type": "execute_result"
    }
   ],
   "source": [
    "emp.columns"
   ]
  },
  {
   "cell_type": "code",
   "execution_count": 13,
   "metadata": {},
   "outputs": [
    {
     "data": {
      "text/plain": [
       "(9, 11)"
      ]
     },
     "execution_count": 13,
     "metadata": {},
     "output_type": "execute_result"
    }
   ],
   "source": [
    "emp.shape"
   ]
  },
  {
   "cell_type": "code",
   "execution_count": 16,
   "metadata": {},
   "outputs": [
    {
     "data": {
      "text/plain": [
       "11"
      ]
     },
     "execution_count": 16,
     "metadata": {},
     "output_type": "execute_result"
    }
   ],
   "source": [
    "emp.shape[1]"
   ]
  },
  {
   "cell_type": "code",
   "execution_count": 17,
   "metadata": {},
   "outputs": [
    {
     "data": {
      "text/plain": [
       "9"
      ]
     },
     "execution_count": 17,
     "metadata": {},
     "output_type": "execute_result"
    }
   ],
   "source": [
    "emp.shape[0]"
   ]
  },
  {
   "cell_type": "code",
   "execution_count": 20,
   "metadata": {},
   "outputs": [
    {
     "data": {
      "text/html": [
       "<div>\n",
       "<style scoped>\n",
       "    .dataframe tbody tr th:only-of-type {\n",
       "        vertical-align: middle;\n",
       "    }\n",
       "\n",
       "    .dataframe tbody tr th {\n",
       "        vertical-align: top;\n",
       "    }\n",
       "\n",
       "    .dataframe thead th {\n",
       "        text-align: right;\n",
       "    }\n",
       "</style>\n",
       "<table border=\"1\" class=\"dataframe\">\n",
       "  <thead>\n",
       "    <tr style=\"text-align: right;\">\n",
       "      <th></th>\n",
       "      <th>E1001</th>\n",
       "      <th>John</th>\n",
       "      <th>Thomas</th>\n",
       "      <th>123456</th>\n",
       "      <th>1976-01-09</th>\n",
       "      <th>M</th>\n",
       "      <th>5631 Rice, OakPark,IL</th>\n",
       "      <th>100</th>\n",
       "      <th>100000</th>\n",
       "      <th>30001</th>\n",
       "      <th>2</th>\n",
       "    </tr>\n",
       "  </thead>\n",
       "  <tbody>\n",
       "    <tr>\n",
       "      <th>0</th>\n",
       "      <td>E1002</td>\n",
       "      <td>Alice</td>\n",
       "      <td>James</td>\n",
       "      <td>123457</td>\n",
       "      <td>1972-07-31</td>\n",
       "      <td>F</td>\n",
       "      <td>980 Berry ln, Elgin,IL</td>\n",
       "      <td>200</td>\n",
       "      <td>80000</td>\n",
       "      <td>30002</td>\n",
       "      <td>5</td>\n",
       "    </tr>\n",
       "    <tr>\n",
       "      <th>1</th>\n",
       "      <td>E1003</td>\n",
       "      <td>Steve</td>\n",
       "      <td>Wells</td>\n",
       "      <td>123458</td>\n",
       "      <td>1980-08-10</td>\n",
       "      <td>M</td>\n",
       "      <td>291 Springs, Gary,IL</td>\n",
       "      <td>300</td>\n",
       "      <td>50000</td>\n",
       "      <td>30002</td>\n",
       "      <td>5</td>\n",
       "    </tr>\n",
       "    <tr>\n",
       "      <th>2</th>\n",
       "      <td>E1004</td>\n",
       "      <td>Santosh</td>\n",
       "      <td>Kumar</td>\n",
       "      <td>123459</td>\n",
       "      <td>1985-07-20</td>\n",
       "      <td>M</td>\n",
       "      <td>511 Aurora Av, Aurora,IL</td>\n",
       "      <td>400</td>\n",
       "      <td>60000</td>\n",
       "      <td>30004</td>\n",
       "      <td>5</td>\n",
       "    </tr>\n",
       "    <tr>\n",
       "      <th>3</th>\n",
       "      <td>E1005</td>\n",
       "      <td>Ahmed</td>\n",
       "      <td>Hussain</td>\n",
       "      <td>123410</td>\n",
       "      <td>1981-01-04</td>\n",
       "      <td>M</td>\n",
       "      <td>216 Oak Tree, Geneva,IL</td>\n",
       "      <td>500</td>\n",
       "      <td>70000</td>\n",
       "      <td>30001</td>\n",
       "      <td>2</td>\n",
       "    </tr>\n",
       "    <tr>\n",
       "      <th>4</th>\n",
       "      <td>E1006</td>\n",
       "      <td>Nancy</td>\n",
       "      <td>Allen</td>\n",
       "      <td>123411</td>\n",
       "      <td>1978-02-06</td>\n",
       "      <td>F</td>\n",
       "      <td>111 Green Pl, Elgin,IL</td>\n",
       "      <td>600</td>\n",
       "      <td>90000</td>\n",
       "      <td>30001</td>\n",
       "      <td>2</td>\n",
       "    </tr>\n",
       "    <tr>\n",
       "      <th>5</th>\n",
       "      <td>E1007</td>\n",
       "      <td>Mary</td>\n",
       "      <td>Thomas</td>\n",
       "      <td>123412</td>\n",
       "      <td>1975-05-05</td>\n",
       "      <td>F</td>\n",
       "      <td>100 Rose Pl, Gary,IL</td>\n",
       "      <td>650</td>\n",
       "      <td>65000</td>\n",
       "      <td>30003</td>\n",
       "      <td>7</td>\n",
       "    </tr>\n",
       "    <tr>\n",
       "      <th>6</th>\n",
       "      <td>E1008</td>\n",
       "      <td>Bharath</td>\n",
       "      <td>Gupta</td>\n",
       "      <td>123413</td>\n",
       "      <td>1985-05-06</td>\n",
       "      <td>M</td>\n",
       "      <td>145 Berry Ln, Naperville,IL</td>\n",
       "      <td>660</td>\n",
       "      <td>65000</td>\n",
       "      <td>30003</td>\n",
       "      <td>7</td>\n",
       "    </tr>\n",
       "    <tr>\n",
       "      <th>7</th>\n",
       "      <td>E1009</td>\n",
       "      <td>Andrea</td>\n",
       "      <td>Jones</td>\n",
       "      <td>123414</td>\n",
       "      <td>1990-07-09</td>\n",
       "      <td>F</td>\n",
       "      <td>120 Fall Creek, Gary,IL</td>\n",
       "      <td>234</td>\n",
       "      <td>70000</td>\n",
       "      <td>30003</td>\n",
       "      <td>7</td>\n",
       "    </tr>\n",
       "  </tbody>\n",
       "</table>\n",
       "</div>"
      ],
      "text/plain": [
       "   E1001     John   Thomas  123456  1976-01-09  M  \\\n",
       "0  E1002    Alice    James  123457  1972-07-31  F   \n",
       "1  E1003    Steve    Wells  123458  1980-08-10  M   \n",
       "2  E1004  Santosh    Kumar  123459  1985-07-20  M   \n",
       "3  E1005    Ahmed  Hussain  123410  1981-01-04  M   \n",
       "4  E1006    Nancy    Allen  123411  1978-02-06  F   \n",
       "5  E1007     Mary   Thomas  123412  1975-05-05  F   \n",
       "6  E1008  Bharath    Gupta  123413  1985-05-06  M   \n",
       "7  E1009   Andrea    Jones  123414  1990-07-09  F   \n",
       "\n",
       "         5631 Rice, OakPark,IL  100  100000  30001  2  \n",
       "0       980 Berry ln, Elgin,IL  200   80000  30002  5  \n",
       "1         291 Springs, Gary,IL  300   50000  30002  5  \n",
       "2     511 Aurora Av, Aurora,IL  400   60000  30004  5  \n",
       "3      216 Oak Tree, Geneva,IL  500   70000  30001  2  \n",
       "4       111 Green Pl, Elgin,IL  600   90000  30001  2  \n",
       "5         100 Rose Pl, Gary,IL  650   65000  30003  7  \n",
       "6  145 Berry Ln, Naperville,IL  660   65000  30003  7  \n",
       "7      120 Fall Creek, Gary,IL  234   70000  30003  7  "
      ]
     },
     "execution_count": 20,
     "metadata": {},
     "output_type": "execute_result"
    }
   ],
   "source": [
    "emp.head(8)"
   ]
  },
  {
   "cell_type": "code",
   "execution_count": 21,
   "metadata": {},
   "outputs": [
    {
     "data": {
      "text/html": [
       "<div>\n",
       "<style scoped>\n",
       "    .dataframe tbody tr th:only-of-type {\n",
       "        vertical-align: middle;\n",
       "    }\n",
       "\n",
       "    .dataframe tbody tr th {\n",
       "        vertical-align: top;\n",
       "    }\n",
       "\n",
       "    .dataframe thead th {\n",
       "        text-align: right;\n",
       "    }\n",
       "</style>\n",
       "<table border=\"1\" class=\"dataframe\">\n",
       "  <thead>\n",
       "    <tr style=\"text-align: right;\">\n",
       "      <th></th>\n",
       "      <th>E1001</th>\n",
       "      <th>John</th>\n",
       "      <th>Thomas</th>\n",
       "      <th>123456</th>\n",
       "      <th>1976-01-09</th>\n",
       "      <th>M</th>\n",
       "      <th>5631 Rice, OakPark,IL</th>\n",
       "      <th>100</th>\n",
       "      <th>100000</th>\n",
       "      <th>30001</th>\n",
       "      <th>2</th>\n",
       "    </tr>\n",
       "  </thead>\n",
       "  <tbody>\n",
       "    <tr>\n",
       "      <th>6</th>\n",
       "      <td>E1008</td>\n",
       "      <td>Bharath</td>\n",
       "      <td>Gupta</td>\n",
       "      <td>123413</td>\n",
       "      <td>1985-05-06</td>\n",
       "      <td>M</td>\n",
       "      <td>145 Berry Ln, Naperville,IL</td>\n",
       "      <td>660</td>\n",
       "      <td>65000</td>\n",
       "      <td>30003</td>\n",
       "      <td>7</td>\n",
       "    </tr>\n",
       "    <tr>\n",
       "      <th>7</th>\n",
       "      <td>E1009</td>\n",
       "      <td>Andrea</td>\n",
       "      <td>Jones</td>\n",
       "      <td>123414</td>\n",
       "      <td>1990-07-09</td>\n",
       "      <td>F</td>\n",
       "      <td>120 Fall Creek, Gary,IL</td>\n",
       "      <td>234</td>\n",
       "      <td>70000</td>\n",
       "      <td>30003</td>\n",
       "      <td>7</td>\n",
       "    </tr>\n",
       "    <tr>\n",
       "      <th>8</th>\n",
       "      <td>E1010</td>\n",
       "      <td>Ann</td>\n",
       "      <td>Jacob</td>\n",
       "      <td>123415</td>\n",
       "      <td>1982-03-30</td>\n",
       "      <td>F</td>\n",
       "      <td>111 Britany Springs,Elgin,IL</td>\n",
       "      <td>220</td>\n",
       "      <td>70000</td>\n",
       "      <td>30004</td>\n",
       "      <td>5</td>\n",
       "    </tr>\n",
       "  </tbody>\n",
       "</table>\n",
       "</div>"
      ],
      "text/plain": [
       "   E1001     John Thomas  123456  1976-01-09  M         5631 Rice, OakPark,IL  \\\n",
       "6  E1008  Bharath  Gupta  123413  1985-05-06  M   145 Berry Ln, Naperville,IL   \n",
       "7  E1009   Andrea  Jones  123414  1990-07-09  F       120 Fall Creek, Gary,IL   \n",
       "8  E1010      Ann  Jacob  123415  1982-03-30  F  111 Britany Springs,Elgin,IL   \n",
       "\n",
       "   100  100000  30001  2  \n",
       "6  660   65000  30003  7  \n",
       "7  234   70000  30003  7  \n",
       "8  220   70000  30004  5  "
      ]
     },
     "execution_count": 21,
     "metadata": {},
     "output_type": "execute_result"
    }
   ],
   "source": [
    "emp.tail(3)"
   ]
  },
  {
   "cell_type": "code",
   "execution_count": 3,
   "metadata": {},
   "outputs": [
    {
     "data": {
      "text/html": [
       "<div>\n",
       "<style scoped>\n",
       "    .dataframe tbody tr th:only-of-type {\n",
       "        vertical-align: middle;\n",
       "    }\n",
       "\n",
       "    .dataframe tbody tr th {\n",
       "        vertical-align: top;\n",
       "    }\n",
       "\n",
       "    .dataframe thead th {\n",
       "        text-align: right;\n",
       "    }\n",
       "</style>\n",
       "<table border=\"1\" class=\"dataframe\">\n",
       "  <thead>\n",
       "    <tr style=\"text-align: right;\">\n",
       "      <th></th>\n",
       "      <th>Sales</th>\n",
       "      <th>CompPrice</th>\n",
       "      <th>Income</th>\n",
       "      <th>Advertising</th>\n",
       "      <th>Population</th>\n",
       "      <th>Price</th>\n",
       "      <th>Age</th>\n",
       "      <th>Education</th>\n",
       "      <th>Urban</th>\n",
       "      <th>US</th>\n",
       "    </tr>\n",
       "  </thead>\n",
       "  <tbody>\n",
       "    <tr>\n",
       "      <th>0</th>\n",
       "      <td>9.50</td>\n",
       "      <td>138</td>\n",
       "      <td>73</td>\n",
       "      <td>11</td>\n",
       "      <td>276</td>\n",
       "      <td>120</td>\n",
       "      <td>42</td>\n",
       "      <td>17</td>\n",
       "      <td>Yes</td>\n",
       "      <td>Yes</td>\n",
       "    </tr>\n",
       "    <tr>\n",
       "      <th>1</th>\n",
       "      <td>11.22</td>\n",
       "      <td>111</td>\n",
       "      <td>48</td>\n",
       "      <td>16</td>\n",
       "      <td>260</td>\n",
       "      <td>83</td>\n",
       "      <td>65</td>\n",
       "      <td>10</td>\n",
       "      <td>Yes</td>\n",
       "      <td>Yes</td>\n",
       "    </tr>\n",
       "    <tr>\n",
       "      <th>2</th>\n",
       "      <td>10.06</td>\n",
       "      <td>113</td>\n",
       "      <td>35</td>\n",
       "      <td>10</td>\n",
       "      <td>269</td>\n",
       "      <td>80</td>\n",
       "      <td>59</td>\n",
       "      <td>12</td>\n",
       "      <td>Yes</td>\n",
       "      <td>Yes</td>\n",
       "    </tr>\n",
       "    <tr>\n",
       "      <th>3</th>\n",
       "      <td>7.40</td>\n",
       "      <td>117</td>\n",
       "      <td>100</td>\n",
       "      <td>4</td>\n",
       "      <td>466</td>\n",
       "      <td>97</td>\n",
       "      <td>55</td>\n",
       "      <td>14</td>\n",
       "      <td>Yes</td>\n",
       "      <td>Yes</td>\n",
       "    </tr>\n",
       "    <tr>\n",
       "      <th>4</th>\n",
       "      <td>4.15</td>\n",
       "      <td>141</td>\n",
       "      <td>64</td>\n",
       "      <td>3</td>\n",
       "      <td>340</td>\n",
       "      <td>128</td>\n",
       "      <td>38</td>\n",
       "      <td>13</td>\n",
       "      <td>Yes</td>\n",
       "      <td>No</td>\n",
       "    </tr>\n",
       "    <tr>\n",
       "      <th>...</th>\n",
       "      <td>...</td>\n",
       "      <td>...</td>\n",
       "      <td>...</td>\n",
       "      <td>...</td>\n",
       "      <td>...</td>\n",
       "      <td>...</td>\n",
       "      <td>...</td>\n",
       "      <td>...</td>\n",
       "      <td>...</td>\n",
       "      <td>...</td>\n",
       "    </tr>\n",
       "    <tr>\n",
       "      <th>395</th>\n",
       "      <td>12.57</td>\n",
       "      <td>138</td>\n",
       "      <td>108</td>\n",
       "      <td>17</td>\n",
       "      <td>203</td>\n",
       "      <td>128</td>\n",
       "      <td>33</td>\n",
       "      <td>14</td>\n",
       "      <td>Yes</td>\n",
       "      <td>Yes</td>\n",
       "    </tr>\n",
       "    <tr>\n",
       "      <th>396</th>\n",
       "      <td>6.14</td>\n",
       "      <td>139</td>\n",
       "      <td>23</td>\n",
       "      <td>3</td>\n",
       "      <td>37</td>\n",
       "      <td>120</td>\n",
       "      <td>55</td>\n",
       "      <td>11</td>\n",
       "      <td>No</td>\n",
       "      <td>Yes</td>\n",
       "    </tr>\n",
       "    <tr>\n",
       "      <th>397</th>\n",
       "      <td>7.41</td>\n",
       "      <td>162</td>\n",
       "      <td>26</td>\n",
       "      <td>12</td>\n",
       "      <td>368</td>\n",
       "      <td>159</td>\n",
       "      <td>40</td>\n",
       "      <td>18</td>\n",
       "      <td>Yes</td>\n",
       "      <td>Yes</td>\n",
       "    </tr>\n",
       "    <tr>\n",
       "      <th>398</th>\n",
       "      <td>5.94</td>\n",
       "      <td>100</td>\n",
       "      <td>79</td>\n",
       "      <td>7</td>\n",
       "      <td>284</td>\n",
       "      <td>95</td>\n",
       "      <td>50</td>\n",
       "      <td>12</td>\n",
       "      <td>Yes</td>\n",
       "      <td>Yes</td>\n",
       "    </tr>\n",
       "    <tr>\n",
       "      <th>399</th>\n",
       "      <td>9.71</td>\n",
       "      <td>134</td>\n",
       "      <td>37</td>\n",
       "      <td>0</td>\n",
       "      <td>27</td>\n",
       "      <td>120</td>\n",
       "      <td>49</td>\n",
       "      <td>16</td>\n",
       "      <td>Yes</td>\n",
       "      <td>Yes</td>\n",
       "    </tr>\n",
       "  </tbody>\n",
       "</table>\n",
       "<p>400 rows × 10 columns</p>\n",
       "</div>"
      ],
      "text/plain": [
       "     Sales  CompPrice  Income  Advertising  Population  Price  Age  Education  \\\n",
       "0     9.50        138      73           11         276    120   42         17   \n",
       "1    11.22        111      48           16         260     83   65         10   \n",
       "2    10.06        113      35           10         269     80   59         12   \n",
       "3     7.40        117     100            4         466     97   55         14   \n",
       "4     4.15        141      64            3         340    128   38         13   \n",
       "..     ...        ...     ...          ...         ...    ...  ...        ...   \n",
       "395  12.57        138     108           17         203    128   33         14   \n",
       "396   6.14        139      23            3          37    120   55         11   \n",
       "397   7.41        162      26           12         368    159   40         18   \n",
       "398   5.94        100      79            7         284     95   50         12   \n",
       "399   9.71        134      37            0          27    120   49         16   \n",
       "\n",
       "    Urban   US  \n",
       "0     Yes  Yes  \n",
       "1     Yes  Yes  \n",
       "2     Yes  Yes  \n",
       "3     Yes  Yes  \n",
       "4     Yes   No  \n",
       "..    ...  ...  \n",
       "395   Yes  Yes  \n",
       "396    No  Yes  \n",
       "397   Yes  Yes  \n",
       "398   Yes  Yes  \n",
       "399   Yes  Yes  \n",
       "\n",
       "[400 rows x 10 columns]"
      ]
     },
     "execution_count": 3,
     "metadata": {},
     "output_type": "execute_result"
    }
   ],
   "source": [
    "import pandas as pd\n",
    "com = pd.read_csv(r'C:\\BEPEC Python Material\\Company_Data.csv')\n",
    "com"
   ]
  },
  {
   "cell_type": "code",
   "execution_count": 2,
   "metadata": {},
   "outputs": [
    {
     "data": {
      "text/html": [
       "<div>\n",
       "<style scoped>\n",
       "    .dataframe tbody tr th:only-of-type {\n",
       "        vertical-align: middle;\n",
       "    }\n",
       "\n",
       "    .dataframe tbody tr th {\n",
       "        vertical-align: top;\n",
       "    }\n",
       "\n",
       "    .dataframe thead th {\n",
       "        text-align: right;\n",
       "    }\n",
       "</style>\n",
       "<table border=\"1\" class=\"dataframe\">\n",
       "  <thead>\n",
       "    <tr style=\"text-align: right;\">\n",
       "      <th></th>\n",
       "      <th>Sales</th>\n",
       "      <th>CompPrice</th>\n",
       "      <th>Income</th>\n",
       "      <th>Advertising</th>\n",
       "      <th>Population</th>\n",
       "      <th>Price</th>\n",
       "      <th>Age</th>\n",
       "      <th>Education</th>\n",
       "      <th>Urban</th>\n",
       "      <th>US</th>\n",
       "    </tr>\n",
       "  </thead>\n",
       "  <tbody>\n",
       "    <tr>\n",
       "      <th>0</th>\n",
       "      <td>9.50</td>\n",
       "      <td>138</td>\n",
       "      <td>73</td>\n",
       "      <td>11</td>\n",
       "      <td>276</td>\n",
       "      <td>120</td>\n",
       "      <td>42</td>\n",
       "      <td>17</td>\n",
       "      <td>Yes</td>\n",
       "      <td>Yes</td>\n",
       "    </tr>\n",
       "    <tr>\n",
       "      <th>1</th>\n",
       "      <td>11.22</td>\n",
       "      <td>111</td>\n",
       "      <td>48</td>\n",
       "      <td>16</td>\n",
       "      <td>260</td>\n",
       "      <td>83</td>\n",
       "      <td>65</td>\n",
       "      <td>10</td>\n",
       "      <td>Yes</td>\n",
       "      <td>Yes</td>\n",
       "    </tr>\n",
       "    <tr>\n",
       "      <th>2</th>\n",
       "      <td>10.06</td>\n",
       "      <td>113</td>\n",
       "      <td>35</td>\n",
       "      <td>10</td>\n",
       "      <td>269</td>\n",
       "      <td>80</td>\n",
       "      <td>59</td>\n",
       "      <td>12</td>\n",
       "      <td>Yes</td>\n",
       "      <td>Yes</td>\n",
       "    </tr>\n",
       "  </tbody>\n",
       "</table>\n",
       "</div>"
      ],
      "text/plain": [
       "   Sales  CompPrice  Income  Advertising  Population  Price  Age  Education  \\\n",
       "0   9.50        138      73           11         276    120   42         17   \n",
       "1  11.22        111      48           16         260     83   65         10   \n",
       "2  10.06        113      35           10         269     80   59         12   \n",
       "\n",
       "  Urban   US  \n",
       "0   Yes  Yes  \n",
       "1   Yes  Yes  \n",
       "2   Yes  Yes  "
      ]
     },
     "execution_count": 2,
     "metadata": {},
     "output_type": "execute_result"
    }
   ],
   "source": [
    "com.head(3)"
   ]
  },
  {
   "cell_type": "code",
   "execution_count": 3,
   "metadata": {},
   "outputs": [
    {
     "data": {
      "text/html": [
       "<div>\n",
       "<style scoped>\n",
       "    .dataframe tbody tr th:only-of-type {\n",
       "        vertical-align: middle;\n",
       "    }\n",
       "\n",
       "    .dataframe tbody tr th {\n",
       "        vertical-align: top;\n",
       "    }\n",
       "\n",
       "    .dataframe thead th {\n",
       "        text-align: right;\n",
       "    }\n",
       "</style>\n",
       "<table border=\"1\" class=\"dataframe\">\n",
       "  <thead>\n",
       "    <tr style=\"text-align: right;\">\n",
       "      <th></th>\n",
       "      <th>Sales</th>\n",
       "      <th>CompPrice</th>\n",
       "      <th>Income</th>\n",
       "      <th>Advertising</th>\n",
       "      <th>Population</th>\n",
       "      <th>Price</th>\n",
       "      <th>Age</th>\n",
       "      <th>Education</th>\n",
       "      <th>Urban</th>\n",
       "      <th>US</th>\n",
       "    </tr>\n",
       "  </thead>\n",
       "  <tbody>\n",
       "    <tr>\n",
       "      <th>398</th>\n",
       "      <td>5.94</td>\n",
       "      <td>100</td>\n",
       "      <td>79</td>\n",
       "      <td>7</td>\n",
       "      <td>284</td>\n",
       "      <td>95</td>\n",
       "      <td>50</td>\n",
       "      <td>12</td>\n",
       "      <td>Yes</td>\n",
       "      <td>Yes</td>\n",
       "    </tr>\n",
       "    <tr>\n",
       "      <th>399</th>\n",
       "      <td>9.71</td>\n",
       "      <td>134</td>\n",
       "      <td>37</td>\n",
       "      <td>0</td>\n",
       "      <td>27</td>\n",
       "      <td>120</td>\n",
       "      <td>49</td>\n",
       "      <td>16</td>\n",
       "      <td>Yes</td>\n",
       "      <td>Yes</td>\n",
       "    </tr>\n",
       "  </tbody>\n",
       "</table>\n",
       "</div>"
      ],
      "text/plain": [
       "     Sales  CompPrice  Income  Advertising  Population  Price  Age  Education  \\\n",
       "398   5.94        100      79            7         284     95   50         12   \n",
       "399   9.71        134      37            0          27    120   49         16   \n",
       "\n",
       "    Urban   US  \n",
       "398   Yes  Yes  \n",
       "399   Yes  Yes  "
      ]
     },
     "execution_count": 3,
     "metadata": {},
     "output_type": "execute_result"
    }
   ],
   "source": [
    "com.tail(2)"
   ]
  },
  {
   "cell_type": "code",
   "execution_count": 4,
   "metadata": {},
   "outputs": [
    {
     "data": {
      "text/html": [
       "<div>\n",
       "<style scoped>\n",
       "    .dataframe tbody tr th:only-of-type {\n",
       "        vertical-align: middle;\n",
       "    }\n",
       "\n",
       "    .dataframe tbody tr th {\n",
       "        vertical-align: top;\n",
       "    }\n",
       "\n",
       "    .dataframe thead th {\n",
       "        text-align: right;\n",
       "    }\n",
       "</style>\n",
       "<table border=\"1\" class=\"dataframe\">\n",
       "  <thead>\n",
       "    <tr style=\"text-align: right;\">\n",
       "      <th></th>\n",
       "      <th>Sales</th>\n",
       "      <th>CompPrice</th>\n",
       "      <th>Income</th>\n",
       "      <th>Advertising</th>\n",
       "      <th>Population</th>\n",
       "      <th>Price</th>\n",
       "      <th>Age</th>\n",
       "      <th>Education</th>\n",
       "    </tr>\n",
       "  </thead>\n",
       "  <tbody>\n",
       "    <tr>\n",
       "      <th>count</th>\n",
       "      <td>400.000000</td>\n",
       "      <td>400.000000</td>\n",
       "      <td>400.000000</td>\n",
       "      <td>400.000000</td>\n",
       "      <td>400.000000</td>\n",
       "      <td>400.000000</td>\n",
       "      <td>400.000000</td>\n",
       "      <td>400.000000</td>\n",
       "    </tr>\n",
       "    <tr>\n",
       "      <th>mean</th>\n",
       "      <td>7.496325</td>\n",
       "      <td>124.975000</td>\n",
       "      <td>68.657500</td>\n",
       "      <td>6.635000</td>\n",
       "      <td>264.840000</td>\n",
       "      <td>115.795000</td>\n",
       "      <td>53.322500</td>\n",
       "      <td>13.900000</td>\n",
       "    </tr>\n",
       "    <tr>\n",
       "      <th>std</th>\n",
       "      <td>2.824115</td>\n",
       "      <td>15.334512</td>\n",
       "      <td>27.986037</td>\n",
       "      <td>6.650364</td>\n",
       "      <td>147.376436</td>\n",
       "      <td>23.676664</td>\n",
       "      <td>16.200297</td>\n",
       "      <td>2.620528</td>\n",
       "    </tr>\n",
       "    <tr>\n",
       "      <th>min</th>\n",
       "      <td>0.000000</td>\n",
       "      <td>77.000000</td>\n",
       "      <td>21.000000</td>\n",
       "      <td>0.000000</td>\n",
       "      <td>10.000000</td>\n",
       "      <td>24.000000</td>\n",
       "      <td>25.000000</td>\n",
       "      <td>10.000000</td>\n",
       "    </tr>\n",
       "    <tr>\n",
       "      <th>25%</th>\n",
       "      <td>5.390000</td>\n",
       "      <td>115.000000</td>\n",
       "      <td>42.750000</td>\n",
       "      <td>0.000000</td>\n",
       "      <td>139.000000</td>\n",
       "      <td>100.000000</td>\n",
       "      <td>39.750000</td>\n",
       "      <td>12.000000</td>\n",
       "    </tr>\n",
       "    <tr>\n",
       "      <th>50%</th>\n",
       "      <td>7.490000</td>\n",
       "      <td>125.000000</td>\n",
       "      <td>69.000000</td>\n",
       "      <td>5.000000</td>\n",
       "      <td>272.000000</td>\n",
       "      <td>117.000000</td>\n",
       "      <td>54.500000</td>\n",
       "      <td>14.000000</td>\n",
       "    </tr>\n",
       "    <tr>\n",
       "      <th>75%</th>\n",
       "      <td>9.320000</td>\n",
       "      <td>135.000000</td>\n",
       "      <td>91.000000</td>\n",
       "      <td>12.000000</td>\n",
       "      <td>398.500000</td>\n",
       "      <td>131.000000</td>\n",
       "      <td>66.000000</td>\n",
       "      <td>16.000000</td>\n",
       "    </tr>\n",
       "    <tr>\n",
       "      <th>max</th>\n",
       "      <td>16.270000</td>\n",
       "      <td>175.000000</td>\n",
       "      <td>120.000000</td>\n",
       "      <td>29.000000</td>\n",
       "      <td>509.000000</td>\n",
       "      <td>191.000000</td>\n",
       "      <td>80.000000</td>\n",
       "      <td>18.000000</td>\n",
       "    </tr>\n",
       "  </tbody>\n",
       "</table>\n",
       "</div>"
      ],
      "text/plain": [
       "            Sales   CompPrice      Income  Advertising  Population  \\\n",
       "count  400.000000  400.000000  400.000000   400.000000  400.000000   \n",
       "mean     7.496325  124.975000   68.657500     6.635000  264.840000   \n",
       "std      2.824115   15.334512   27.986037     6.650364  147.376436   \n",
       "min      0.000000   77.000000   21.000000     0.000000   10.000000   \n",
       "25%      5.390000  115.000000   42.750000     0.000000  139.000000   \n",
       "50%      7.490000  125.000000   69.000000     5.000000  272.000000   \n",
       "75%      9.320000  135.000000   91.000000    12.000000  398.500000   \n",
       "max     16.270000  175.000000  120.000000    29.000000  509.000000   \n",
       "\n",
       "            Price         Age   Education  \n",
       "count  400.000000  400.000000  400.000000  \n",
       "mean   115.795000   53.322500   13.900000  \n",
       "std     23.676664   16.200297    2.620528  \n",
       "min     24.000000   25.000000   10.000000  \n",
       "25%    100.000000   39.750000   12.000000  \n",
       "50%    117.000000   54.500000   14.000000  \n",
       "75%    131.000000   66.000000   16.000000  \n",
       "max    191.000000   80.000000   18.000000  "
      ]
     },
     "execution_count": 4,
     "metadata": {},
     "output_type": "execute_result"
    }
   ],
   "source": [
    "com.describe()"
   ]
  },
  {
   "cell_type": "code",
   "execution_count": 5,
   "metadata": {},
   "outputs": [
    {
     "name": "stdout",
     "output_type": "stream",
     "text": [
      "<class 'pandas.core.frame.DataFrame'>\n",
      "RangeIndex: 400 entries, 0 to 399\n",
      "Data columns (total 10 columns):\n",
      " #   Column       Non-Null Count  Dtype  \n",
      "---  ------       --------------  -----  \n",
      " 0   Sales        400 non-null    float64\n",
      " 1   CompPrice    400 non-null    int64  \n",
      " 2   Income       400 non-null    int64  \n",
      " 3   Advertising  400 non-null    int64  \n",
      " 4   Population   400 non-null    int64  \n",
      " 5   Price        400 non-null    int64  \n",
      " 6   Age          400 non-null    int64  \n",
      " 7   Education    400 non-null    int64  \n",
      " 8   Urban        400 non-null    object \n",
      " 9   US           400 non-null    object \n",
      "dtypes: float64(1), int64(7), object(2)\n",
      "memory usage: 31.4+ KB\n"
     ]
    }
   ],
   "source": [
    "com.info()"
   ]
  },
  {
   "cell_type": "code",
   "execution_count": 7,
   "metadata": {},
   "outputs": [
    {
     "data": {
      "text/plain": [
       "(400, 10)"
      ]
     },
     "execution_count": 7,
     "metadata": {},
     "output_type": "execute_result"
    }
   ],
   "source": [
    "com.shape"
   ]
  },
  {
   "cell_type": "code",
   "execution_count": 9,
   "metadata": {},
   "outputs": [
    {
     "data": {
      "text/plain": [
       "400"
      ]
     },
     "execution_count": 9,
     "metadata": {},
     "output_type": "execute_result"
    }
   ],
   "source": [
    "com.shape[0]"
   ]
  },
  {
   "cell_type": "code",
   "execution_count": 14,
   "metadata": {},
   "outputs": [
    {
     "data": {
      "text/plain": [
       "0      Yes\n",
       "1      Yes\n",
       "2      Yes\n",
       "3      Yes\n",
       "4      Yes\n",
       "      ... \n",
       "395    Yes\n",
       "396     No\n",
       "397    Yes\n",
       "398    Yes\n",
       "399    Yes\n",
       "Name: Urban, Length: 400, dtype: object"
      ]
     },
     "execution_count": 14,
     "metadata": {},
     "output_type": "execute_result"
    }
   ],
   "source": [
    "com['Urban']"
   ]
  },
  {
   "cell_type": "code",
   "execution_count": 16,
   "metadata": {},
   "outputs": [
    {
     "data": {
      "text/plain": [
       "0    205\n",
       "1    305\n",
       "2    405\n",
       "3    502\n",
       "4    602\n",
       "5    657\n",
       "6    667\n",
       "7    241\n",
       "8    225\n",
       "Name: add, dtype: int64"
      ]
     },
     "execution_count": 16,
     "metadata": {},
     "output_type": "execute_result"
    }
   ],
   "source": [
    "emp['add'] = emp['2'] + emp['100']\n",
    "emp['add'] # It works"
   ]
  },
  {
   "cell_type": "code",
   "execution_count": 49,
   "metadata": {},
   "outputs": [
    {
     "data": {
      "text/html": [
       "<div>\n",
       "<style scoped>\n",
       "    .dataframe tbody tr th:only-of-type {\n",
       "        vertical-align: middle;\n",
       "    }\n",
       "\n",
       "    .dataframe tbody tr th {\n",
       "        vertical-align: top;\n",
       "    }\n",
       "\n",
       "    .dataframe thead th {\n",
       "        text-align: right;\n",
       "    }\n",
       "</style>\n",
       "<table border=\"1\" class=\"dataframe\">\n",
       "  <thead>\n",
       "    <tr style=\"text-align: right;\">\n",
       "      <th></th>\n",
       "      <th>E1001</th>\n",
       "      <th>John</th>\n",
       "      <th>Thomas</th>\n",
       "      <th>123456</th>\n",
       "      <th>1976-01-09</th>\n",
       "      <th>M</th>\n",
       "      <th>5631 Rice, OakPark,IL</th>\n",
       "      <th>100</th>\n",
       "      <th>100000</th>\n",
       "      <th>30001</th>\n",
       "      <th>2</th>\n",
       "      <th>add</th>\n",
       "    </tr>\n",
       "  </thead>\n",
       "  <tbody>\n",
       "    <tr>\n",
       "      <th>0</th>\n",
       "      <td>E1002</td>\n",
       "      <td>Alice</td>\n",
       "      <td>James</td>\n",
       "      <td>123457</td>\n",
       "      <td>1972-07-31</td>\n",
       "      <td>F</td>\n",
       "      <td>980 Berry ln, Elgin,IL</td>\n",
       "      <td>200</td>\n",
       "      <td>80000</td>\n",
       "      <td>30002</td>\n",
       "      <td>5</td>\n",
       "      <td>205</td>\n",
       "    </tr>\n",
       "    <tr>\n",
       "      <th>1</th>\n",
       "      <td>E1003</td>\n",
       "      <td>Steve</td>\n",
       "      <td>Wells</td>\n",
       "      <td>123458</td>\n",
       "      <td>1980-08-10</td>\n",
       "      <td>M</td>\n",
       "      <td>291 Springs, Gary,IL</td>\n",
       "      <td>300</td>\n",
       "      <td>50000</td>\n",
       "      <td>30002</td>\n",
       "      <td>5</td>\n",
       "      <td>305</td>\n",
       "    </tr>\n",
       "    <tr>\n",
       "      <th>2</th>\n",
       "      <td>E1004</td>\n",
       "      <td>Santosh</td>\n",
       "      <td>Kumar</td>\n",
       "      <td>123459</td>\n",
       "      <td>1985-07-20</td>\n",
       "      <td>M</td>\n",
       "      <td>511 Aurora Av, Aurora,IL</td>\n",
       "      <td>400</td>\n",
       "      <td>60000</td>\n",
       "      <td>30004</td>\n",
       "      <td>5</td>\n",
       "      <td>405</td>\n",
       "    </tr>\n",
       "    <tr>\n",
       "      <th>3</th>\n",
       "      <td>E1005</td>\n",
       "      <td>Ahmed</td>\n",
       "      <td>Hussain</td>\n",
       "      <td>123410</td>\n",
       "      <td>1981-01-04</td>\n",
       "      <td>M</td>\n",
       "      <td>216 Oak Tree, Geneva,IL</td>\n",
       "      <td>500</td>\n",
       "      <td>70000</td>\n",
       "      <td>30001</td>\n",
       "      <td>2</td>\n",
       "      <td>502</td>\n",
       "    </tr>\n",
       "    <tr>\n",
       "      <th>4</th>\n",
       "      <td>E1006</td>\n",
       "      <td>Nancy</td>\n",
       "      <td>Allen</td>\n",
       "      <td>123411</td>\n",
       "      <td>1978-02-06</td>\n",
       "      <td>F</td>\n",
       "      <td>111 Green Pl, Elgin,IL</td>\n",
       "      <td>600</td>\n",
       "      <td>90000</td>\n",
       "      <td>30001</td>\n",
       "      <td>2</td>\n",
       "      <td>602</td>\n",
       "    </tr>\n",
       "    <tr>\n",
       "      <th>5</th>\n",
       "      <td>E1007</td>\n",
       "      <td>Mary</td>\n",
       "      <td>Thomas</td>\n",
       "      <td>123412</td>\n",
       "      <td>1975-05-05</td>\n",
       "      <td>F</td>\n",
       "      <td>100 Rose Pl, Gary,IL</td>\n",
       "      <td>650</td>\n",
       "      <td>65000</td>\n",
       "      <td>30003</td>\n",
       "      <td>7</td>\n",
       "      <td>657</td>\n",
       "    </tr>\n",
       "    <tr>\n",
       "      <th>6</th>\n",
       "      <td>E1008</td>\n",
       "      <td>Bharath</td>\n",
       "      <td>Gupta</td>\n",
       "      <td>123413</td>\n",
       "      <td>1985-05-06</td>\n",
       "      <td>M</td>\n",
       "      <td>145 Berry Ln, Naperville,IL</td>\n",
       "      <td>660</td>\n",
       "      <td>65000</td>\n",
       "      <td>30003</td>\n",
       "      <td>7</td>\n",
       "      <td>667</td>\n",
       "    </tr>\n",
       "    <tr>\n",
       "      <th>7</th>\n",
       "      <td>E1009</td>\n",
       "      <td>Andrea</td>\n",
       "      <td>Jones</td>\n",
       "      <td>123414</td>\n",
       "      <td>1990-07-09</td>\n",
       "      <td>F</td>\n",
       "      <td>120 Fall Creek, Gary,IL</td>\n",
       "      <td>234</td>\n",
       "      <td>70000</td>\n",
       "      <td>30003</td>\n",
       "      <td>7</td>\n",
       "      <td>241</td>\n",
       "    </tr>\n",
       "    <tr>\n",
       "      <th>8</th>\n",
       "      <td>E1010</td>\n",
       "      <td>Ann</td>\n",
       "      <td>Jacob</td>\n",
       "      <td>123415</td>\n",
       "      <td>1982-03-30</td>\n",
       "      <td>F</td>\n",
       "      <td>111 Britany Springs,Elgin,IL</td>\n",
       "      <td>220</td>\n",
       "      <td>70000</td>\n",
       "      <td>30004</td>\n",
       "      <td>5</td>\n",
       "      <td>225</td>\n",
       "    </tr>\n",
       "  </tbody>\n",
       "</table>\n",
       "</div>"
      ],
      "text/plain": [
       "   E1001     John   Thomas  123456  1976-01-09  M  \\\n",
       "0  E1002    Alice    James  123457  1972-07-31  F   \n",
       "1  E1003    Steve    Wells  123458  1980-08-10  M   \n",
       "2  E1004  Santosh    Kumar  123459  1985-07-20  M   \n",
       "3  E1005    Ahmed  Hussain  123410  1981-01-04  M   \n",
       "4  E1006    Nancy    Allen  123411  1978-02-06  F   \n",
       "5  E1007     Mary   Thomas  123412  1975-05-05  F   \n",
       "6  E1008  Bharath    Gupta  123413  1985-05-06  M   \n",
       "7  E1009   Andrea    Jones  123414  1990-07-09  F   \n",
       "8  E1010      Ann    Jacob  123415  1982-03-30  F   \n",
       "\n",
       "          5631 Rice, OakPark,IL  100  100000  30001  2  add  \n",
       "0        980 Berry ln, Elgin,IL  200   80000  30002  5  205  \n",
       "1          291 Springs, Gary,IL  300   50000  30002  5  305  \n",
       "2      511 Aurora Av, Aurora,IL  400   60000  30004  5  405  \n",
       "3       216 Oak Tree, Geneva,IL  500   70000  30001  2  502  \n",
       "4        111 Green Pl, Elgin,IL  600   90000  30001  2  602  \n",
       "5          100 Rose Pl, Gary,IL  650   65000  30003  7  657  \n",
       "6   145 Berry Ln, Naperville,IL  660   65000  30003  7  667  \n",
       "7       120 Fall Creek, Gary,IL  234   70000  30003  7  241  \n",
       "8  111 Britany Springs,Elgin,IL  220   70000  30004  5  225  "
      ]
     },
     "execution_count": 49,
     "metadata": {},
     "output_type": "execute_result"
    }
   ],
   "source": [
    "emp"
   ]
  },
  {
   "cell_type": "code",
   "execution_count": 21,
   "metadata": {},
   "outputs": [
    {
     "data": {
      "text/html": [
       "<div>\n",
       "<style scoped>\n",
       "    .dataframe tbody tr th:only-of-type {\n",
       "        vertical-align: middle;\n",
       "    }\n",
       "\n",
       "    .dataframe tbody tr th {\n",
       "        vertical-align: top;\n",
       "    }\n",
       "\n",
       "    .dataframe thead th {\n",
       "        text-align: right;\n",
       "    }\n",
       "</style>\n",
       "<table border=\"1\" class=\"dataframe\">\n",
       "  <thead>\n",
       "    <tr style=\"text-align: right;\">\n",
       "      <th></th>\n",
       "      <th>Sales</th>\n",
       "      <th>CompPrice</th>\n",
       "      <th>Income</th>\n",
       "      <th>Advertising</th>\n",
       "      <th>Population</th>\n",
       "      <th>Price</th>\n",
       "      <th>Age</th>\n",
       "      <th>Education</th>\n",
       "      <th>Urban</th>\n",
       "      <th>US</th>\n",
       "    </tr>\n",
       "  </thead>\n",
       "  <tbody>\n",
       "    <tr>\n",
       "      <th>368</th>\n",
       "      <td>10.71</td>\n",
       "      <td>109</td>\n",
       "      <td>22</td>\n",
       "      <td>10</td>\n",
       "      <td>348</td>\n",
       "      <td>79</td>\n",
       "      <td>74</td>\n",
       "      <td>14</td>\n",
       "      <td>No</td>\n",
       "      <td>Yes</td>\n",
       "    </tr>\n",
       "    <tr>\n",
       "      <th>62</th>\n",
       "      <td>1.82</td>\n",
       "      <td>139</td>\n",
       "      <td>45</td>\n",
       "      <td>0</td>\n",
       "      <td>146</td>\n",
       "      <td>133</td>\n",
       "      <td>77</td>\n",
       "      <td>17</td>\n",
       "      <td>Yes</td>\n",
       "      <td>Yes</td>\n",
       "    </tr>\n",
       "    <tr>\n",
       "      <th>103</th>\n",
       "      <td>5.07</td>\n",
       "      <td>123</td>\n",
       "      <td>91</td>\n",
       "      <td>0</td>\n",
       "      <td>334</td>\n",
       "      <td>96</td>\n",
       "      <td>78</td>\n",
       "      <td>17</td>\n",
       "      <td>Yes</td>\n",
       "      <td>Yes</td>\n",
       "    </tr>\n",
       "    <tr>\n",
       "      <th>397</th>\n",
       "      <td>7.41</td>\n",
       "      <td>162</td>\n",
       "      <td>26</td>\n",
       "      <td>12</td>\n",
       "      <td>368</td>\n",
       "      <td>159</td>\n",
       "      <td>40</td>\n",
       "      <td>18</td>\n",
       "      <td>Yes</td>\n",
       "      <td>Yes</td>\n",
       "    </tr>\n",
       "    <tr>\n",
       "      <th>275</th>\n",
       "      <td>6.67</td>\n",
       "      <td>107</td>\n",
       "      <td>119</td>\n",
       "      <td>11</td>\n",
       "      <td>210</td>\n",
       "      <td>132</td>\n",
       "      <td>53</td>\n",
       "      <td>11</td>\n",
       "      <td>Yes</td>\n",
       "      <td>Yes</td>\n",
       "    </tr>\n",
       "    <tr>\n",
       "      <th>79</th>\n",
       "      <td>9.14</td>\n",
       "      <td>134</td>\n",
       "      <td>67</td>\n",
       "      <td>0</td>\n",
       "      <td>286</td>\n",
       "      <td>90</td>\n",
       "      <td>41</td>\n",
       "      <td>13</td>\n",
       "      <td>Yes</td>\n",
       "      <td>No</td>\n",
       "    </tr>\n",
       "    <tr>\n",
       "      <th>340</th>\n",
       "      <td>7.50</td>\n",
       "      <td>140</td>\n",
       "      <td>29</td>\n",
       "      <td>0</td>\n",
       "      <td>105</td>\n",
       "      <td>91</td>\n",
       "      <td>43</td>\n",
       "      <td>16</td>\n",
       "      <td>Yes</td>\n",
       "      <td>No</td>\n",
       "    </tr>\n",
       "    <tr>\n",
       "      <th>144</th>\n",
       "      <td>9.09</td>\n",
       "      <td>132</td>\n",
       "      <td>68</td>\n",
       "      <td>0</td>\n",
       "      <td>264</td>\n",
       "      <td>123</td>\n",
       "      <td>34</td>\n",
       "      <td>11</td>\n",
       "      <td>No</td>\n",
       "      <td>No</td>\n",
       "    </tr>\n",
       "  </tbody>\n",
       "</table>\n",
       "</div>"
      ],
      "text/plain": [
       "     Sales  CompPrice  Income  Advertising  Population  Price  Age  Education  \\\n",
       "368  10.71        109      22           10         348     79   74         14   \n",
       "62    1.82        139      45            0         146    133   77         17   \n",
       "103   5.07        123      91            0         334     96   78         17   \n",
       "397   7.41        162      26           12         368    159   40         18   \n",
       "275   6.67        107     119           11         210    132   53         11   \n",
       "79    9.14        134      67            0         286     90   41         13   \n",
       "340   7.50        140      29            0         105     91   43         16   \n",
       "144   9.09        132      68            0         264    123   34         11   \n",
       "\n",
       "    Urban   US  \n",
       "368    No  Yes  \n",
       "62    Yes  Yes  \n",
       "103   Yes  Yes  \n",
       "397   Yes  Yes  \n",
       "275   Yes  Yes  \n",
       "79    Yes   No  \n",
       "340   Yes   No  \n",
       "144    No   No  "
      ]
     },
     "execution_count": 21,
     "metadata": {},
     "output_type": "execute_result"
    }
   ],
   "source": [
    "com.sample(frac = 0.02) # Just Getting a sample of values , only 8 rows we can also use n= 100 if we don't know the fraction"
   ]
  },
  {
   "cell_type": "code",
   "execution_count": 24,
   "metadata": {},
   "outputs": [
    {
     "data": {
      "text/plain": [
       "7.496325"
      ]
     },
     "execution_count": 24,
     "metadata": {},
     "output_type": "execute_result"
    }
   ],
   "source": [
    "com.Sales.mean()"
   ]
  },
  {
   "cell_type": "code",
   "execution_count": 25,
   "metadata": {},
   "outputs": [
    {
     "data": {
      "text/plain": [
       "0.0"
      ]
     },
     "execution_count": 25,
     "metadata": {},
     "output_type": "execute_result"
    }
   ],
   "source": [
    "com.Sales.min()"
   ]
  },
  {
   "cell_type": "code",
   "execution_count": 26,
   "metadata": {},
   "outputs": [
    {
     "data": {
      "text/plain": [
       "120"
      ]
     },
     "execution_count": 26,
     "metadata": {},
     "output_type": "execute_result"
    }
   ],
   "source": [
    "com.Income.max()"
   ]
  },
  {
   "cell_type": "code",
   "execution_count": 48,
   "metadata": {},
   "outputs": [
    {
     "data": {
      "text/plain": [
       "count     400\n",
       "unique      2\n",
       "top       Yes\n",
       "freq      282\n",
       "Name: Urban, dtype: object"
      ]
     },
     "execution_count": 48,
     "metadata": {},
     "output_type": "execute_result"
    }
   ],
   "source": [
    "# Strings are objects in pandas , In below we can also use min(),max(),count(),describe(),value_counts(),unique(),hist()\n",
    "#except std(),median() and mean() with object type 'Urban' \n",
    "com.Urban.describe()"
   ]
  },
  {
   "cell_type": "code",
   "execution_count": 32,
   "metadata": {},
   "outputs": [
    {
     "data": {
      "text/plain": [
       "Yes    282\n",
       "No     118\n",
       "Name: Urban, dtype: int64"
      ]
     },
     "execution_count": 32,
     "metadata": {},
     "output_type": "execute_result"
    }
   ],
   "source": [
    "com.Urban.value_counts()"
   ]
  },
  {
   "cell_type": "code",
   "execution_count": 53,
   "metadata": {},
   "outputs": [
    {
     "data": {
      "text/plain": [
       "array(['Yes', 'No'], dtype=object)"
      ]
     },
     "execution_count": 53,
     "metadata": {},
     "output_type": "execute_result"
    }
   ],
   "source": [
    "com.Urban.unique()"
   ]
  },
  {
   "cell_type": "code",
   "execution_count": 67,
   "metadata": {},
   "outputs": [
    {
     "data": {
      "text/plain": [
       "69     11\n",
       "42     10\n",
       "32      8\n",
       "100     8\n",
       "60      7\n",
       "       ..\n",
       "112     1\n",
       "109     1\n",
       "108     1\n",
       "43      1\n",
       "95      1\n",
       "Name: Income, Length: 98, dtype: int64"
      ]
     },
     "execution_count": 67,
     "metadata": {},
     "output_type": "execute_result"
    }
   ],
   "source": [
    "# Same above functions can be used with Int(types) also along with median() mean() std() etc except() info() as it only\n",
    "# support Data Frames not series Same for Strings(Object type) also .\n",
    "com.Income.value_counts()"
   ]
  },
  {
   "cell_type": "code",
   "execution_count": 43,
   "metadata": {},
   "outputs": [
    {
     "data": {
      "text/plain": [
       "69.0"
      ]
     },
     "execution_count": 43,
     "metadata": {},
     "output_type": "execute_result"
    }
   ],
   "source": [
    "com.Income.median()"
   ]
  },
  {
   "cell_type": "code",
   "execution_count": 50,
   "metadata": {},
   "outputs": [
    {
     "data": {
      "text/html": [
       "<div>\n",
       "<style scoped>\n",
       "    .dataframe tbody tr th:only-of-type {\n",
       "        vertical-align: middle;\n",
       "    }\n",
       "\n",
       "    .dataframe tbody tr th {\n",
       "        vertical-align: top;\n",
       "    }\n",
       "\n",
       "    .dataframe thead th {\n",
       "        text-align: right;\n",
       "    }\n",
       "</style>\n",
       "<table border=\"1\" class=\"dataframe\">\n",
       "  <thead>\n",
       "    <tr style=\"text-align: right;\">\n",
       "      <th></th>\n",
       "      <th>Sales</th>\n",
       "      <th>CompPrice</th>\n",
       "      <th>Income</th>\n",
       "      <th>Advertising</th>\n",
       "      <th>Population</th>\n",
       "      <th>Price</th>\n",
       "      <th>Age</th>\n",
       "      <th>Education</th>\n",
       "      <th>Urban</th>\n",
       "      <th>US</th>\n",
       "    </tr>\n",
       "  </thead>\n",
       "  <tbody>\n",
       "    <tr>\n",
       "      <th>0</th>\n",
       "      <td>9.50</td>\n",
       "      <td>138</td>\n",
       "      <td>73</td>\n",
       "      <td>11</td>\n",
       "      <td>276</td>\n",
       "      <td>120</td>\n",
       "      <td>42</td>\n",
       "      <td>17</td>\n",
       "      <td>Yes</td>\n",
       "      <td>Yes</td>\n",
       "    </tr>\n",
       "    <tr>\n",
       "      <th>1</th>\n",
       "      <td>11.22</td>\n",
       "      <td>111</td>\n",
       "      <td>48</td>\n",
       "      <td>16</td>\n",
       "      <td>260</td>\n",
       "      <td>83</td>\n",
       "      <td>65</td>\n",
       "      <td>10</td>\n",
       "      <td>Yes</td>\n",
       "      <td>Yes</td>\n",
       "    </tr>\n",
       "    <tr>\n",
       "      <th>2</th>\n",
       "      <td>10.06</td>\n",
       "      <td>113</td>\n",
       "      <td>35</td>\n",
       "      <td>10</td>\n",
       "      <td>269</td>\n",
       "      <td>80</td>\n",
       "      <td>59</td>\n",
       "      <td>12</td>\n",
       "      <td>Yes</td>\n",
       "      <td>Yes</td>\n",
       "    </tr>\n",
       "    <tr>\n",
       "      <th>3</th>\n",
       "      <td>7.40</td>\n",
       "      <td>117</td>\n",
       "      <td>100</td>\n",
       "      <td>4</td>\n",
       "      <td>466</td>\n",
       "      <td>97</td>\n",
       "      <td>55</td>\n",
       "      <td>14</td>\n",
       "      <td>Yes</td>\n",
       "      <td>Yes</td>\n",
       "    </tr>\n",
       "    <tr>\n",
       "      <th>4</th>\n",
       "      <td>4.15</td>\n",
       "      <td>141</td>\n",
       "      <td>64</td>\n",
       "      <td>3</td>\n",
       "      <td>340</td>\n",
       "      <td>128</td>\n",
       "      <td>38</td>\n",
       "      <td>13</td>\n",
       "      <td>Yes</td>\n",
       "      <td>No</td>\n",
       "    </tr>\n",
       "    <tr>\n",
       "      <th>5</th>\n",
       "      <td>10.81</td>\n",
       "      <td>124</td>\n",
       "      <td>113</td>\n",
       "      <td>13</td>\n",
       "      <td>501</td>\n",
       "      <td>72</td>\n",
       "      <td>78</td>\n",
       "      <td>16</td>\n",
       "      <td>No</td>\n",
       "      <td>Yes</td>\n",
       "    </tr>\n",
       "    <tr>\n",
       "      <th>6</th>\n",
       "      <td>6.63</td>\n",
       "      <td>115</td>\n",
       "      <td>105</td>\n",
       "      <td>0</td>\n",
       "      <td>45</td>\n",
       "      <td>108</td>\n",
       "      <td>71</td>\n",
       "      <td>15</td>\n",
       "      <td>Yes</td>\n",
       "      <td>No</td>\n",
       "    </tr>\n",
       "    <tr>\n",
       "      <th>7</th>\n",
       "      <td>11.85</td>\n",
       "      <td>136</td>\n",
       "      <td>81</td>\n",
       "      <td>15</td>\n",
       "      <td>425</td>\n",
       "      <td>120</td>\n",
       "      <td>67</td>\n",
       "      <td>10</td>\n",
       "      <td>Yes</td>\n",
       "      <td>Yes</td>\n",
       "    </tr>\n",
       "  </tbody>\n",
       "</table>\n",
       "</div>"
      ],
      "text/plain": [
       "   Sales  CompPrice  Income  Advertising  Population  Price  Age  Education  \\\n",
       "0   9.50        138      73           11         276    120   42         17   \n",
       "1  11.22        111      48           16         260     83   65         10   \n",
       "2  10.06        113      35           10         269     80   59         12   \n",
       "3   7.40        117     100            4         466     97   55         14   \n",
       "4   4.15        141      64            3         340    128   38         13   \n",
       "5  10.81        124     113           13         501     72   78         16   \n",
       "6   6.63        115     105            0          45    108   71         15   \n",
       "7  11.85        136      81           15         425    120   67         10   \n",
       "\n",
       "  Urban   US  \n",
       "0   Yes  Yes  \n",
       "1   Yes  Yes  \n",
       "2   Yes  Yes  \n",
       "3   Yes  Yes  \n",
       "4   Yes   No  \n",
       "5    No  Yes  \n",
       "6   Yes   No  \n",
       "7   Yes  Yes  "
      ]
     },
     "execution_count": 50,
     "metadata": {},
     "output_type": "execute_result"
    }
   ],
   "source": [
    "com.head(8)"
   ]
  },
  {
   "cell_type": "code",
   "execution_count": 71,
   "metadata": {},
   "outputs": [
    {
     "data": {
      "text/plain": [
       "<matplotlib.axes._subplots.AxesSubplot at 0x229755e1970>"
      ]
     },
     "execution_count": 71,
     "metadata": {},
     "output_type": "execute_result"
    },
    {
     "data": {
      "image/png": "[encoded data removed]",
      "text/plain": [
       "<Figure size 432x288 with 1 Axes>"
      ]
     },
     "metadata": {
      "needs_background": "light"
     },
     "output_type": "display_data"
    }
   ],
   "source": [
    "emp['2'].hist()"
   ]
  },
  {
   "cell_type": "code",
   "execution_count": 72,
   "metadata": {},
   "outputs": [
    {
     "data": {
      "text/plain": [
       "<matplotlib.axes._subplots.AxesSubplot at 0x2297564f3a0>"
      ]
     },
     "execution_count": 72,
     "metadata": {},
     "output_type": "execute_result"
    },
    {
     "data": {
      "image/png": "[encoded data removed]",
      "text/plain": [
       "<Figure size 432x288 with 1 Axes>"
      ]
     },
     "metadata": {
      "needs_background": "light"
     },
     "output_type": "display_data"
    }
   ],
   "source": [
    "com.Urban.hist()"
   ]
  },
  {
   "cell_type": "code",
   "execution_count": 73,
   "metadata": {},
   "outputs": [
    {
     "data": {
      "text/plain": [
       "<matplotlib.axes._subplots.AxesSubplot at 0x229756d5df0>"
      ]
     },
     "execution_count": 73,
     "metadata": {},
     "output_type": "execute_result"
    },
    {
     "data": {
      "image/png": "[encoded data removed]",
      "text/plain": [
       "<Figure size 432x288 with 1 Axes>"
      ]
     },
     "metadata": {
      "needs_background": "light"
     },
     "output_type": "display_data"
    }
   ],
   "source": [
    "com.Income.hist()"
   ]
  },
  {
   "cell_type": "code",
   "execution_count": 75,
   "metadata": {},
   "outputs": [
    {
     "data": {
      "text/plain": [
       "array([[<matplotlib.axes._subplots.AxesSubplot object at 0x000002297574AB20>,\n",
       "        <matplotlib.axes._subplots.AxesSubplot object at 0x000002297555B070>,\n",
       "        <matplotlib.axes._subplots.AxesSubplot object at 0x000002297566D130>],\n",
       "       [<matplotlib.axes._subplots.AxesSubplot object at 0x00000229757C1220>,\n",
       "        <matplotlib.axes._subplots.AxesSubplot object at 0x00000229757EC670>,\n",
       "        <matplotlib.axes._subplots.AxesSubplot object at 0x000002297581AA00>],\n",
       "       [<matplotlib.axes._subplots.AxesSubplot object at 0x000002297581AAF0>,\n",
       "        <matplotlib.axes._subplots.AxesSubplot object at 0x0000022975846FD0>,\n",
       "        <matplotlib.axes._subplots.AxesSubplot object at 0x00000229758AC760>]],\n",
       "      dtype=object)"
      ]
     },
     "execution_count": 75,
     "metadata": {},
     "output_type": "execute_result"
    },
    {
     "data": {
      "image/png": "[encoded data removed]",
      "text/plain": [
       "<Figure size 432x288 with 9 Axes>"
      ]
     },
     "metadata": {
      "needs_background": "light"
     },
     "output_type": "display_data"
    }
   ],
   "source": [
    "com.hist()"
   ]
  },
  {
   "cell_type": "code",
   "execution_count": 3,
   "metadata": {},
   "outputs": [
    {
     "data": {
      "text/plain": [
       "pandas.core.frame.DataFrame"
      ]
     },
     "execution_count": 3,
     "metadata": {},
     "output_type": "execute_result"
    }
   ],
   "source": [
    "# Data Set itself is a Data Frame\n",
    "type(com)"
   ]
  },
  {
   "cell_type": "code",
   "execution_count": 5,
   "metadata": {},
   "outputs": [
    {
     "data": {
      "text/plain": [
       "pandas.core.series.Series"
      ]
     },
     "execution_count": 5,
     "metadata": {},
     "output_type": "execute_result"
    }
   ],
   "source": [
    "# However , single column is a series like lists.\n",
    "variable = com.Income\n",
    "type(variable)"
   ]
  },
  {
   "cell_type": "code",
   "execution_count": 7,
   "metadata": {},
   "outputs": [
    {
     "data": {
      "text/html": [
       "<div>\n",
       "<style scoped>\n",
       "    .dataframe tbody tr th:only-of-type {\n",
       "        vertical-align: middle;\n",
       "    }\n",
       "\n",
       "    .dataframe tbody tr th {\n",
       "        vertical-align: top;\n",
       "    }\n",
       "\n",
       "    .dataframe thead th {\n",
       "        text-align: right;\n",
       "    }\n",
       "</style>\n",
       "<table border=\"1\" class=\"dataframe\">\n",
       "  <thead>\n",
       "    <tr style=\"text-align: right;\">\n",
       "      <th></th>\n",
       "      <th>Sales</th>\n",
       "      <th>CompPrice</th>\n",
       "      <th>Income</th>\n",
       "      <th>Advertising</th>\n",
       "      <th>Population</th>\n",
       "      <th>Price</th>\n",
       "      <th>Age</th>\n",
       "      <th>Education</th>\n",
       "    </tr>\n",
       "  </thead>\n",
       "  <tbody>\n",
       "    <tr>\n",
       "      <th>Sales</th>\n",
       "      <td>1.000000</td>\n",
       "      <td>0.064079</td>\n",
       "      <td>0.151951</td>\n",
       "      <td>0.269507</td>\n",
       "      <td>0.050471</td>\n",
       "      <td>-0.444951</td>\n",
       "      <td>-0.231815</td>\n",
       "      <td>-0.051955</td>\n",
       "    </tr>\n",
       "    <tr>\n",
       "      <th>CompPrice</th>\n",
       "      <td>0.064079</td>\n",
       "      <td>1.000000</td>\n",
       "      <td>-0.080653</td>\n",
       "      <td>-0.024199</td>\n",
       "      <td>-0.094707</td>\n",
       "      <td>0.584848</td>\n",
       "      <td>-0.100239</td>\n",
       "      <td>0.025197</td>\n",
       "    </tr>\n",
       "    <tr>\n",
       "      <th>Income</th>\n",
       "      <td>0.151951</td>\n",
       "      <td>-0.080653</td>\n",
       "      <td>1.000000</td>\n",
       "      <td>0.058995</td>\n",
       "      <td>-0.007877</td>\n",
       "      <td>-0.056698</td>\n",
       "      <td>-0.004670</td>\n",
       "      <td>-0.056855</td>\n",
       "    </tr>\n",
       "    <tr>\n",
       "      <th>Advertising</th>\n",
       "      <td>0.269507</td>\n",
       "      <td>-0.024199</td>\n",
       "      <td>0.058995</td>\n",
       "      <td>1.000000</td>\n",
       "      <td>0.265652</td>\n",
       "      <td>0.044537</td>\n",
       "      <td>-0.004557</td>\n",
       "      <td>-0.033594</td>\n",
       "    </tr>\n",
       "    <tr>\n",
       "      <th>Population</th>\n",
       "      <td>0.050471</td>\n",
       "      <td>-0.094707</td>\n",
       "      <td>-0.007877</td>\n",
       "      <td>0.265652</td>\n",
       "      <td>1.000000</td>\n",
       "      <td>-0.012144</td>\n",
       "      <td>-0.042663</td>\n",
       "      <td>-0.106378</td>\n",
       "    </tr>\n",
       "    <tr>\n",
       "      <th>Price</th>\n",
       "      <td>-0.444951</td>\n",
       "      <td>0.584848</td>\n",
       "      <td>-0.056698</td>\n",
       "      <td>0.044537</td>\n",
       "      <td>-0.012144</td>\n",
       "      <td>1.000000</td>\n",
       "      <td>-0.102177</td>\n",
       "      <td>0.011747</td>\n",
       "    </tr>\n",
       "    <tr>\n",
       "      <th>Age</th>\n",
       "      <td>-0.231815</td>\n",
       "      <td>-0.100239</td>\n",
       "      <td>-0.004670</td>\n",
       "      <td>-0.004557</td>\n",
       "      <td>-0.042663</td>\n",
       "      <td>-0.102177</td>\n",
       "      <td>1.000000</td>\n",
       "      <td>0.006488</td>\n",
       "    </tr>\n",
       "    <tr>\n",
       "      <th>Education</th>\n",
       "      <td>-0.051955</td>\n",
       "      <td>0.025197</td>\n",
       "      <td>-0.056855</td>\n",
       "      <td>-0.033594</td>\n",
       "      <td>-0.106378</td>\n",
       "      <td>0.011747</td>\n",
       "      <td>0.006488</td>\n",
       "      <td>1.000000</td>\n",
       "    </tr>\n",
       "  </tbody>\n",
       "</table>\n",
       "</div>"
      ],
      "text/plain": [
       "                Sales  CompPrice    Income  Advertising  Population     Price  \\\n",
       "Sales        1.000000   0.064079  0.151951     0.269507    0.050471 -0.444951   \n",
       "CompPrice    0.064079   1.000000 -0.080653    -0.024199   -0.094707  0.584848   \n",
       "Income       0.151951  -0.080653  1.000000     0.058995   -0.007877 -0.056698   \n",
       "Advertising  0.269507  -0.024199  0.058995     1.000000    0.265652  0.044537   \n",
       "Population   0.050471  -0.094707 -0.007877     0.265652    1.000000 -0.012144   \n",
       "Price       -0.444951   0.584848 -0.056698     0.044537   -0.012144  1.000000   \n",
       "Age         -0.231815  -0.100239 -0.004670    -0.004557   -0.042663 -0.102177   \n",
       "Education   -0.051955   0.025197 -0.056855    -0.033594   -0.106378  0.011747   \n",
       "\n",
       "                  Age  Education  \n",
       "Sales       -0.231815  -0.051955  \n",
       "CompPrice   -0.100239   0.025197  \n",
       "Income      -0.004670  -0.056855  \n",
       "Advertising -0.004557  -0.033594  \n",
       "Population  -0.042663  -0.106378  \n",
       "Price       -0.102177   0.011747  \n",
       "Age          1.000000   0.006488  \n",
       "Education    0.006488   1.000000  "
      ]
     },
     "execution_count": 7,
     "metadata": {},
     "output_type": "execute_result"
    }
   ],
   "source": [
    "com.corr()"
   ]
  },
  {
   "cell_type": "code",
   "execution_count": 8,
   "metadata": {},
   "outputs": [
    {
     "data": {
      "text/plain": [
       "Sales              7.975626\n",
       "CompPrice        235.147243\n",
       "Income           783.218239\n",
       "Advertising       44.227343\n",
       "Population     21719.813935\n",
       "Price            560.584436\n",
       "Age              262.449618\n",
       "Education          6.867168\n",
       "dtype: float64"
      ]
     },
     "execution_count": 8,
     "metadata": {},
     "output_type": "execute_result"
    }
   ],
   "source": [
    "com.var()"
   ]
  },
  {
   "cell_type": "code",
   "execution_count": 10,
   "metadata": {},
   "outputs": [
    {
     "data": {
      "text/html": [
       "<div>\n",
       "<style scoped>\n",
       "    .dataframe tbody tr th:only-of-type {\n",
       "        vertical-align: middle;\n",
       "    }\n",
       "\n",
       "    .dataframe tbody tr th {\n",
       "        vertical-align: top;\n",
       "    }\n",
       "\n",
       "    .dataframe thead th {\n",
       "        text-align: right;\n",
       "    }\n",
       "</style>\n",
       "<table border=\"1\" class=\"dataframe\">\n",
       "  <thead>\n",
       "    <tr style=\"text-align: right;\">\n",
       "      <th></th>\n",
       "      <th>Sales</th>\n",
       "      <th>CompPrice</th>\n",
       "      <th>Income</th>\n",
       "      <th>Advertising</th>\n",
       "      <th>Population</th>\n",
       "      <th>Price</th>\n",
       "      <th>Age</th>\n",
       "      <th>Education</th>\n",
       "      <th>Urban</th>\n",
       "      <th>US</th>\n",
       "    </tr>\n",
       "  </thead>\n",
       "  <tbody>\n",
       "    <tr>\n",
       "      <th>0</th>\n",
       "      <td>False</td>\n",
       "      <td>False</td>\n",
       "      <td>False</td>\n",
       "      <td>False</td>\n",
       "      <td>False</td>\n",
       "      <td>False</td>\n",
       "      <td>False</td>\n",
       "      <td>False</td>\n",
       "      <td>False</td>\n",
       "      <td>False</td>\n",
       "    </tr>\n",
       "    <tr>\n",
       "      <th>1</th>\n",
       "      <td>False</td>\n",
       "      <td>False</td>\n",
       "      <td>False</td>\n",
       "      <td>False</td>\n",
       "      <td>False</td>\n",
       "      <td>False</td>\n",
       "      <td>False</td>\n",
       "      <td>False</td>\n",
       "      <td>False</td>\n",
       "      <td>False</td>\n",
       "    </tr>\n",
       "    <tr>\n",
       "      <th>2</th>\n",
       "      <td>False</td>\n",
       "      <td>False</td>\n",
       "      <td>False</td>\n",
       "      <td>False</td>\n",
       "      <td>False</td>\n",
       "      <td>False</td>\n",
       "      <td>False</td>\n",
       "      <td>False</td>\n",
       "      <td>False</td>\n",
       "      <td>False</td>\n",
       "    </tr>\n",
       "    <tr>\n",
       "      <th>3</th>\n",
       "      <td>False</td>\n",
       "      <td>False</td>\n",
       "      <td>False</td>\n",
       "      <td>False</td>\n",
       "      <td>False</td>\n",
       "      <td>False</td>\n",
       "      <td>False</td>\n",
       "      <td>False</td>\n",
       "      <td>False</td>\n",
       "      <td>False</td>\n",
       "    </tr>\n",
       "    <tr>\n",
       "      <th>4</th>\n",
       "      <td>False</td>\n",
       "      <td>False</td>\n",
       "      <td>False</td>\n",
       "      <td>False</td>\n",
       "      <td>False</td>\n",
       "      <td>False</td>\n",
       "      <td>False</td>\n",
       "      <td>False</td>\n",
       "      <td>False</td>\n",
       "      <td>False</td>\n",
       "    </tr>\n",
       "    <tr>\n",
       "      <th>...</th>\n",
       "      <td>...</td>\n",
       "      <td>...</td>\n",
       "      <td>...</td>\n",
       "      <td>...</td>\n",
       "      <td>...</td>\n",
       "      <td>...</td>\n",
       "      <td>...</td>\n",
       "      <td>...</td>\n",
       "      <td>...</td>\n",
       "      <td>...</td>\n",
       "    </tr>\n",
       "    <tr>\n",
       "      <th>395</th>\n",
       "      <td>False</td>\n",
       "      <td>False</td>\n",
       "      <td>False</td>\n",
       "      <td>False</td>\n",
       "      <td>False</td>\n",
       "      <td>False</td>\n",
       "      <td>False</td>\n",
       "      <td>False</td>\n",
       "      <td>False</td>\n",
       "      <td>False</td>\n",
       "    </tr>\n",
       "    <tr>\n",
       "      <th>396</th>\n",
       "      <td>False</td>\n",
       "      <td>False</td>\n",
       "      <td>False</td>\n",
       "      <td>False</td>\n",
       "      <td>False</td>\n",
       "      <td>False</td>\n",
       "      <td>False</td>\n",
       "      <td>False</td>\n",
       "      <td>False</td>\n",
       "      <td>False</td>\n",
       "    </tr>\n",
       "    <tr>\n",
       "      <th>397</th>\n",
       "      <td>False</td>\n",
       "      <td>False</td>\n",
       "      <td>False</td>\n",
       "      <td>False</td>\n",
       "      <td>False</td>\n",
       "      <td>False</td>\n",
       "      <td>False</td>\n",
       "      <td>False</td>\n",
       "      <td>False</td>\n",
       "      <td>False</td>\n",
       "    </tr>\n",
       "    <tr>\n",
       "      <th>398</th>\n",
       "      <td>False</td>\n",
       "      <td>False</td>\n",
       "      <td>False</td>\n",
       "      <td>False</td>\n",
       "      <td>False</td>\n",
       "      <td>False</td>\n",
       "      <td>False</td>\n",
       "      <td>False</td>\n",
       "      <td>False</td>\n",
       "      <td>False</td>\n",
       "    </tr>\n",
       "    <tr>\n",
       "      <th>399</th>\n",
       "      <td>False</td>\n",
       "      <td>False</td>\n",
       "      <td>False</td>\n",
       "      <td>False</td>\n",
       "      <td>False</td>\n",
       "      <td>False</td>\n",
       "      <td>False</td>\n",
       "      <td>False</td>\n",
       "      <td>False</td>\n",
       "      <td>False</td>\n",
       "    </tr>\n",
       "  </tbody>\n",
       "</table>\n",
       "<p>400 rows × 10 columns</p>\n",
       "</div>"
      ],
      "text/plain": [
       "     Sales  CompPrice  Income  Advertising  Population  Price    Age  \\\n",
       "0    False      False   False        False       False  False  False   \n",
       "1    False      False   False        False       False  False  False   \n",
       "2    False      False   False        False       False  False  False   \n",
       "3    False      False   False        False       False  False  False   \n",
       "4    False      False   False        False       False  False  False   \n",
       "..     ...        ...     ...          ...         ...    ...    ...   \n",
       "395  False      False   False        False       False  False  False   \n",
       "396  False      False   False        False       False  False  False   \n",
       "397  False      False   False        False       False  False  False   \n",
       "398  False      False   False        False       False  False  False   \n",
       "399  False      False   False        False       False  False  False   \n",
       "\n",
       "     Education  Urban     US  \n",
       "0        False  False  False  \n",
       "1        False  False  False  \n",
       "2        False  False  False  \n",
       "3        False  False  False  \n",
       "4        False  False  False  \n",
       "..         ...    ...    ...  \n",
       "395      False  False  False  \n",
       "396      False  False  False  \n",
       "397      False  False  False  \n",
       "398      False  False  False  \n",
       "399      False  False  False  \n",
       "\n",
       "[400 rows x 10 columns]"
      ]
     },
     "execution_count": 10,
     "metadata": {},
     "output_type": "execute_result"
    }
   ],
   "source": [
    "com.isnull() # Used to check null value "
   ]
  },
  {
   "cell_type": "code",
   "execution_count": 11,
   "metadata": {},
   "outputs": [
    {
     "data": {
      "text/plain": [
       "Sales          0\n",
       "CompPrice      0\n",
       "Income         0\n",
       "Advertising    0\n",
       "Population     0\n",
       "Price          0\n",
       "Age            0\n",
       "Education      0\n",
       "Urban          0\n",
       "US             0\n",
       "dtype: int64"
      ]
     },
     "execution_count": 11,
     "metadata": {},
     "output_type": "execute_result"
    }
   ],
   "source": [
    "com.isnull().sum() # It's more effiecient method to understand null values"
   ]
  },
  {
   "cell_type": "code",
   "execution_count": 13,
   "metadata": {},
   "outputs": [
    {
     "data": {
      "text/html": [
       "<div>\n",
       "<style scoped>\n",
       "    .dataframe tbody tr th:only-of-type {\n",
       "        vertical-align: middle;\n",
       "    }\n",
       "\n",
       "    .dataframe tbody tr th {\n",
       "        vertical-align: top;\n",
       "    }\n",
       "\n",
       "    .dataframe thead th {\n",
       "        text-align: right;\n",
       "    }\n",
       "</style>\n",
       "<table border=\"1\" class=\"dataframe\">\n",
       "  <thead>\n",
       "    <tr style=\"text-align: right;\">\n",
       "      <th></th>\n",
       "      <th>Sales</th>\n",
       "      <th>CompPrice</th>\n",
       "      <th>Income</th>\n",
       "      <th>Advertising</th>\n",
       "      <th>Population</th>\n",
       "      <th>Price</th>\n",
       "      <th>Age</th>\n",
       "      <th>Education</th>\n",
       "    </tr>\n",
       "    <tr>\n",
       "      <th>Urban</th>\n",
       "      <th></th>\n",
       "      <th></th>\n",
       "      <th></th>\n",
       "      <th></th>\n",
       "      <th></th>\n",
       "      <th></th>\n",
       "      <th></th>\n",
       "      <th></th>\n",
       "    </tr>\n",
       "  </thead>\n",
       "  <tbody>\n",
       "    <tr>\n",
       "      <th>No</th>\n",
       "      <td>7.563559</td>\n",
       "      <td>123.398305</td>\n",
       "      <td>67.016949</td>\n",
       "      <td>6.203390</td>\n",
       "      <td>276.677966</td>\n",
       "      <td>114.076271</td>\n",
       "      <td>52.610169</td>\n",
       "      <td>14.033898</td>\n",
       "    </tr>\n",
       "    <tr>\n",
       "      <th>Yes</th>\n",
       "      <td>7.468191</td>\n",
       "      <td>125.634752</td>\n",
       "      <td>69.343972</td>\n",
       "      <td>6.815603</td>\n",
       "      <td>259.886525</td>\n",
       "      <td>116.514184</td>\n",
       "      <td>53.620567</td>\n",
       "      <td>13.843972</td>\n",
       "    </tr>\n",
       "  </tbody>\n",
       "</table>\n",
       "</div>"
      ],
      "text/plain": [
       "          Sales   CompPrice     Income  Advertising  Population       Price  \\\n",
       "Urban                                                                         \n",
       "No     7.563559  123.398305  67.016949     6.203390  276.677966  114.076271   \n",
       "Yes    7.468191  125.634752  69.343972     6.815603  259.886525  116.514184   \n",
       "\n",
       "             Age  Education  \n",
       "Urban                        \n",
       "No     52.610169  14.033898  \n",
       "Yes    53.620567  13.843972  "
      ]
     },
     "execution_count": 13,
     "metadata": {},
     "output_type": "execute_result"
    }
   ],
   "source": [
    "# Grouping data according to Urban and calculationg mean\n",
    "com.groupby(com.Urban).mean()"
   ]
  },
  {
   "cell_type": "code",
   "execution_count": 18,
   "metadata": {},
   "outputs": [
    {
     "data": {
      "text/html": [
       "<div>\n",
       "<style scoped>\n",
       "    .dataframe tbody tr th:only-of-type {\n",
       "        vertical-align: middle;\n",
       "    }\n",
       "\n",
       "    .dataframe tbody tr th {\n",
       "        vertical-align: top;\n",
       "    }\n",
       "\n",
       "    .dataframe thead th {\n",
       "        text-align: right;\n",
       "    }\n",
       "</style>\n",
       "<table border=\"1\" class=\"dataframe\">\n",
       "  <thead>\n",
       "    <tr style=\"text-align: right;\">\n",
       "      <th></th>\n",
       "      <th>123456</th>\n",
       "      <th>100</th>\n",
       "      <th>100000</th>\n",
       "      <th>30001</th>\n",
       "    </tr>\n",
       "    <tr>\n",
       "      <th>2</th>\n",
       "      <th></th>\n",
       "      <th></th>\n",
       "      <th></th>\n",
       "      <th></th>\n",
       "    </tr>\n",
       "  </thead>\n",
       "  <tbody>\n",
       "    <tr>\n",
       "      <th>2</th>\n",
       "      <td>123410.50</td>\n",
       "      <td>550.000000</td>\n",
       "      <td>80000.000000</td>\n",
       "      <td>30001.0</td>\n",
       "    </tr>\n",
       "    <tr>\n",
       "      <th>5</th>\n",
       "      <td>123447.25</td>\n",
       "      <td>280.000000</td>\n",
       "      <td>65000.000000</td>\n",
       "      <td>30003.0</td>\n",
       "    </tr>\n",
       "    <tr>\n",
       "      <th>7</th>\n",
       "      <td>123413.00</td>\n",
       "      <td>514.666667</td>\n",
       "      <td>66666.666667</td>\n",
       "      <td>30003.0</td>\n",
       "    </tr>\n",
       "  </tbody>\n",
       "</table>\n",
       "</div>"
      ],
      "text/plain": [
       "      123456         100        100000    30001\n",
       "2                                              \n",
       "2  123410.50  550.000000  80000.000000  30001.0\n",
       "5  123447.25  280.000000  65000.000000  30003.0\n",
       "7  123413.00  514.666667  66666.666667  30003.0"
      ]
     },
     "execution_count": 18,
     "metadata": {},
     "output_type": "execute_result"
    }
   ],
   "source": [
    "emp.groupby(emp['2']).mean()"
   ]
  },
  {
   "cell_type": "code",
   "execution_count": 16,
   "metadata": {},
   "outputs": [
    {
     "data": {
      "text/html": [
       "<div>\n",
       "<style scoped>\n",
       "    .dataframe tbody tr th:only-of-type {\n",
       "        vertical-align: middle;\n",
       "    }\n",
       "\n",
       "    .dataframe tbody tr th {\n",
       "        vertical-align: top;\n",
       "    }\n",
       "\n",
       "    .dataframe thead th {\n",
       "        text-align: right;\n",
       "    }\n",
       "</style>\n",
       "<table border=\"1\" class=\"dataframe\">\n",
       "  <thead>\n",
       "    <tr style=\"text-align: right;\">\n",
       "      <th></th>\n",
       "      <th>E1001</th>\n",
       "      <th>John</th>\n",
       "      <th>Thomas</th>\n",
       "      <th>123456</th>\n",
       "      <th>1976-01-09</th>\n",
       "      <th>M</th>\n",
       "      <th>5631 Rice, OakPark,IL</th>\n",
       "      <th>100</th>\n",
       "      <th>100000</th>\n",
       "      <th>30001</th>\n",
       "      <th>2</th>\n",
       "    </tr>\n",
       "  </thead>\n",
       "  <tbody>\n",
       "    <tr>\n",
       "      <th>0</th>\n",
       "      <td>E1002</td>\n",
       "      <td>Alice</td>\n",
       "      <td>James</td>\n",
       "      <td>123457</td>\n",
       "      <td>1972-07-31</td>\n",
       "      <td>F</td>\n",
       "      <td>980 Berry ln, Elgin,IL</td>\n",
       "      <td>200</td>\n",
       "      <td>80000</td>\n",
       "      <td>30002</td>\n",
       "      <td>5</td>\n",
       "    </tr>\n",
       "    <tr>\n",
       "      <th>1</th>\n",
       "      <td>E1003</td>\n",
       "      <td>Steve</td>\n",
       "      <td>Wells</td>\n",
       "      <td>123458</td>\n",
       "      <td>1980-08-10</td>\n",
       "      <td>M</td>\n",
       "      <td>291 Springs, Gary,IL</td>\n",
       "      <td>300</td>\n",
       "      <td>50000</td>\n",
       "      <td>30002</td>\n",
       "      <td>5</td>\n",
       "    </tr>\n",
       "    <tr>\n",
       "      <th>2</th>\n",
       "      <td>E1004</td>\n",
       "      <td>Santosh</td>\n",
       "      <td>Kumar</td>\n",
       "      <td>123459</td>\n",
       "      <td>1985-07-20</td>\n",
       "      <td>M</td>\n",
       "      <td>511 Aurora Av, Aurora,IL</td>\n",
       "      <td>400</td>\n",
       "      <td>60000</td>\n",
       "      <td>30004</td>\n",
       "      <td>5</td>\n",
       "    </tr>\n",
       "    <tr>\n",
       "      <th>3</th>\n",
       "      <td>E1005</td>\n",
       "      <td>Ahmed</td>\n",
       "      <td>Hussain</td>\n",
       "      <td>123410</td>\n",
       "      <td>1981-01-04</td>\n",
       "      <td>M</td>\n",
       "      <td>216 Oak Tree, Geneva,IL</td>\n",
       "      <td>500</td>\n",
       "      <td>70000</td>\n",
       "      <td>30001</td>\n",
       "      <td>2</td>\n",
       "    </tr>\n",
       "    <tr>\n",
       "      <th>4</th>\n",
       "      <td>E1006</td>\n",
       "      <td>Nancy</td>\n",
       "      <td>Allen</td>\n",
       "      <td>123411</td>\n",
       "      <td>1978-02-06</td>\n",
       "      <td>F</td>\n",
       "      <td>111 Green Pl, Elgin,IL</td>\n",
       "      <td>600</td>\n",
       "      <td>90000</td>\n",
       "      <td>30001</td>\n",
       "      <td>2</td>\n",
       "    </tr>\n",
       "    <tr>\n",
       "      <th>5</th>\n",
       "      <td>E1007</td>\n",
       "      <td>Mary</td>\n",
       "      <td>Thomas</td>\n",
       "      <td>123412</td>\n",
       "      <td>1975-05-05</td>\n",
       "      <td>F</td>\n",
       "      <td>100 Rose Pl, Gary,IL</td>\n",
       "      <td>650</td>\n",
       "      <td>65000</td>\n",
       "      <td>30003</td>\n",
       "      <td>7</td>\n",
       "    </tr>\n",
       "    <tr>\n",
       "      <th>6</th>\n",
       "      <td>E1008</td>\n",
       "      <td>Bharath</td>\n",
       "      <td>Gupta</td>\n",
       "      <td>123413</td>\n",
       "      <td>1985-05-06</td>\n",
       "      <td>M</td>\n",
       "      <td>145 Berry Ln, Naperville,IL</td>\n",
       "      <td>660</td>\n",
       "      <td>65000</td>\n",
       "      <td>30003</td>\n",
       "      <td>7</td>\n",
       "    </tr>\n",
       "    <tr>\n",
       "      <th>7</th>\n",
       "      <td>E1009</td>\n",
       "      <td>Andrea</td>\n",
       "      <td>Jones</td>\n",
       "      <td>123414</td>\n",
       "      <td>1990-07-09</td>\n",
       "      <td>F</td>\n",
       "      <td>120 Fall Creek, Gary,IL</td>\n",
       "      <td>234</td>\n",
       "      <td>70000</td>\n",
       "      <td>30003</td>\n",
       "      <td>7</td>\n",
       "    </tr>\n",
       "    <tr>\n",
       "      <th>8</th>\n",
       "      <td>E1010</td>\n",
       "      <td>Ann</td>\n",
       "      <td>Jacob</td>\n",
       "      <td>123415</td>\n",
       "      <td>1982-03-30</td>\n",
       "      <td>F</td>\n",
       "      <td>111 Britany Springs,Elgin,IL</td>\n",
       "      <td>220</td>\n",
       "      <td>70000</td>\n",
       "      <td>30004</td>\n",
       "      <td>5</td>\n",
       "    </tr>\n",
       "  </tbody>\n",
       "</table>\n",
       "</div>"
      ],
      "text/plain": [
       "   E1001     John   Thomas  123456  1976-01-09  M  \\\n",
       "0  E1002    Alice    James  123457  1972-07-31  F   \n",
       "1  E1003    Steve    Wells  123458  1980-08-10  M   \n",
       "2  E1004  Santosh    Kumar  123459  1985-07-20  M   \n",
       "3  E1005    Ahmed  Hussain  123410  1981-01-04  M   \n",
       "4  E1006    Nancy    Allen  123411  1978-02-06  F   \n",
       "5  E1007     Mary   Thomas  123412  1975-05-05  F   \n",
       "6  E1008  Bharath    Gupta  123413  1985-05-06  M   \n",
       "7  E1009   Andrea    Jones  123414  1990-07-09  F   \n",
       "8  E1010      Ann    Jacob  123415  1982-03-30  F   \n",
       "\n",
       "          5631 Rice, OakPark,IL  100  100000  30001  2  \n",
       "0        980 Berry ln, Elgin,IL  200   80000  30002  5  \n",
       "1          291 Springs, Gary,IL  300   50000  30002  5  \n",
       "2      511 Aurora Av, Aurora,IL  400   60000  30004  5  \n",
       "3       216 Oak Tree, Geneva,IL  500   70000  30001  2  \n",
       "4        111 Green Pl, Elgin,IL  600   90000  30001  2  \n",
       "5          100 Rose Pl, Gary,IL  650   65000  30003  7  \n",
       "6   145 Berry Ln, Naperville,IL  660   65000  30003  7  \n",
       "7       120 Fall Creek, Gary,IL  234   70000  30003  7  \n",
       "8  111 Britany Springs,Elgin,IL  220   70000  30004  5  "
      ]
     },
     "execution_count": 16,
     "metadata": {},
     "output_type": "execute_result"
    }
   ],
   "source": [
    "emp"
   ]
  },
  {
   "cell_type": "code",
   "execution_count": 5,
   "metadata": {},
   "outputs": [
    {
     "data": {
      "text/plain": [
       "DatetimeIndex(['2001-04-10', '2001-04-11', '2001-04-12', '2001-04-13',\n",
       "               '2001-04-14', '2001-04-15'],\n",
       "              dtype='datetime64[ns]', freq='D')"
      ]
     },
     "execution_count": 5,
     "metadata": {},
     "output_type": "execute_result"
    }
   ],
   "source": [
    "dates = pd.date_range('20010410',periods = 6)\n",
    "dates"
   ]
  },
  {
   "cell_type": "code",
   "execution_count": 7,
   "metadata": {},
   "outputs": [
    {
     "data": {
      "text/plain": [
       "RangeIndex(start=0, stop=9, step=1)"
      ]
     },
     "execution_count": 7,
     "metadata": {},
     "output_type": "execute_result"
    }
   ],
   "source": [
    "emp.index"
   ]
  },
  {
   "cell_type": "code",
   "execution_count": 8,
   "metadata": {},
   "outputs": [
    {
     "data": {
      "text/plain": [
       "RangeIndex(start=0, stop=400, step=1)"
      ]
     },
     "execution_count": 8,
     "metadata": {},
     "output_type": "execute_result"
    }
   ],
   "source": [
    "com.index"
   ]
  },
  {
   "cell_type": "code",
   "execution_count": 12,
   "metadata": {},
   "outputs": [
    {
     "data": {
      "text/plain": [
       "0    1.0\n",
       "1    2.0\n",
       "2    3.0\n",
       "3    4.0\n",
       "4    5.0\n",
       "5    NaN\n",
       "dtype: float64"
      ]
     },
     "execution_count": 12,
     "metadata": {},
     "output_type": "execute_result"
    }
   ],
   "source": [
    "# Creating a series in Panda . By default the Data type is float with default index . We can use as Data for our series like\n",
    "# 1.Dictionaries 2.ndarray 3.Salar value\n",
    "import numpy as np\n",
    "ser = pd.Series([1,2,3,4,5,np.nan])\n",
    "ser"
   ]
  },
  {
   "cell_type": "code",
   "execution_count": 13,
   "metadata": {},
   "outputs": [
    {
     "data": {
      "text/plain": [
       "a   -1.507834\n",
       "b    1.732541\n",
       "c    0.680086\n",
       "d   -0.159968\n",
       "e   -0.341700\n",
       "dtype: float64"
      ]
     },
     "execution_count": 13,
     "metadata": {},
     "output_type": "execute_result"
    }
   ],
   "source": [
    "# Index length must be equal to given series length . Creating series using random values\n",
    "ser1 = pd.Series(np.random.randn(5),index = ['a','b','c','d','e'])\n",
    "ser1"
   ]
  },
  {
   "cell_type": "code",
   "execution_count": 14,
   "metadata": {},
   "outputs": [
    {
     "data": {
      "text/plain": [
       "Index(['a', 'b', 'c', 'd', 'e'], dtype='object')"
      ]
     },
     "execution_count": 14,
     "metadata": {},
     "output_type": "execute_result"
    }
   ],
   "source": [
    "# Accessing only the index of series we've created\n",
    "ser1.index"
   ]
  },
  {
   "cell_type": "code",
   "execution_count": 15,
   "metadata": {},
   "outputs": [
    {
     "data": {
      "text/plain": [
       "0   -1.690808\n",
       "1   -0.298662\n",
       "2    1.484848\n",
       "3    0.729177\n",
       "4    0.981341\n",
       "dtype: float64"
      ]
     },
     "execution_count": 15,
     "metadata": {},
     "output_type": "execute_result"
    }
   ],
   "source": [
    "# This will give default index . With Series creation using random values\n",
    "ser2 = pd.Series(np.random.randn(5))\n",
    "ser2"
   ]
  },
  {
   "cell_type": "code",
   "execution_count": 16,
   "metadata": {},
   "outputs": [
    {
     "data": {
      "text/plain": [
       "ahmad    20\n",
       "manan    21\n",
       "ali      19\n",
       "kazmi    18\n",
       "dtype: int64"
      ]
     },
     "execution_count": 16,
     "metadata": {},
     "output_type": "execute_result"
    }
   ],
   "source": [
    "# Creating a Series from dictionary . Note : Keys will become index (However,we can change the index)\n",
    "d = {'ahmad':20,'manan':21,'ali':19,'kazmi':18}\n",
    "ser3 = pd.Series(d)\n",
    "ser3"
   ]
  },
  {
   "cell_type": "code",
   "execution_count": 17,
   "metadata": {},
   "outputs": [
    {
     "data": {
      "text/plain": [
       "Index(['ahmad', 'manan', 'ali', 'kazmi'], dtype='object')"
      ]
     },
     "execution_count": 17,
     "metadata": {},
     "output_type": "execute_result"
    }
   ],
   "source": [
    "ser3.index"
   ]
  },
  {
   "cell_type": "code",
   "execution_count": 19,
   "metadata": {},
   "outputs": [
    {
     "data": {
      "text/plain": [
       "ahmad    20.0\n",
       "d         NaN\n",
       "kazmi    18.0\n",
       "b         NaN\n",
       "dtype: float64"
      ]
     },
     "execution_count": 19,
     "metadata": {},
     "output_type": "execute_result"
    }
   ],
   "source": [
    "# if we give the index instead of using dic keys then values will be none , except maching dic keys indexes as below.\n",
    "ser3 = pd.Series(d, index = ['ahmad','d','kazmi','b'])\n",
    "ser3"
   ]
  },
  {
   "cell_type": "code",
   "execution_count": 22,
   "metadata": {},
   "outputs": [
    {
     "data": {
      "text/plain": [
       "1    8.0\n",
       "2    8.0\n",
       "3    8.0\n",
       "dtype: float64"
      ]
     },
     "execution_count": 22,
     "metadata": {},
     "output_type": "execute_result"
    }
   ],
   "source": [
    "# Creating a series from scalar value .\n",
    "ser4 = pd.Series(8., index = [1,2,3])\n",
    "ser4"
   ]
  },
  {
   "cell_type": "code",
   "execution_count": 34,
   "metadata": {},
   "outputs": [
    {
     "data": {
      "text/html": [
       "<div>\n",
       "<style scoped>\n",
       "    .dataframe tbody tr th:only-of-type {\n",
       "        vertical-align: middle;\n",
       "    }\n",
       "\n",
       "    .dataframe tbody tr th {\n",
       "        vertical-align: top;\n",
       "    }\n",
       "\n",
       "    .dataframe thead th {\n",
       "        text-align: right;\n",
       "    }\n",
       "</style>\n",
       "<table border=\"1\" class=\"dataframe\">\n",
       "  <thead>\n",
       "    <tr style=\"text-align: right;\">\n",
       "      <th></th>\n",
       "      <th>A</th>\n",
       "      <th>B</th>\n",
       "    </tr>\n",
       "  </thead>\n",
       "  <tbody>\n",
       "    <tr>\n",
       "      <th>a</th>\n",
       "      <td>1.0</td>\n",
       "      <td>1.0</td>\n",
       "    </tr>\n",
       "    <tr>\n",
       "      <th>b</th>\n",
       "      <td>2.0</td>\n",
       "      <td>2.0</td>\n",
       "    </tr>\n",
       "    <tr>\n",
       "      <th>c</th>\n",
       "      <td>3.0</td>\n",
       "      <td>3.0</td>\n",
       "    </tr>\n",
       "    <tr>\n",
       "      <th>d</th>\n",
       "      <td>NaN</td>\n",
       "      <td>4.0</td>\n",
       "    </tr>\n",
       "  </tbody>\n",
       "</table>\n",
       "</div>"
      ],
      "text/plain": [
       "     A    B\n",
       "a  1.0  1.0\n",
       "b  2.0  2.0\n",
       "c  3.0  3.0\n",
       "d  NaN  4.0"
      ]
     },
     "execution_count": 34,
     "metadata": {},
     "output_type": "execute_result"
    }
   ],
   "source": [
    "# Creating a DataFrame from dictionary witch contains Series as values\n",
    "dic = {'A': pd.Series([1.,2.,3.], index = ['a','b','c']),\n",
    "       'B': pd.Series([1.,2.,3.,4.], index = ['a','b','c','d'])}\n",
    "fra1 = pd.DataFrame(dic)\n",
    "fra1"
   ]
  },
  {
   "cell_type": "code",
   "execution_count": 32,
   "metadata": {},
   "outputs": [
    {
     "data": {
      "text/html": [
       "<div>\n",
       "<style scoped>\n",
       "    .dataframe tbody tr th:only-of-type {\n",
       "        vertical-align: middle;\n",
       "    }\n",
       "\n",
       "    .dataframe tbody tr th {\n",
       "        vertical-align: top;\n",
       "    }\n",
       "\n",
       "    .dataframe thead th {\n",
       "        text-align: right;\n",
       "    }\n",
       "</style>\n",
       "<table border=\"1\" class=\"dataframe\">\n",
       "  <thead>\n",
       "    <tr style=\"text-align: right;\">\n",
       "      <th></th>\n",
       "      <th>A</th>\n",
       "      <th>B</th>\n",
       "    </tr>\n",
       "  </thead>\n",
       "  <tbody>\n",
       "    <tr>\n",
       "      <th>0</th>\n",
       "      <td>1</td>\n",
       "      <td>1</td>\n",
       "    </tr>\n",
       "    <tr>\n",
       "      <th>1</th>\n",
       "      <td>2</td>\n",
       "      <td>2</td>\n",
       "    </tr>\n",
       "    <tr>\n",
       "      <th>2</th>\n",
       "      <td>3</td>\n",
       "      <td>3</td>\n",
       "    </tr>\n",
       "    <tr>\n",
       "      <th>3</th>\n",
       "      <td>4</td>\n",
       "      <td>4</td>\n",
       "    </tr>\n",
       "  </tbody>\n",
       "</table>\n",
       "</div>"
      ],
      "text/plain": [
       "   A  B\n",
       "0  1  1\n",
       "1  2  2\n",
       "2  3  3\n",
       "3  4  4"
      ]
     },
     "execution_count": 32,
     "metadata": {},
     "output_type": "execute_result"
    }
   ],
   "source": [
    "# DataFrame from dictionary without series as values and by using default index.\n",
    "dic2 = {'A':[1,2,3,4],'B':[1,2,3,4]}\n",
    "fra2 = pd.DataFrame(dic2)\n",
    "fra2"
   ]
  },
  {
   "cell_type": "code",
   "execution_count": 48,
   "metadata": {},
   "outputs": [
    {
     "data": {
      "text/html": [
       "<div>\n",
       "<style scoped>\n",
       "    .dataframe tbody tr th:only-of-type {\n",
       "        vertical-align: middle;\n",
       "    }\n",
       "\n",
       "    .dataframe tbody tr th {\n",
       "        vertical-align: top;\n",
       "    }\n",
       "\n",
       "    .dataframe thead th {\n",
       "        text-align: right;\n",
       "    }\n",
       "</style>\n",
       "<table border=\"1\" class=\"dataframe\">\n",
       "  <thead>\n",
       "    <tr style=\"text-align: right;\">\n",
       "      <th></th>\n",
       "      <th>A</th>\n",
       "      <th>B</th>\n",
       "      <th>C</th>\n",
       "    </tr>\n",
       "  </thead>\n",
       "  <tbody>\n",
       "    <tr>\n",
       "      <th>2001-04-10</th>\n",
       "      <td>0.322402</td>\n",
       "      <td>-1.235148</td>\n",
       "      <td>-1.017586</td>\n",
       "    </tr>\n",
       "    <tr>\n",
       "      <th>2001-04-11</th>\n",
       "      <td>0.608840</td>\n",
       "      <td>0.011335</td>\n",
       "      <td>-1.384341</td>\n",
       "    </tr>\n",
       "    <tr>\n",
       "      <th>2001-04-12</th>\n",
       "      <td>0.721237</td>\n",
       "      <td>1.072117</td>\n",
       "      <td>-1.197498</td>\n",
       "    </tr>\n",
       "    <tr>\n",
       "      <th>2001-04-13</th>\n",
       "      <td>-0.586531</td>\n",
       "      <td>0.129209</td>\n",
       "      <td>1.222013</td>\n",
       "    </tr>\n",
       "    <tr>\n",
       "      <th>2001-04-14</th>\n",
       "      <td>-1.226448</td>\n",
       "      <td>-1.088437</td>\n",
       "      <td>-1.481188</td>\n",
       "    </tr>\n",
       "    <tr>\n",
       "      <th>2001-04-15</th>\n",
       "      <td>0.128057</td>\n",
       "      <td>0.949456</td>\n",
       "      <td>-1.823387</td>\n",
       "    </tr>\n",
       "  </tbody>\n",
       "</table>\n",
       "</div>"
      ],
      "text/plain": [
       "                   A         B         C\n",
       "2001-04-10  0.322402 -1.235148 -1.017586\n",
       "2001-04-11  0.608840  0.011335 -1.384341\n",
       "2001-04-12  0.721237  1.072117 -1.197498\n",
       "2001-04-13 -0.586531  0.129209  1.222013\n",
       "2001-04-14 -1.226448 -1.088437 -1.481188\n",
       "2001-04-15  0.128057  0.949456 -1.823387"
      ]
     },
     "execution_count": 48,
     "metadata": {},
     "output_type": "execute_result"
    }
   ],
   "source": [
    "# DataFrame from random values , We can give a list as index or use default indexes\n",
    "fra3 = pd.DataFrame(np.random.randn(6,3), index = dates , columns = ['A','B','C'])\n",
    "fra3"
   ]
  },
  {
   "cell_type": "code",
   "execution_count": 40,
   "metadata": {},
   "outputs": [
    {
     "data": {
      "text/html": [
       "<div>\n",
       "<style scoped>\n",
       "    .dataframe tbody tr th:only-of-type {\n",
       "        vertical-align: middle;\n",
       "    }\n",
       "\n",
       "    .dataframe tbody tr th {\n",
       "        vertical-align: top;\n",
       "    }\n",
       "\n",
       "    .dataframe thead th {\n",
       "        text-align: right;\n",
       "    }\n",
       "</style>\n",
       "<table border=\"1\" class=\"dataframe\">\n",
       "  <thead>\n",
       "    <tr style=\"text-align: right;\">\n",
       "      <th></th>\n",
       "      <th>A</th>\n",
       "      <th>B</th>\n",
       "      <th>C</th>\n",
       "      <th>D</th>\n",
       "      <th>E</th>\n",
       "      <th>F</th>\n",
       "    </tr>\n",
       "  </thead>\n",
       "  <tbody>\n",
       "    <tr>\n",
       "      <th>0</th>\n",
       "      <td>1.0</td>\n",
       "      <td>2013-01-02</td>\n",
       "      <td>1.0</td>\n",
       "      <td>3</td>\n",
       "      <td>test</td>\n",
       "      <td>foo</td>\n",
       "    </tr>\n",
       "    <tr>\n",
       "      <th>1</th>\n",
       "      <td>1.0</td>\n",
       "      <td>2013-01-02</td>\n",
       "      <td>1.0</td>\n",
       "      <td>3</td>\n",
       "      <td>train</td>\n",
       "      <td>foo</td>\n",
       "    </tr>\n",
       "    <tr>\n",
       "      <th>2</th>\n",
       "      <td>1.0</td>\n",
       "      <td>2013-01-02</td>\n",
       "      <td>1.0</td>\n",
       "      <td>3</td>\n",
       "      <td>test</td>\n",
       "      <td>foo</td>\n",
       "    </tr>\n",
       "    <tr>\n",
       "      <th>3</th>\n",
       "      <td>1.0</td>\n",
       "      <td>2013-01-02</td>\n",
       "      <td>1.0</td>\n",
       "      <td>3</td>\n",
       "      <td>train</td>\n",
       "      <td>foo</td>\n",
       "    </tr>\n",
       "  </tbody>\n",
       "</table>\n",
       "</div>"
      ],
      "text/plain": [
       "     A          B    C  D      E    F\n",
       "0  1.0 2013-01-02  1.0  3   test  foo\n",
       "1  1.0 2013-01-02  1.0  3  train  foo\n",
       "2  1.0 2013-01-02  1.0  3   test  foo\n",
       "3  1.0 2013-01-02  1.0  3  train  foo"
      ]
     },
     "execution_count": 40,
     "metadata": {},
     "output_type": "execute_result"
    }
   ],
   "source": [
    "# Creating a DataFrame by passing a dict of objects that can be converted to series-like.\n",
    "df4 = pd.DataFrame({'A': 1.,\n",
    "                    'B': pd.Timestamp('20130102'),\n",
    "                    'C': pd.Series(1, index=list(range(4)), dtype='float32'),\n",
    "                    'D': np.array([3] * 4, dtype='int32'),\n",
    "                    'E': pd.Categorical([\"test\", \"train\", \"test\", \"train\"]),\n",
    "                    'F': 'foo'})\n",
    "df4"
   ]
  },
  {
   "cell_type": "code",
   "execution_count": 41,
   "metadata": {},
   "outputs": [
    {
     "data": {
      "text/plain": [
       "array([[1.0, Timestamp('2013-01-02 00:00:00'), 1.0, 3, 'test', 'foo'],\n",
       "       [1.0, Timestamp('2013-01-02 00:00:00'), 1.0, 3, 'train', 'foo'],\n",
       "       [1.0, Timestamp('2013-01-02 00:00:00'), 1.0, 3, 'test', 'foo'],\n",
       "       [1.0, Timestamp('2013-01-02 00:00:00'), 1.0, 3, 'train', 'foo']],\n",
       "      dtype=object)"
      ]
     },
     "execution_count": 41,
     "metadata": {},
     "output_type": "execute_result"
    }
   ],
   "source": [
    "# Converts a DataFrame to a Numpy array\n",
    "df4.to_numpy()"
   ]
  },
  {
   "cell_type": "code",
   "execution_count": 43,
   "metadata": {},
   "outputs": [
    {
     "data": {
      "text/plain": [
       "array([[-0.72208034,  0.69971349,  0.56606278],\n",
       "       [ 0.0096665 , -0.28013541, -1.25392204],\n",
       "       [ 0.65021387,  0.51990531, -0.76159733],\n",
       "       [-2.01954767,  1.56738271, -1.61235775],\n",
       "       [ 0.0768423 , -0.12715533,  1.09944266],\n",
       "       [ 0.25148544, -0.80083119, -1.03452676]])"
      ]
     },
     "execution_count": 43,
     "metadata": {},
     "output_type": "execute_result"
    }
   ],
   "source": [
    "fra3.to_numpy()"
   ]
  },
  {
   "cell_type": "code",
   "execution_count": 44,
   "metadata": {},
   "outputs": [
    {
     "data": {
      "text/html": [
       "<div>\n",
       "<style scoped>\n",
       "    .dataframe tbody tr th:only-of-type {\n",
       "        vertical-align: middle;\n",
       "    }\n",
       "\n",
       "    .dataframe tbody tr th {\n",
       "        vertical-align: top;\n",
       "    }\n",
       "\n",
       "    .dataframe thead th {\n",
       "        text-align: right;\n",
       "    }\n",
       "</style>\n",
       "<table border=\"1\" class=\"dataframe\">\n",
       "  <thead>\n",
       "    <tr style=\"text-align: right;\">\n",
       "      <th></th>\n",
       "      <th>0</th>\n",
       "      <th>1</th>\n",
       "      <th>2</th>\n",
       "      <th>3</th>\n",
       "      <th>4</th>\n",
       "      <th>5</th>\n",
       "    </tr>\n",
       "  </thead>\n",
       "  <tbody>\n",
       "    <tr>\n",
       "      <th>A</th>\n",
       "      <td>-0.722080</td>\n",
       "      <td>0.009666</td>\n",
       "      <td>0.650214</td>\n",
       "      <td>-2.019548</td>\n",
       "      <td>0.076842</td>\n",
       "      <td>0.251485</td>\n",
       "    </tr>\n",
       "    <tr>\n",
       "      <th>B</th>\n",
       "      <td>0.699713</td>\n",
       "      <td>-0.280135</td>\n",
       "      <td>0.519905</td>\n",
       "      <td>1.567383</td>\n",
       "      <td>-0.127155</td>\n",
       "      <td>-0.800831</td>\n",
       "    </tr>\n",
       "    <tr>\n",
       "      <th>C</th>\n",
       "      <td>0.566063</td>\n",
       "      <td>-1.253922</td>\n",
       "      <td>-0.761597</td>\n",
       "      <td>-1.612358</td>\n",
       "      <td>1.099443</td>\n",
       "      <td>-1.034527</td>\n",
       "    </tr>\n",
       "  </tbody>\n",
       "</table>\n",
       "</div>"
      ],
      "text/plain": [
       "          0         1         2         3         4         5\n",
       "A -0.722080  0.009666  0.650214 -2.019548  0.076842  0.251485\n",
       "B  0.699713 -0.280135  0.519905  1.567383 -0.127155 -0.800831\n",
       "C  0.566063 -1.253922 -0.761597 -1.612358  1.099443 -1.034527"
      ]
     },
     "execution_count": 44,
     "metadata": {},
     "output_type": "execute_result"
    }
   ],
   "source": [
    "fra3.T"
   ]
  },
  {
   "cell_type": "code",
   "execution_count": 46,
   "metadata": {},
   "outputs": [
    {
     "data": {
      "text/html": [
       "<div>\n",
       "<style scoped>\n",
       "    .dataframe tbody tr th:only-of-type {\n",
       "        vertical-align: middle;\n",
       "    }\n",
       "\n",
       "    .dataframe tbody tr th {\n",
       "        vertical-align: top;\n",
       "    }\n",
       "\n",
       "    .dataframe thead th {\n",
       "        text-align: right;\n",
       "    }\n",
       "</style>\n",
       "<table border=\"1\" class=\"dataframe\">\n",
       "  <thead>\n",
       "    <tr style=\"text-align: right;\">\n",
       "      <th></th>\n",
       "      <th>A</th>\n",
       "      <th>B</th>\n",
       "      <th>C</th>\n",
       "    </tr>\n",
       "  </thead>\n",
       "  <tbody>\n",
       "    <tr>\n",
       "      <th>0</th>\n",
       "      <td>-0.722080</td>\n",
       "      <td>0.699713</td>\n",
       "      <td>0.566063</td>\n",
       "    </tr>\n",
       "    <tr>\n",
       "      <th>1</th>\n",
       "      <td>0.009666</td>\n",
       "      <td>-0.280135</td>\n",
       "      <td>-1.253922</td>\n",
       "    </tr>\n",
       "    <tr>\n",
       "      <th>2</th>\n",
       "      <td>0.650214</td>\n",
       "      <td>0.519905</td>\n",
       "      <td>-0.761597</td>\n",
       "    </tr>\n",
       "    <tr>\n",
       "      <th>3</th>\n",
       "      <td>-2.019548</td>\n",
       "      <td>1.567383</td>\n",
       "      <td>-1.612358</td>\n",
       "    </tr>\n",
       "    <tr>\n",
       "      <th>4</th>\n",
       "      <td>0.076842</td>\n",
       "      <td>-0.127155</td>\n",
       "      <td>1.099443</td>\n",
       "    </tr>\n",
       "    <tr>\n",
       "      <th>5</th>\n",
       "      <td>0.251485</td>\n",
       "      <td>-0.800831</td>\n",
       "      <td>-1.034527</td>\n",
       "    </tr>\n",
       "  </tbody>\n",
       "</table>\n",
       "</div>"
      ],
      "text/plain": [
       "          A         B         C\n",
       "0 -0.722080  0.699713  0.566063\n",
       "1  0.009666 -0.280135 -1.253922\n",
       "2  0.650214  0.519905 -0.761597\n",
       "3 -2.019548  1.567383 -1.612358\n",
       "4  0.076842 -0.127155  1.099443\n",
       "5  0.251485 -0.800831 -1.034527"
      ]
     },
     "execution_count": 46,
     "metadata": {},
     "output_type": "execute_result"
    }
   ],
   "source": [
    "fra3"
   ]
  },
  {
   "cell_type": "code",
   "execution_count": 45,
   "metadata": {},
   "outputs": [
    {
     "data": {
      "text/html": [
       "<div>\n",
       "<style scoped>\n",
       "    .dataframe tbody tr th:only-of-type {\n",
       "        vertical-align: middle;\n",
       "    }\n",
       "\n",
       "    .dataframe tbody tr th {\n",
       "        vertical-align: top;\n",
       "    }\n",
       "\n",
       "    .dataframe thead th {\n",
       "        text-align: right;\n",
       "    }\n",
       "</style>\n",
       "<table border=\"1\" class=\"dataframe\">\n",
       "  <thead>\n",
       "    <tr style=\"text-align: right;\">\n",
       "      <th></th>\n",
       "      <th>C</th>\n",
       "      <th>B</th>\n",
       "      <th>A</th>\n",
       "    </tr>\n",
       "  </thead>\n",
       "  <tbody>\n",
       "    <tr>\n",
       "      <th>0</th>\n",
       "      <td>0.566063</td>\n",
       "      <td>0.699713</td>\n",
       "      <td>-0.722080</td>\n",
       "    </tr>\n",
       "    <tr>\n",
       "      <th>1</th>\n",
       "      <td>-1.253922</td>\n",
       "      <td>-0.280135</td>\n",
       "      <td>0.009666</td>\n",
       "    </tr>\n",
       "    <tr>\n",
       "      <th>2</th>\n",
       "      <td>-0.761597</td>\n",
       "      <td>0.519905</td>\n",
       "      <td>0.650214</td>\n",
       "    </tr>\n",
       "    <tr>\n",
       "      <th>3</th>\n",
       "      <td>-1.612358</td>\n",
       "      <td>1.567383</td>\n",
       "      <td>-2.019548</td>\n",
       "    </tr>\n",
       "    <tr>\n",
       "      <th>4</th>\n",
       "      <td>1.099443</td>\n",
       "      <td>-0.127155</td>\n",
       "      <td>0.076842</td>\n",
       "    </tr>\n",
       "    <tr>\n",
       "      <th>5</th>\n",
       "      <td>-1.034527</td>\n",
       "      <td>-0.800831</td>\n",
       "      <td>0.251485</td>\n",
       "    </tr>\n",
       "  </tbody>\n",
       "</table>\n",
       "</div>"
      ],
      "text/plain": [
       "          C         B         A\n",
       "0  0.566063  0.699713 -0.722080\n",
       "1 -1.253922 -0.280135  0.009666\n",
       "2 -0.761597  0.519905  0.650214\n",
       "3 -1.612358  1.567383 -2.019548\n",
       "4  1.099443 -0.127155  0.076842\n",
       "5 -1.034527 -0.800831  0.251485"
      ]
     },
     "execution_count": 45,
     "metadata": {},
     "output_type": "execute_result"
    }
   ],
   "source": [
    "# Sorting by index in descending order \n",
    "fra3.sort_index(axis = 1 , ascending = False)"
   ]
  },
  {
   "cell_type": "code",
   "execution_count": 47,
   "metadata": {},
   "outputs": [
    {
     "data": {
      "text/html": [
       "<div>\n",
       "<style scoped>\n",
       "    .dataframe tbody tr th:only-of-type {\n",
       "        vertical-align: middle;\n",
       "    }\n",
       "\n",
       "    .dataframe tbody tr th {\n",
       "        vertical-align: top;\n",
       "    }\n",
       "\n",
       "    .dataframe thead th {\n",
       "        text-align: right;\n",
       "    }\n",
       "</style>\n",
       "<table border=\"1\" class=\"dataframe\">\n",
       "  <thead>\n",
       "    <tr style=\"text-align: right;\">\n",
       "      <th></th>\n",
       "      <th>A</th>\n",
       "      <th>B</th>\n",
       "      <th>C</th>\n",
       "    </tr>\n",
       "  </thead>\n",
       "  <tbody>\n",
       "    <tr>\n",
       "      <th>5</th>\n",
       "      <td>0.251485</td>\n",
       "      <td>-0.800831</td>\n",
       "      <td>-1.034527</td>\n",
       "    </tr>\n",
       "    <tr>\n",
       "      <th>1</th>\n",
       "      <td>0.009666</td>\n",
       "      <td>-0.280135</td>\n",
       "      <td>-1.253922</td>\n",
       "    </tr>\n",
       "    <tr>\n",
       "      <th>4</th>\n",
       "      <td>0.076842</td>\n",
       "      <td>-0.127155</td>\n",
       "      <td>1.099443</td>\n",
       "    </tr>\n",
       "    <tr>\n",
       "      <th>2</th>\n",
       "      <td>0.650214</td>\n",
       "      <td>0.519905</td>\n",
       "      <td>-0.761597</td>\n",
       "    </tr>\n",
       "    <tr>\n",
       "      <th>0</th>\n",
       "      <td>-0.722080</td>\n",
       "      <td>0.699713</td>\n",
       "      <td>0.566063</td>\n",
       "    </tr>\n",
       "    <tr>\n",
       "      <th>3</th>\n",
       "      <td>-2.019548</td>\n",
       "      <td>1.567383</td>\n",
       "      <td>-1.612358</td>\n",
       "    </tr>\n",
       "  </tbody>\n",
       "</table>\n",
       "</div>"
      ],
      "text/plain": [
       "          A         B         C\n",
       "5  0.251485 -0.800831 -1.034527\n",
       "1  0.009666 -0.280135 -1.253922\n",
       "4  0.076842 -0.127155  1.099443\n",
       "2  0.650214  0.519905 -0.761597\n",
       "0 -0.722080  0.699713  0.566063\n",
       "3 -2.019548  1.567383 -1.612358"
      ]
     },
     "execution_count": 47,
     "metadata": {},
     "output_type": "execute_result"
    }
   ],
   "source": [
    "# Sorting by values , sorting by B column \"small values first\"\n",
    "fra3.sort_values(by = 'B')"
   ]
  },
  {
   "cell_type": "code",
   "execution_count": 49,
   "metadata": {},
   "outputs": [
    {
     "data": {
      "text/html": [
       "<div>\n",
       "<style scoped>\n",
       "    .dataframe tbody tr th:only-of-type {\n",
       "        vertical-align: middle;\n",
       "    }\n",
       "\n",
       "    .dataframe tbody tr th {\n",
       "        vertical-align: top;\n",
       "    }\n",
       "\n",
       "    .dataframe thead th {\n",
       "        text-align: right;\n",
       "    }\n",
       "</style>\n",
       "<table border=\"1\" class=\"dataframe\">\n",
       "  <thead>\n",
       "    <tr style=\"text-align: right;\">\n",
       "      <th></th>\n",
       "      <th>A</th>\n",
       "      <th>B</th>\n",
       "      <th>C</th>\n",
       "    </tr>\n",
       "  </thead>\n",
       "  <tbody>\n",
       "    <tr>\n",
       "      <th>2001-04-10</th>\n",
       "      <td>0.322402</td>\n",
       "      <td>-1.235148</td>\n",
       "      <td>-1.017586</td>\n",
       "    </tr>\n",
       "    <tr>\n",
       "      <th>2001-04-11</th>\n",
       "      <td>0.608840</td>\n",
       "      <td>0.011335</td>\n",
       "      <td>-1.384341</td>\n",
       "    </tr>\n",
       "    <tr>\n",
       "      <th>2001-04-12</th>\n",
       "      <td>0.721237</td>\n",
       "      <td>1.072117</td>\n",
       "      <td>-1.197498</td>\n",
       "    </tr>\n",
       "    <tr>\n",
       "      <th>2001-04-13</th>\n",
       "      <td>-0.586531</td>\n",
       "      <td>0.129209</td>\n",
       "      <td>1.222013</td>\n",
       "    </tr>\n",
       "    <tr>\n",
       "      <th>2001-04-14</th>\n",
       "      <td>-1.226448</td>\n",
       "      <td>-1.088437</td>\n",
       "      <td>-1.481188</td>\n",
       "    </tr>\n",
       "    <tr>\n",
       "      <th>2001-04-15</th>\n",
       "      <td>0.128057</td>\n",
       "      <td>0.949456</td>\n",
       "      <td>-1.823387</td>\n",
       "    </tr>\n",
       "  </tbody>\n",
       "</table>\n",
       "</div>"
      ],
      "text/plain": [
       "                   A         B         C\n",
       "2001-04-10  0.322402 -1.235148 -1.017586\n",
       "2001-04-11  0.608840  0.011335 -1.384341\n",
       "2001-04-12  0.721237  1.072117 -1.197498\n",
       "2001-04-13 -0.586531  0.129209  1.222013\n",
       "2001-04-14 -1.226448 -1.088437 -1.481188\n",
       "2001-04-15  0.128057  0.949456 -1.823387"
      ]
     },
     "execution_count": 49,
     "metadata": {},
     "output_type": "execute_result"
    }
   ],
   "source": [
    "# Selecting Data\n",
    "fra3"
   ]
  },
  {
   "cell_type": "code",
   "execution_count": 50,
   "metadata": {},
   "outputs": [
    {
     "data": {
      "text/html": [
       "<div>\n",
       "<style scoped>\n",
       "    .dataframe tbody tr th:only-of-type {\n",
       "        vertical-align: middle;\n",
       "    }\n",
       "\n",
       "    .dataframe tbody tr th {\n",
       "        vertical-align: top;\n",
       "    }\n",
       "\n",
       "    .dataframe thead th {\n",
       "        text-align: right;\n",
       "    }\n",
       "</style>\n",
       "<table border=\"1\" class=\"dataframe\">\n",
       "  <thead>\n",
       "    <tr style=\"text-align: right;\">\n",
       "      <th></th>\n",
       "      <th>A</th>\n",
       "      <th>B</th>\n",
       "      <th>C</th>\n",
       "    </tr>\n",
       "  </thead>\n",
       "  <tbody>\n",
       "    <tr>\n",
       "      <th>2001-04-10</th>\n",
       "      <td>0.322402</td>\n",
       "      <td>-1.235148</td>\n",
       "      <td>-1.017586</td>\n",
       "    </tr>\n",
       "    <tr>\n",
       "      <th>2001-04-11</th>\n",
       "      <td>0.608840</td>\n",
       "      <td>0.011335</td>\n",
       "      <td>-1.384341</td>\n",
       "    </tr>\n",
       "    <tr>\n",
       "      <th>2001-04-12</th>\n",
       "      <td>0.721237</td>\n",
       "      <td>1.072117</td>\n",
       "      <td>-1.197498</td>\n",
       "    </tr>\n",
       "  </tbody>\n",
       "</table>\n",
       "</div>"
      ],
      "text/plain": [
       "                   A         B         C\n",
       "2001-04-10  0.322402 -1.235148 -1.017586\n",
       "2001-04-11  0.608840  0.011335 -1.384341\n",
       "2001-04-12  0.721237  1.072117 -1.197498"
      ]
     },
     "execution_count": 50,
     "metadata": {},
     "output_type": "execute_result"
    }
   ],
   "source": [
    "# Selection through indexing\n",
    "fra3[0:3]"
   ]
  },
  {
   "cell_type": "code",
   "execution_count": 52,
   "metadata": {},
   "outputs": [
    {
     "data": {
      "text/html": [
       "<div>\n",
       "<style scoped>\n",
       "    .dataframe tbody tr th:only-of-type {\n",
       "        vertical-align: middle;\n",
       "    }\n",
       "\n",
       "    .dataframe tbody tr th {\n",
       "        vertical-align: top;\n",
       "    }\n",
       "\n",
       "    .dataframe thead th {\n",
       "        text-align: right;\n",
       "    }\n",
       "</style>\n",
       "<table border=\"1\" class=\"dataframe\">\n",
       "  <thead>\n",
       "    <tr style=\"text-align: right;\">\n",
       "      <th></th>\n",
       "      <th>A</th>\n",
       "      <th>B</th>\n",
       "      <th>C</th>\n",
       "    </tr>\n",
       "  </thead>\n",
       "  <tbody>\n",
       "    <tr>\n",
       "      <th>2001-04-12</th>\n",
       "      <td>0.721237</td>\n",
       "      <td>1.072117</td>\n",
       "      <td>-1.197498</td>\n",
       "    </tr>\n",
       "    <tr>\n",
       "      <th>2001-04-13</th>\n",
       "      <td>-0.586531</td>\n",
       "      <td>0.129209</td>\n",
       "      <td>1.222013</td>\n",
       "    </tr>\n",
       "    <tr>\n",
       "      <th>2001-04-14</th>\n",
       "      <td>-1.226448</td>\n",
       "      <td>-1.088437</td>\n",
       "      <td>-1.481188</td>\n",
       "    </tr>\n",
       "    <tr>\n",
       "      <th>2001-04-15</th>\n",
       "      <td>0.128057</td>\n",
       "      <td>0.949456</td>\n",
       "      <td>-1.823387</td>\n",
       "    </tr>\n",
       "  </tbody>\n",
       "</table>\n",
       "</div>"
      ],
      "text/plain": [
       "                   A         B         C\n",
       "2001-04-12  0.721237  1.072117 -1.197498\n",
       "2001-04-13 -0.586531  0.129209  1.222013\n",
       "2001-04-14 -1.226448 -1.088437 -1.481188\n",
       "2001-04-15  0.128057  0.949456 -1.823387"
      ]
     },
     "execution_count": 52,
     "metadata": {},
     "output_type": "execute_result"
    }
   ],
   "source": [
    "# We can also truncate the part after colon , by defalut it will give till last\n",
    "fra3['20010412':'20010415']"
   ]
  },
  {
   "cell_type": "code",
   "execution_count": 53,
   "metadata": {},
   "outputs": [
    {
     "data": {
      "text/html": [
       "<div>\n",
       "<style scoped>\n",
       "    .dataframe tbody tr th:only-of-type {\n",
       "        vertical-align: middle;\n",
       "    }\n",
       "\n",
       "    .dataframe tbody tr th {\n",
       "        vertical-align: top;\n",
       "    }\n",
       "\n",
       "    .dataframe thead th {\n",
       "        text-align: right;\n",
       "    }\n",
       "</style>\n",
       "<table border=\"1\" class=\"dataframe\">\n",
       "  <thead>\n",
       "    <tr style=\"text-align: right;\">\n",
       "      <th></th>\n",
       "      <th>A</th>\n",
       "      <th>B</th>\n",
       "      <th>C</th>\n",
       "    </tr>\n",
       "  </thead>\n",
       "  <tbody>\n",
       "    <tr>\n",
       "      <th>2001-04-10</th>\n",
       "      <td>0.322402</td>\n",
       "      <td>-1.235148</td>\n",
       "      <td>-1.017586</td>\n",
       "    </tr>\n",
       "    <tr>\n",
       "      <th>2001-04-11</th>\n",
       "      <td>0.608840</td>\n",
       "      <td>0.011335</td>\n",
       "      <td>-1.384341</td>\n",
       "    </tr>\n",
       "    <tr>\n",
       "      <th>2001-04-12</th>\n",
       "      <td>0.721237</td>\n",
       "      <td>1.072117</td>\n",
       "      <td>-1.197498</td>\n",
       "    </tr>\n",
       "    <tr>\n",
       "      <th>2001-04-13</th>\n",
       "      <td>-0.586531</td>\n",
       "      <td>0.129209</td>\n",
       "      <td>1.222013</td>\n",
       "    </tr>\n",
       "    <tr>\n",
       "      <th>2001-04-14</th>\n",
       "      <td>-1.226448</td>\n",
       "      <td>-1.088437</td>\n",
       "      <td>-1.481188</td>\n",
       "    </tr>\n",
       "    <tr>\n",
       "      <th>2001-04-15</th>\n",
       "      <td>0.128057</td>\n",
       "      <td>0.949456</td>\n",
       "      <td>-1.823387</td>\n",
       "    </tr>\n",
       "  </tbody>\n",
       "</table>\n",
       "</div>"
      ],
      "text/plain": [
       "                   A         B         C\n",
       "2001-04-10  0.322402 -1.235148 -1.017586\n",
       "2001-04-11  0.608840  0.011335 -1.384341\n",
       "2001-04-12  0.721237  1.072117 -1.197498\n",
       "2001-04-13 -0.586531  0.129209  1.222013\n",
       "2001-04-14 -1.226448 -1.088437 -1.481188\n",
       "2001-04-15  0.128057  0.949456 -1.823387"
      ]
     },
     "execution_count": 53,
     "metadata": {},
     "output_type": "execute_result"
    }
   ],
   "source": [
    "fra3"
   ]
  },
  {
   "cell_type": "code",
   "execution_count": 57,
   "metadata": {},
   "outputs": [
    {
     "data": {
      "text/plain": [
       "A    0.322402\n",
       "B   -1.235148\n",
       "C   -1.017586\n",
       "Name: 2001-04-10 00:00:00, dtype: float64"
      ]
     },
     "execution_count": 57,
     "metadata": {},
     "output_type": "execute_result"
    }
   ],
   "source": [
    "# selection by label , to display first row\n",
    "fra3.loc[dates[0]]"
   ]
  },
  {
   "cell_type": "code",
   "execution_count": 58,
   "metadata": {},
   "outputs": [
    {
     "data": {
      "text/html": [
       "<div>\n",
       "<style scoped>\n",
       "    .dataframe tbody tr th:only-of-type {\n",
       "        vertical-align: middle;\n",
       "    }\n",
       "\n",
       "    .dataframe tbody tr th {\n",
       "        vertical-align: top;\n",
       "    }\n",
       "\n",
       "    .dataframe thead th {\n",
       "        text-align: right;\n",
       "    }\n",
       "</style>\n",
       "<table border=\"1\" class=\"dataframe\">\n",
       "  <thead>\n",
       "    <tr style=\"text-align: right;\">\n",
       "      <th></th>\n",
       "      <th>A</th>\n",
       "      <th>B</th>\n",
       "    </tr>\n",
       "  </thead>\n",
       "  <tbody>\n",
       "    <tr>\n",
       "      <th>2001-04-10</th>\n",
       "      <td>0.322402</td>\n",
       "      <td>-1.235148</td>\n",
       "    </tr>\n",
       "    <tr>\n",
       "      <th>2001-04-11</th>\n",
       "      <td>0.608840</td>\n",
       "      <td>0.011335</td>\n",
       "    </tr>\n",
       "    <tr>\n",
       "      <th>2001-04-12</th>\n",
       "      <td>0.721237</td>\n",
       "      <td>1.072117</td>\n",
       "    </tr>\n",
       "    <tr>\n",
       "      <th>2001-04-13</th>\n",
       "      <td>-0.586531</td>\n",
       "      <td>0.129209</td>\n",
       "    </tr>\n",
       "    <tr>\n",
       "      <th>2001-04-14</th>\n",
       "      <td>-1.226448</td>\n",
       "      <td>-1.088437</td>\n",
       "    </tr>\n",
       "    <tr>\n",
       "      <th>2001-04-15</th>\n",
       "      <td>0.128057</td>\n",
       "      <td>0.949456</td>\n",
       "    </tr>\n",
       "  </tbody>\n",
       "</table>\n",
       "</div>"
      ],
      "text/plain": [
       "                   A         B\n",
       "2001-04-10  0.322402 -1.235148\n",
       "2001-04-11  0.608840  0.011335\n",
       "2001-04-12  0.721237  1.072117\n",
       "2001-04-13 -0.586531  0.129209\n",
       "2001-04-14 -1.226448 -1.088437\n",
       "2001-04-15  0.128057  0.949456"
      ]
     },
     "execution_count": 58,
     "metadata": {},
     "output_type": "execute_result"
    }
   ],
   "source": [
    "# Selection on multi axis label\n",
    "fra3.loc[:,['A','B']]"
   ]
  },
  {
   "cell_type": "code",
   "execution_count": 77,
   "metadata": {},
   "outputs": [
    {
     "data": {
      "text/html": [
       "<div>\n",
       "<style scoped>\n",
       "    .dataframe tbody tr th:only-of-type {\n",
       "        vertical-align: middle;\n",
       "    }\n",
       "\n",
       "    .dataframe tbody tr th {\n",
       "        vertical-align: top;\n",
       "    }\n",
       "\n",
       "    .dataframe thead th {\n",
       "        text-align: right;\n",
       "    }\n",
       "</style>\n",
       "<table border=\"1\" class=\"dataframe\">\n",
       "  <thead>\n",
       "    <tr style=\"text-align: right;\">\n",
       "      <th></th>\n",
       "      <th>A</th>\n",
       "      <th>C</th>\n",
       "    </tr>\n",
       "  </thead>\n",
       "  <tbody>\n",
       "    <tr>\n",
       "      <th>2001-04-10</th>\n",
       "      <td>0.322402</td>\n",
       "      <td>-1.017586</td>\n",
       "    </tr>\n",
       "    <tr>\n",
       "      <th>2001-04-11</th>\n",
       "      <td>0.608840</td>\n",
       "      <td>-1.384341</td>\n",
       "    </tr>\n",
       "    <tr>\n",
       "      <th>2001-04-12</th>\n",
       "      <td>0.721237</td>\n",
       "      <td>-1.197498</td>\n",
       "    </tr>\n",
       "    <tr>\n",
       "      <th>2001-04-13</th>\n",
       "      <td>-0.586531</td>\n",
       "      <td>1.222013</td>\n",
       "    </tr>\n",
       "  </tbody>\n",
       "</table>\n",
       "</div>"
      ],
      "text/plain": [
       "                   A         C\n",
       "2001-04-10  0.322402 -1.017586\n",
       "2001-04-11  0.608840 -1.384341\n",
       "2001-04-12  0.721237 -1.197498\n",
       "2001-04-13 -0.586531  1.222013"
      ]
     },
     "execution_count": 77,
     "metadata": {},
     "output_type": "execute_result"
    }
   ],
   "source": [
    "# Selection on multi axis label with slicing\n",
    "fra3.loc['20010410':'20010413',['A','C']]"
   ]
  },
  {
   "cell_type": "code",
   "execution_count": 61,
   "metadata": {},
   "outputs": [
    {
     "data": {
      "text/plain": [
       "0.32240249300582025"
      ]
     },
     "execution_count": 61,
     "metadata": {},
     "output_type": "execute_result"
    }
   ],
   "source": [
    "# Selection through multi lables same as above , but redeem single value\n",
    "fra3.loc[dates[0],'A']"
   ]
  },
  {
   "cell_type": "code",
   "execution_count": 64,
   "metadata": {},
   "outputs": [
    {
     "data": {
      "text/plain": [
       "A    0.322402\n",
       "B   -1.235148\n",
       "Name: 2001-04-10 00:00:00, dtype: float64"
      ]
     },
     "execution_count": 64,
     "metadata": {},
     "output_type": "execute_result"
    }
   ],
   "source": [
    "# Another method of doing the same as above .\n",
    "fra3.loc[dates[0],['A','B']]"
   ]
  },
  {
   "cell_type": "code",
   "execution_count": 65,
   "metadata": {},
   "outputs": [
    {
     "data": {
      "text/plain": [
       "0.32240249300582025"
      ]
     },
     "execution_count": 65,
     "metadata": {},
     "output_type": "execute_result"
    }
   ],
   "source": [
    "# Another method of doing same as above but faster\n",
    "fra3.at[dates[0],'A']"
   ]
  },
  {
   "cell_type": "code",
   "execution_count": 66,
   "metadata": {},
   "outputs": [
    {
     "data": {
      "text/html": [
       "<div>\n",
       "<style scoped>\n",
       "    .dataframe tbody tr th:only-of-type {\n",
       "        vertical-align: middle;\n",
       "    }\n",
       "\n",
       "    .dataframe tbody tr th {\n",
       "        vertical-align: top;\n",
       "    }\n",
       "\n",
       "    .dataframe thead th {\n",
       "        text-align: right;\n",
       "    }\n",
       "</style>\n",
       "<table border=\"1\" class=\"dataframe\">\n",
       "  <thead>\n",
       "    <tr style=\"text-align: right;\">\n",
       "      <th></th>\n",
       "      <th>A</th>\n",
       "      <th>B</th>\n",
       "      <th>C</th>\n",
       "    </tr>\n",
       "  </thead>\n",
       "  <tbody>\n",
       "    <tr>\n",
       "      <th>2001-04-10</th>\n",
       "      <td>0.322402</td>\n",
       "      <td>-1.235148</td>\n",
       "      <td>-1.017586</td>\n",
       "    </tr>\n",
       "    <tr>\n",
       "      <th>2001-04-11</th>\n",
       "      <td>0.608840</td>\n",
       "      <td>0.011335</td>\n",
       "      <td>-1.384341</td>\n",
       "    </tr>\n",
       "    <tr>\n",
       "      <th>2001-04-12</th>\n",
       "      <td>0.721237</td>\n",
       "      <td>1.072117</td>\n",
       "      <td>-1.197498</td>\n",
       "    </tr>\n",
       "    <tr>\n",
       "      <th>2001-04-13</th>\n",
       "      <td>-0.586531</td>\n",
       "      <td>0.129209</td>\n",
       "      <td>1.222013</td>\n",
       "    </tr>\n",
       "    <tr>\n",
       "      <th>2001-04-14</th>\n",
       "      <td>-1.226448</td>\n",
       "      <td>-1.088437</td>\n",
       "      <td>-1.481188</td>\n",
       "    </tr>\n",
       "    <tr>\n",
       "      <th>2001-04-15</th>\n",
       "      <td>0.128057</td>\n",
       "      <td>0.949456</td>\n",
       "      <td>-1.823387</td>\n",
       "    </tr>\n",
       "  </tbody>\n",
       "</table>\n",
       "</div>"
      ],
      "text/plain": [
       "                   A         B         C\n",
       "2001-04-10  0.322402 -1.235148 -1.017586\n",
       "2001-04-11  0.608840  0.011335 -1.384341\n",
       "2001-04-12  0.721237  1.072117 -1.197498\n",
       "2001-04-13 -0.586531  0.129209  1.222013\n",
       "2001-04-14 -1.226448 -1.088437 -1.481188\n",
       "2001-04-15  0.128057  0.949456 -1.823387"
      ]
     },
     "execution_count": 66,
     "metadata": {},
     "output_type": "execute_result"
    }
   ],
   "source": [
    "fra3"
   ]
  },
  {
   "cell_type": "code",
   "execution_count": 67,
   "metadata": {},
   "outputs": [
    {
     "data": {
      "text/plain": [
       "A   -0.586531\n",
       "B    0.129209\n",
       "C    1.222013\n",
       "Name: 2001-04-13 00:00:00, dtype: float64"
      ]
     },
     "execution_count": 67,
     "metadata": {},
     "output_type": "execute_result"
    }
   ],
   "source": [
    "# Selecting through via position of passed integers\n",
    "fra3.iloc[3]"
   ]
  },
  {
   "cell_type": "code",
   "execution_count": 72,
   "metadata": {},
   "outputs": [
    {
     "data": {
      "text/html": [
       "<div>\n",
       "<style scoped>\n",
       "    .dataframe tbody tr th:only-of-type {\n",
       "        vertical-align: middle;\n",
       "    }\n",
       "\n",
       "    .dataframe tbody tr th {\n",
       "        vertical-align: top;\n",
       "    }\n",
       "\n",
       "    .dataframe thead th {\n",
       "        text-align: right;\n",
       "    }\n",
       "</style>\n",
       "<table border=\"1\" class=\"dataframe\">\n",
       "  <thead>\n",
       "    <tr style=\"text-align: right;\">\n",
       "      <th></th>\n",
       "      <th>A</th>\n",
       "      <th>B</th>\n",
       "    </tr>\n",
       "  </thead>\n",
       "  <tbody>\n",
       "    <tr>\n",
       "      <th>2001-04-13</th>\n",
       "      <td>-0.586531</td>\n",
       "      <td>0.129209</td>\n",
       "    </tr>\n",
       "    <tr>\n",
       "      <th>2001-04-14</th>\n",
       "      <td>-1.226448</td>\n",
       "      <td>-1.088437</td>\n",
       "    </tr>\n",
       "  </tbody>\n",
       "</table>\n",
       "</div>"
      ],
      "text/plain": [
       "                   A         B\n",
       "2001-04-13 -0.586531  0.129209\n",
       "2001-04-14 -1.226448 -1.088437"
      ]
     },
     "execution_count": 72,
     "metadata": {},
     "output_type": "execute_result"
    }
   ],
   "source": [
    "# It's same like loc but instead we use position in this case\n",
    "fra3.iloc[3:5,0:2]"
   ]
  },
  {
   "cell_type": "code",
   "execution_count": 73,
   "metadata": {},
   "outputs": [
    {
     "data": {
      "text/html": [
       "<div>\n",
       "<style scoped>\n",
       "    .dataframe tbody tr th:only-of-type {\n",
       "        vertical-align: middle;\n",
       "    }\n",
       "\n",
       "    .dataframe tbody tr th {\n",
       "        vertical-align: top;\n",
       "    }\n",
       "\n",
       "    .dataframe thead th {\n",
       "        text-align: right;\n",
       "    }\n",
       "</style>\n",
       "<table border=\"1\" class=\"dataframe\">\n",
       "  <thead>\n",
       "    <tr style=\"text-align: right;\">\n",
       "      <th></th>\n",
       "      <th>A</th>\n",
       "      <th>C</th>\n",
       "    </tr>\n",
       "  </thead>\n",
       "  <tbody>\n",
       "    <tr>\n",
       "      <th>2001-04-10</th>\n",
       "      <td>0.322402</td>\n",
       "      <td>-1.017586</td>\n",
       "    </tr>\n",
       "    <tr>\n",
       "      <th>2001-04-11</th>\n",
       "      <td>0.608840</td>\n",
       "      <td>-1.384341</td>\n",
       "    </tr>\n",
       "    <tr>\n",
       "      <th>2001-04-12</th>\n",
       "      <td>0.721237</td>\n",
       "      <td>-1.197498</td>\n",
       "    </tr>\n",
       "  </tbody>\n",
       "</table>\n",
       "</div>"
      ],
      "text/plain": [
       "                   A         C\n",
       "2001-04-10  0.322402 -1.017586\n",
       "2001-04-11  0.608840 -1.384341\n",
       "2001-04-12  0.721237 -1.197498"
      ]
     },
     "execution_count": 73,
     "metadata": {},
     "output_type": "execute_result"
    }
   ],
   "source": [
    "fra3.iloc[[0,1,2],[0,2]]"
   ]
  },
  {
   "cell_type": "code",
   "execution_count": 76,
   "metadata": {},
   "outputs": [
    {
     "data": {
      "text/html": [
       "<div>\n",
       "<style scoped>\n",
       "    .dataframe tbody tr th:only-of-type {\n",
       "        vertical-align: middle;\n",
       "    }\n",
       "\n",
       "    .dataframe tbody tr th {\n",
       "        vertical-align: top;\n",
       "    }\n",
       "\n",
       "    .dataframe thead th {\n",
       "        text-align: right;\n",
       "    }\n",
       "</style>\n",
       "<table border=\"1\" class=\"dataframe\">\n",
       "  <thead>\n",
       "    <tr style=\"text-align: right;\">\n",
       "      <th></th>\n",
       "      <th>A</th>\n",
       "      <th>C</th>\n",
       "    </tr>\n",
       "  </thead>\n",
       "  <tbody>\n",
       "    <tr>\n",
       "      <th>2001-04-10</th>\n",
       "      <td>0.322402</td>\n",
       "      <td>-1.017586</td>\n",
       "    </tr>\n",
       "    <tr>\n",
       "      <th>2001-04-11</th>\n",
       "      <td>0.608840</td>\n",
       "      <td>-1.384341</td>\n",
       "    </tr>\n",
       "    <tr>\n",
       "      <th>2001-04-12</th>\n",
       "      <td>0.721237</td>\n",
       "      <td>-1.197498</td>\n",
       "    </tr>\n",
       "  </tbody>\n",
       "</table>\n",
       "</div>"
      ],
      "text/plain": [
       "                   A         C\n",
       "2001-04-10  0.322402 -1.017586\n",
       "2001-04-11  0.608840 -1.384341\n",
       "2001-04-12  0.721237 -1.197498"
      ]
     },
     "execution_count": 76,
     "metadata": {},
     "output_type": "execute_result"
    }
   ],
   "source": [
    "# Same as above\n",
    "fra3.iloc[0:3,[0,2]]"
   ]
  },
  {
   "cell_type": "code",
   "execution_count": 78,
   "metadata": {},
   "outputs": [
    {
     "data": {
      "text/plain": [
       "0.32240249300582025"
      ]
     },
     "execution_count": 78,
     "metadata": {},
     "output_type": "execute_result"
    }
   ],
   "source": [
    "fra3.iloc[0,0]"
   ]
  },
  {
   "cell_type": "code",
   "execution_count": 79,
   "metadata": {},
   "outputs": [
    {
     "data": {
      "text/plain": [
       "0.32240249300582025"
      ]
     },
     "execution_count": 79,
     "metadata": {},
     "output_type": "execute_result"
    }
   ],
   "source": [
    "# For faster access in iloc is same as loc\n",
    "fra3.iat[0,0]"
   ]
  },
  {
   "cell_type": "code",
   "execution_count": null,
   "metadata": {},
   "outputs": [],
   "source": []
  }
 ],
 "metadata": {
  "kernelspec": {
   "display_name": "Python 3",
   "language": "python",
   "name": "python3"
  },
  "language_info": {
   "codemirror_mode": {
    "name": "ipython",
    "version": 3
   },
   "file_extension": ".py",
   "mimetype": "text/x-python",
   "name": "python",
   "nbconvert_exporter": "python",
   "pygments_lexer": "ipython3",
   "version": "3.8.3"
  }
 },
 "nbformat": 4,
 "nbformat_minor": 4
}
